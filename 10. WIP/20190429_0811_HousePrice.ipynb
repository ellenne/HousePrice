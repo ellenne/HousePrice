{
  "nbformat": 4,
  "nbformat_minor": 0,
  "metadata": {
    "colab": {
      "name": "20190429 0811 HousePrice.ipynb",
      "version": "0.3.2",
      "provenance": [],
      "collapsed_sections": [],
      "include_colab_link": true
    },
    "kernelspec": {
      "name": "python3",
      "display_name": "Python 3"
    }
  },
  "cells": [
    {
      "cell_type": "markdown",
      "metadata": {
        "id": "view-in-github",
        "colab_type": "text"
      },
      "source": [
        "<a href=\"https://colab.research.google.com/github/ellenne/HousePrice/blob/master/10.%20WIP/20190429_0811_HousePrice.ipynb\" target=\"_parent\"><img src=\"https://colab.research.google.com/assets/colab-badge.svg\" alt=\"Open In Colab\"/></a>"
      ]
    },
    {
      "metadata": {
        "id": "F0cL_FHZ9247",
        "colab_type": "code",
        "colab": {}
      },
      "cell_type": "code",
      "source": [
        "import pandas as pd\n",
        "import matplotlib.pyplot as plt\n",
        "from matplotlib.gridspec import GridSpec\n",
        "import seaborn as sns\n",
        "import numpy as np\n",
        "import scipy.stats as stats\n",
        "import statsmodels.formula.api as smf\n",
        "import statsmodels.api as sm\n",
        "from sklearn.utils import check_array\n",
        "from sklearn.impute import SimpleImputer\n",
        "from sklearn.metrics import mean_squared_error, r2_score\n",
        "from sklearn.model_selection import train_test_split\n",
        "import warnings\n",
        "warnings.filterwarnings('ignore')\n",
        "# Definitions\n",
        "pd.set_option('display.float_format', lambda x: '%.3f' % x)\n",
        "%matplotlib inline"
      ],
      "execution_count": 0,
      "outputs": []
    },
    {
      "metadata": {
        "id": "U23cxYU498EX",
        "colab_type": "code",
        "colab": {}
      },
      "cell_type": "code",
      "source": [
        "train_url = 'https://raw.githubusercontent.com/ellenne/rawdata/master/train.csv'\n",
        "test_url = 'https://raw.githubusercontent.com/ellenne/rawdata/master/test.csv'"
      ],
      "execution_count": 0,
      "outputs": []
    },
    {
      "metadata": {
        "id": "Jg4ktKtTAd3t",
        "colab_type": "code",
        "colab": {}
      },
      "cell_type": "code",
      "source": [
        "df_train = pd.read_csv(train_url)\n",
        "df_test = pd.read_csv(test_url)"
      ],
      "execution_count": 0,
      "outputs": []
    },
    {
      "metadata": {
        "id": "lcH9yRSgCfFo",
        "colab_type": "text"
      },
      "cell_type": "markdown",
      "source": [
        "Here we separate our variables into numeric and categorical. We also take out the `Id` and `SalePrice` will be set as output variable"
      ]
    },
    {
      "metadata": {
        "id": "MHPC2HghCcJ8",
        "colab_type": "code",
        "outputId": "b3ba16b2-d047-4347-ed2a-d97600432f58",
        "colab": {
          "base_uri": "https://localhost:8080/",
          "height": 1470
        }
      },
      "cell_type": "code",
      "source": [
        "all_vars = list(df_train)\n",
        "output_var = 'SalePrice'\n",
        "num_vars = list(df_train._get_numeric_data())\n",
        "cat_vars = list(set(all_vars) - set(num_vars))\n",
        "num_vars = list(set(num_vars) - set(['SalePrice', 'Id']))\n",
        "(output_var, num_vars, cat_vars)"
      ],
      "execution_count": 194,
      "outputs": [
        {
          "output_type": "execute_result",
          "data": {
            "text/plain": [
              "('SalePrice',\n",
              " ['WoodDeckSF',\n",
              "  'BsmtHalfBath',\n",
              "  'EnclosedPorch',\n",
              "  'LotFrontage',\n",
              "  'BsmtUnfSF',\n",
              "  '3SsnPorch',\n",
              "  'OpenPorchSF',\n",
              "  'YearRemodAdd',\n",
              "  'BsmtFinSF2',\n",
              "  'LotArea',\n",
              "  '2ndFlrSF',\n",
              "  'ScreenPorch',\n",
              "  '1stFlrSF',\n",
              "  'OverallQual',\n",
              "  'FullBath',\n",
              "  'TotRmsAbvGrd',\n",
              "  'HalfBath',\n",
              "  'GarageArea',\n",
              "  'BsmtFullBath',\n",
              "  'LowQualFinSF',\n",
              "  'MSSubClass',\n",
              "  'Fireplaces',\n",
              "  'GrLivArea',\n",
              "  'KitchenAbvGr',\n",
              "  'PoolArea',\n",
              "  'MoSold',\n",
              "  'BedroomAbvGr',\n",
              "  'OverallCond',\n",
              "  'BsmtFinSF1',\n",
              "  'MasVnrArea',\n",
              "  'YearBuilt',\n",
              "  'YrSold',\n",
              "  'GarageCars',\n",
              "  'GarageYrBlt',\n",
              "  'MiscVal',\n",
              "  'TotalBsmtSF'],\n",
              " ['MasVnrType',\n",
              "  'Foundation',\n",
              "  'Heating',\n",
              "  'RoofStyle',\n",
              "  'HeatingQC',\n",
              "  'MiscFeature',\n",
              "  'MSZoning',\n",
              "  'FireplaceQu',\n",
              "  'Condition1',\n",
              "  'SaleType',\n",
              "  'SaleCondition',\n",
              "  'LandSlope',\n",
              "  'GarageFinish',\n",
              "  'BsmtExposure',\n",
              "  'Exterior2nd',\n",
              "  'Utilities',\n",
              "  'PavedDrive',\n",
              "  'PoolQC',\n",
              "  'Exterior1st',\n",
              "  'Fence',\n",
              "  'RoofMatl',\n",
              "  'Neighborhood',\n",
              "  'ExterCond',\n",
              "  'Alley',\n",
              "  'GarageType',\n",
              "  'CentralAir',\n",
              "  'KitchenQual',\n",
              "  'Condition2',\n",
              "  'LandContour',\n",
              "  'LotShape',\n",
              "  'BsmtQual',\n",
              "  'BsmtFinType1',\n",
              "  'GarageQual',\n",
              "  'BsmtFinType2',\n",
              "  'HouseStyle',\n",
              "  'ExterQual',\n",
              "  'Electrical',\n",
              "  'Street',\n",
              "  'GarageCond',\n",
              "  'LotConfig',\n",
              "  'BsmtCond',\n",
              "  'BldgType',\n",
              "  'Functional'])"
            ]
          },
          "metadata": {
            "tags": []
          },
          "execution_count": 194
        }
      ]
    },
    {
      "metadata": {
        "id": "x5j5pK9dCvV9",
        "colab_type": "code",
        "colab": {}
      },
      "cell_type": "code",
      "source": [
        "## for the categorical variables if there is a missing value the category MISSING is created and filled\n",
        "for c in cat_vars:\n",
        "    df_train[c] = df_train[c].astype('category')\n",
        "    if df_train[c].isnull().any():        \n",
        "        df_train[c] = df_train[c].cat.add_categories(['MISSING'])\n",
        "        df_train[c] = df_train[c].fillna('MISSING')"
      ],
      "execution_count": 0,
      "outputs": []
    },
    {
      "metadata": {
        "id": "YQ5_yuK-CzY8",
        "colab_type": "code",
        "colab": {}
      },
      "cell_type": "code",
      "source": [
        "## same for test set\n",
        "for c in cat_vars:\n",
        "    df_test[c] = df_test[c].astype('category')\n",
        "    if df_test[c].isnull().any():        \n",
        "        df_test[c] = df_test[c].cat.add_categories(['MISSING'])\n",
        "        df_test[c] = df_test[c].fillna('MISSING')"
      ],
      "execution_count": 0,
      "outputs": []
    },
    {
      "metadata": {
        "id": "m1BPrsCcC2WI",
        "colab_type": "code",
        "outputId": "ac9ceed0-0dd3-44e4-c330-2d0a776d0903",
        "colab": {
          "base_uri": "https://localhost:8080/",
          "height": 798
        }
      },
      "cell_type": "code",
      "source": [
        "# function to encode the categorical variables\n",
        "def encode(frame, feature):\n",
        "    list_1 = pd.DataFrame()\n",
        "    # level for each variable\n",
        "    list_1['level'] = frame[feature].unique()\n",
        "    # since we will make use of dictionaries, having the index will make the index the key (!!)\n",
        "    list_1.index = list_1.level\n",
        "    # connected mean of sales price for the current level\n",
        "    list_1['spmean'] = frame[[feature, output_var]].groupby(feature).mean()[output_var]\n",
        "    # then we have to order\n",
        "    list_1 = list_1.sort_values('spmean')\n",
        "    # then we can create the value that we want to assign - from 1 to rows list_1+1 (note we cannot use len because)\n",
        "    # list_1 is a dataframe and not a list\n",
        "    values = []\n",
        "    j = 1\n",
        "    for i in range(0, len(list_1)):\n",
        "        if list_1['level'][i].upper() in ['MISSING', 'NONE', 'NA', 'N']:\n",
        "            values.append(0)\n",
        "        else:\n",
        "            values.append(j)\n",
        "            j += 1\n",
        "            \n",
        "    list_1['value'] = values\n",
        "    # now let's make use of dictionaries that are so wonderful for cases like these\n",
        "    list_1 = list_1['value'].to_dict()    \n",
        "    for cat, o in list_1.items():\n",
        "        frame.loc[frame[feature] == cat, feature+'_E'] = o\n",
        "\n",
        "cat_vars_Enc = []\n",
        "for q in cat_vars:\n",
        "    encode(df_train, q)    \n",
        "    cat_vars_Enc.append(q+\"_E\")\n",
        "\n",
        "cat_vars_Enc"
      ],
      "execution_count": 197,
      "outputs": [
        {
          "output_type": "execute_result",
          "data": {
            "text/plain": [
              "['MasVnrType_E',\n",
              " 'Foundation_E',\n",
              " 'Heating_E',\n",
              " 'RoofStyle_E',\n",
              " 'HeatingQC_E',\n",
              " 'MiscFeature_E',\n",
              " 'MSZoning_E',\n",
              " 'FireplaceQu_E',\n",
              " 'Condition1_E',\n",
              " 'SaleType_E',\n",
              " 'SaleCondition_E',\n",
              " 'LandSlope_E',\n",
              " 'GarageFinish_E',\n",
              " 'BsmtExposure_E',\n",
              " 'Exterior2nd_E',\n",
              " 'Utilities_E',\n",
              " 'PavedDrive_E',\n",
              " 'PoolQC_E',\n",
              " 'Exterior1st_E',\n",
              " 'Fence_E',\n",
              " 'RoofMatl_E',\n",
              " 'Neighborhood_E',\n",
              " 'ExterCond_E',\n",
              " 'Alley_E',\n",
              " 'GarageType_E',\n",
              " 'CentralAir_E',\n",
              " 'KitchenQual_E',\n",
              " 'Condition2_E',\n",
              " 'LandContour_E',\n",
              " 'LotShape_E',\n",
              " 'BsmtQual_E',\n",
              " 'BsmtFinType1_E',\n",
              " 'GarageQual_E',\n",
              " 'BsmtFinType2_E',\n",
              " 'HouseStyle_E',\n",
              " 'ExterQual_E',\n",
              " 'Electrical_E',\n",
              " 'Street_E',\n",
              " 'GarageCond_E',\n",
              " 'LotConfig_E',\n",
              " 'BsmtCond_E',\n",
              " 'BldgType_E',\n",
              " 'Functional_E']"
            ]
          },
          "metadata": {
            "tags": []
          },
          "execution_count": 197
        }
      ]
    },
    {
      "metadata": {
        "id": "s9qiFaH4DBCl",
        "colab_type": "code",
        "outputId": "d4e1cc5d-6771-48ee-a0c0-f6f49ca38619",
        "colab": {
          "base_uri": "https://localhost:8080/",
          "height": 798
        }
      },
      "cell_type": "code",
      "source": [
        "# this method copies the encode of encodedFrame in frame. The underlying hypothesis is that the encoded frame contains\n",
        "# the raw variable and the encoded one that has the same name + '_E', so the method builds the dictionary level, value\n",
        "# and apply it to the frame. It fails if the frame contains values not present in the encodedFrame\n",
        "def copyEncode(encodedFrame, frame, feature):    \n",
        "    list_1 = pd.DataFrame()\n",
        "    # level for each variable\n",
        "    list_1['level'] = encodedFrame[feature].unique()    \n",
        "    levels = encodedFrame[feature].unique()    \n",
        "    # build the values\n",
        "    values = []\n",
        "    for lev in levels:\n",
        "        values.append(min(encodedFrame[feature + '_E'].loc[encodedFrame[feature] == lev]))\n",
        "    list_1['value'] = values\n",
        "    \n",
        "    # now let's make use of dictionaries that are so wonderful for cases like these\n",
        "    list_1d = {}\n",
        "    for val in values:\n",
        "        list_1d[list_1['level'][values.index(val)]] = val\n",
        "    # a missing element can be present in the test set but not in the training set\n",
        "    list_1d['MISSING'] = 0\n",
        "    list_1 = list_1d        \n",
        "    for cat, o in list_1.items():\n",
        "        frame.loc[frame[feature] == cat, feature+'_E'] = o\n",
        "        \n",
        "for q in cat_vars:\n",
        "    copyEncode(df_train, df_test, q)    \n",
        "    print(q+\"_E\")"
      ],
      "execution_count": 198,
      "outputs": [
        {
          "output_type": "stream",
          "text": [
            "MasVnrType_E\n",
            "Foundation_E\n",
            "Heating_E\n",
            "RoofStyle_E\n",
            "HeatingQC_E\n",
            "MiscFeature_E\n",
            "MSZoning_E\n",
            "FireplaceQu_E\n",
            "Condition1_E\n",
            "SaleType_E\n",
            "SaleCondition_E\n",
            "LandSlope_E\n",
            "GarageFinish_E\n",
            "BsmtExposure_E\n",
            "Exterior2nd_E\n",
            "Utilities_E\n",
            "PavedDrive_E\n",
            "PoolQC_E\n",
            "Exterior1st_E\n",
            "Fence_E\n",
            "RoofMatl_E\n",
            "Neighborhood_E\n",
            "ExterCond_E\n",
            "Alley_E\n",
            "GarageType_E\n",
            "CentralAir_E\n",
            "KitchenQual_E\n",
            "Condition2_E\n",
            "LandContour_E\n",
            "LotShape_E\n",
            "BsmtQual_E\n",
            "BsmtFinType1_E\n",
            "GarageQual_E\n",
            "BsmtFinType2_E\n",
            "HouseStyle_E\n",
            "ExterQual_E\n",
            "Electrical_E\n",
            "Street_E\n",
            "GarageCond_E\n",
            "LotConfig_E\n",
            "BsmtCond_E\n",
            "BldgType_E\n",
            "Functional_E\n"
          ],
          "name": "stdout"
        }
      ]
    },
    {
      "metadata": {
        "id": "z3N8g91nDGMz",
        "colab_type": "code",
        "outputId": "03f64b5b-54dd-46b8-c815-f90a499d9cdf",
        "colab": {
          "base_uri": "https://localhost:8080/",
          "height": 35
        }
      },
      "cell_type": "code",
      "source": [
        "df_train.shape, df_train.shape"
      ],
      "execution_count": 199,
      "outputs": [
        {
          "output_type": "execute_result",
          "data": {
            "text/plain": [
              "((1460, 124), (1460, 124))"
            ]
          },
          "metadata": {
            "tags": []
          },
          "execution_count": 199
        }
      ]
    },
    {
      "metadata": {
        "id": "X4ung6IQDKm6",
        "colab_type": "code",
        "outputId": "d132b4da-d7b7-49a6-bc16-5858f4b8eb36",
        "colab": {
          "base_uri": "https://localhost:8080/",
          "height": 35
        }
      },
      "cell_type": "code",
      "source": [
        "len(cat_vars) + len(cat_vars_Enc) + len(num_vars)"
      ],
      "execution_count": 200,
      "outputs": [
        {
          "output_type": "execute_result",
          "data": {
            "text/plain": [
              "122"
            ]
          },
          "metadata": {
            "tags": []
          },
          "execution_count": 200
        }
      ]
    },
    {
      "metadata": {
        "id": "wVtwqlNBDRHX",
        "colab_type": "text"
      },
      "cell_type": "markdown",
      "source": [
        "Let's define our KPI - Root Mean Squared Logaritmic Error. In the rank tihs is used as KPI to evaluate the model.  <br/>\n",
        "\n",
        "\n",
        "This function will be used to evaluate the goodness of the model."
      ]
    },
    {
      "metadata": {
        "id": "-c3hgde6DNpl",
        "colab_type": "code",
        "colab": {}
      },
      "cell_type": "code",
      "source": [
        "## RMSLE - Root Mean Squared Logaritmic Error\n",
        "## https://www.kaggle.com/marknagelberg/rmsle-function\n",
        "## This is the parameter used to rank models\n",
        "def rmsle(y_pred, y_test) : \n",
        "    assert len(y_test) == len(y_pred)\n",
        "    return np.sqrt(np.mean((np.log(1+y_pred) - np.log(1+y_test))**2))"
      ],
      "execution_count": 0,
      "outputs": []
    },
    {
      "metadata": {
        "id": "U9sfoKt2Dvjk",
        "colab_type": "text"
      },
      "cell_type": "markdown",
      "source": [
        "Now we will begin our feature engineering. We will add new features, simplify some and transform others so that we will have a wider range of features between which we can choose those that best fit our model."
      ]
    },
    {
      "metadata": {
        "id": "wOmMhkmaD70k",
        "colab_type": "code",
        "colab": {}
      },
      "cell_type": "code",
      "source": [
        "## variable simplification - I put S after the variable name\n",
        "\n",
        "df_train[\"SimplOverallQual_S\"] = df_train['OverallQual'].replace(\n",
        "    {1 : 1, 2 : 1, 3 : 1,        # bad\n",
        "     4 : 2, 5 : 2, 6 : 2,        # average\n",
        "     7 : 3, 8 : 3, 9 : 3, 10 : 3 # good\n",
        "    })\n",
        "\n",
        "df_train[\"SimplOverallCond_S\"] = df_train['OverallCond'].replace(\n",
        "    {1 : 1, 2 : 1, 3 : 1, # bad\n",
        "     4 : 2, 5 : 2, 6 : 2, # average\n",
        "     7 : 3, 8 : 3, 9 : 3, 10 : 3 # good\n",
        "    })\n",
        "\n",
        "df_train[\"SimplPoolQC_S\"] = df_train['PoolQC_E'].replace(\n",
        "    {1 : 1, 2 : 1, # average\n",
        "     3 : 2, 4 : 2  # good\n",
        "    })\n",
        "\n",
        "df_train[\"SimplGarageCond_S\"] = df_train['GarageCond_E'].replace(\n",
        "    {1 : 1, # bad\n",
        "     2 : 1, 3 : 1, # average\n",
        "     4 : 2, 5 : 2 # good\n",
        "     })\n",
        "\n",
        "df_train[\"SimplGarageQual_S\"] = df_train['GarageQual_E'].replace(\n",
        "    {1 : 1, # bad\n",
        "     2 : 1, 3 : 1, # average\n",
        "     4 : 2, 5 : 2 # good\n",
        "    })\n",
        "\n",
        "df_train[\"SimplFireplaceQu_S\"] = df_train['FireplaceQu_E'].replace(\n",
        "    {1 : 1, # bad\n",
        "     2 : 1, 3 : 1, # average\n",
        "     4 : 2, 5 : 2 # good\n",
        "    })\n",
        "\n",
        "df_train[\"SimplFunctional_S\"] = df_train['Functional_E'].replace(\n",
        "    {1 : 1, 2 : 1, # bad\n",
        "     3 : 2, 4 : 2, # major\n",
        "     5 : 3, 6 : 3, 7 : 3, # minor\n",
        "     8 : 4 # typical\n",
        "    })\n",
        "\n",
        "df_train[\"SimplKitchenQual_S\"] = df_train['KitchenQual_E'].replace(\n",
        "    {1 : 1, # bad\n",
        "     2 : 1, 3 : 1, # average\n",
        "     4 : 2, 5 : 2 # good\n",
        "    })\n",
        "\n",
        "df_train[\"SimplHeatingQC_S\"] = df_train['HeatingQC_E'].replace(\n",
        "    {1 : 1, # bad\n",
        "     2 : 1, 3 : 1, # average\n",
        "     4 : 2, 5 : 2 # good\n",
        "    })\n",
        "\n",
        "df_train[\"SimplBsmtFinType1_S\"] = df_train['BsmtFinType1_E'].replace(\n",
        "    {1 : 1, # unfinished\n",
        "     2 : 1, 3 : 1, # rec room\n",
        "     4 : 2, 5 : 2, 6 : 2 # living quarters\n",
        "    })\n",
        "\n",
        "df_train[\"SimplBsmtFinType2_S\"] = df_train['BsmtFinType2_E'].replace(\n",
        "    {1 : 1, # unfinished\n",
        "     2 : 1, 3 : 1, # rec room\n",
        "     4 : 2, 5 : 2, 6 : 2 # living quarters\n",
        "    })\n",
        "\n",
        "df_train[\"SimplBsmtCond_S\"] = df_train['BsmtCond_E'].replace(\n",
        "    {1 : 1, # bad\n",
        "     2 : 1, 3 : 1, # average\n",
        "     4 : 2, 5 : 2 # good\n",
        "    })\n",
        "\n",
        "df_train[\"SimplBsmtQual_S\"] = df_train['BsmtQual_E'].replace(\n",
        "    {1 : 1, # bad\n",
        "     2 : 1, 3 : 1, # average\n",
        "     4 : 2, 5 : 2 # good\n",
        "    })\n",
        "\n",
        "df_train[\"SimplExterCond_S\"] = df_train['ExterCond_E'].replace(\n",
        "    {1 : 1, # bad\n",
        "     2 : 1, 3 : 1, # average\n",
        "     4 : 2, 5 : 2 # good\n",
        "    })\n",
        "\n",
        "df_train[\"SimplExterQual_S\"] = df_train['ExterQual_E'].replace(\n",
        "    {1 : 1, # bad\n",
        "     2 : 1, 3 : 1, # average\n",
        "     4 : 2, 5 : 2 # good\n",
        "    })\n",
        "\n",
        "# House completed before sale or not\n",
        "df_train[\"BoughtOffPlan_S\"] = df_train['SaleCondition'].replace(\n",
        "    {\"Abnorml\" : 0, \"Alloca\" : 0, \"AdjLand\" : 0,\n",
        "     \"Family\" : 0, \"Normal\" : 0, \"Partial\" : 1})\n",
        "\n",
        "# Has masonry veneer or not\n",
        "df_train[\"HasMasVnr_S\"] = df_train['MasVnrType'].replace(\n",
        "    {\"BrkCmn\" : 1, \"BrkFace\" : 1, \"CBlock\" : 1, \"Stone\" : 1, \"None\" : 0, \"MISSING\": 0})"
      ],
      "execution_count": 0,
      "outputs": []
    },
    {
      "metadata": {
        "id": "yayn8-8cEDn7",
        "colab_type": "code",
        "colab": {}
      },
      "cell_type": "code",
      "source": [
        "## variable simplification in the training\n",
        "\n",
        "df_test[\"SimplOverallQual_S\"] = df_test['OverallQual'].replace(\n",
        "    {1 : 1, 2 : 1, 3 : 1,        # bad\n",
        "     4 : 2, 5 : 2, 6 : 2,        # average\n",
        "     7 : 3, 8 : 3, 9 : 3, 10 : 3 # good\n",
        "    })\n",
        "\n",
        "df_test[\"SimplOverallCond_S\"] = df_test['OverallCond'].replace(\n",
        "    {1 : 1, 2 : 1, 3 : 1, # bad\n",
        "     4 : 2, 5 : 2, 6 : 2, # average\n",
        "     7 : 3, 8 : 3, 9 : 3, 10 : 3 # good\n",
        "    })\n",
        "\n",
        "df_test[\"SimplPoolQC_S\"] = df_test['PoolQC_E'].replace(\n",
        "    {1 : 1, 2 : 1, # average\n",
        "     3 : 2, 4 : 2  # good\n",
        "    })\n",
        "\n",
        "df_test[\"SimplGarageCond_S\"] = df_test['GarageCond_E'].replace(\n",
        "    {1 : 1, # bad\n",
        "     2 : 1, 3 : 1, # average\n",
        "     4 : 2, 5 : 2 # good\n",
        "     })\n",
        "\n",
        "df_test[\"SimplGarageQual_S\"] = df_test['GarageQual_E'].replace(\n",
        "    {1 : 1, # bad\n",
        "     2 : 1, 3 : 1, # average\n",
        "     4 : 2, 5 : 2 # good\n",
        "    })\n",
        "\n",
        "df_test[\"SimplFireplaceQu_S\"] = df_test['FireplaceQu_E'].replace(\n",
        "    {1 : 1, # bad\n",
        "     2 : 1, 3 : 1, # average\n",
        "     4 : 2, 5 : 2 # good\n",
        "    })\n",
        "\n",
        "df_test[\"SimplFunctional_S\"] = df_test['Functional_E'].replace(\n",
        "    {1 : 1, 2 : 1, # bad\n",
        "     3 : 2, 4 : 2, # major\n",
        "     5 : 3, 6 : 3, 7 : 3, # minor\n",
        "     8 : 4 # typical\n",
        "    })\n",
        "\n",
        "df_test[\"SimplKitchenQual_S\"] = df_test['KitchenQual_E'].replace(\n",
        "    {1 : 1, # bad\n",
        "     2 : 1, 3 : 1, # average\n",
        "     4 : 2, 5 : 2 # good\n",
        "    })\n",
        "\n",
        "df_test[\"SimplHeatingQC_S\"] = df_test['HeatingQC_E'].replace(\n",
        "    {1 : 1, # bad\n",
        "     2 : 1, 3 : 1, # average\n",
        "     4 : 2, 5 : 2 # good\n",
        "    })\n",
        "\n",
        "df_test[\"SimplBsmtFinType1_S\"] = df_test['BsmtFinType1_E'].replace(\n",
        "    {1 : 1, # unfinished\n",
        "     2 : 1, 3 : 1, # rec room\n",
        "     4 : 2, 5 : 2, 6 : 2 # living quarters\n",
        "    })\n",
        "\n",
        "df_test[\"SimplBsmtFinType2_S\"] = df_test['BsmtFinType2_E'].replace(\n",
        "    {1 : 1, # unfinished\n",
        "     2 : 1, 3 : 1, # rec room\n",
        "     4 : 2, 5 : 2, 6 : 2 # living quarters\n",
        "    })\n",
        "\n",
        "df_test[\"SimplBsmtCond_S\"] = df_test['BsmtCond_E'].replace(\n",
        "    {1 : 1, # bad\n",
        "     2 : 1, 3 : 1, # average\n",
        "     4 : 2, 5 : 2 # good\n",
        "    })\n",
        "\n",
        "df_test[\"SimplBsmtQual_S\"] = df_test['BsmtQual_E'].replace(\n",
        "    {1 : 1, # bad\n",
        "     2 : 1, 3 : 1, # average\n",
        "     4 : 2, 5 : 2 # good\n",
        "    })\n",
        "\n",
        "df_test[\"SimplExterCond_S\"] = df_test['ExterCond_E'].replace(\n",
        "    {1 : 1, # bad\n",
        "     2 : 1, 3 : 1, # average\n",
        "     4 : 2, 5 : 2 # good\n",
        "    })\n",
        "\n",
        "df_test[\"SimplExterQual_S\"] = df_test['ExterQual_E'].replace(\n",
        "    {1 : 1, # bad\n",
        "     2 : 1, 3 : 1, # average\n",
        "     4 : 2, 5 : 2 # good\n",
        "    })\n",
        "\n",
        "# House completed before sale or not\n",
        "df_test[\"BoughtOffPlan_S\"] = df_test['SaleCondition'].replace(\n",
        "    {\"Abnorml\" : 0, \"Alloca\" : 0, \"AdjLand\" : 0,\n",
        "     \"Family\" : 0, \"Normal\" : 0, \"Partial\" : 1})\n",
        "\n",
        "# Has masonry veneer or not\n",
        "df_test[\"HasMasVnr_S\"] = df_test['MasVnrType'].replace(\n",
        "    {\"BrkCmn\" : 1, \"BrkFace\" : 1, \"CBlock\" : 1, \"Stone\" : 1, \"None\" : 0, \"MISSING\": 0})"
      ],
      "execution_count": 0,
      "outputs": []
    },
    {
      "metadata": {
        "id": "3ewAwcK4EIib",
        "colab_type": "code",
        "colab": {}
      },
      "cell_type": "code",
      "source": [
        "cat_vars_S = ['SimplOverallQual_S', 'SimplOverallCond_S', 'SimplPoolQC_S', \n",
        "              'SimplGarageCond_S', 'SimplGarageQual_S', 'SimplFireplaceQu_S', \n",
        "              'SimplFunctional_S', 'SimplKitchenQual_S', 'SimplHeatingQC_S', \n",
        "              'SimplBsmtFinType1_S', 'SimplBsmtFinType2_S', 'SimplBsmtCond_S', \n",
        "              'SimplBsmtQual_S', 'SimplExterCond_S', 'SimplExterQual_S', \n",
        "              'BoughtOffPlan_S', 'HasMasVnr_S']"
      ],
      "execution_count": 0,
      "outputs": []
    },
    {
      "metadata": {
        "id": "AGUqOqFzEMS3",
        "colab_type": "code",
        "colab": {}
      },
      "cell_type": "code",
      "source": [
        "df_train[\"OverallGrade_D\"] = df_train[\"OverallQual\"].astype(np.float64) * \\\n",
        "                              df_train[\"OverallCond\"].astype(np.float64)\n",
        "\n",
        "# Overall quality of the garage\n",
        "df_train[\"GarageGrade_D\"] = df_train[\"GarageQual_E\"].astype(np.float64) * \\\n",
        "                            df_train[\"GarageCond_E\"].astype(np.float64)\n",
        "\n",
        "# Overall quality of the exterior\n",
        "df_train[\"ExterGrade_D\"] = df_train[\"ExterQual_E\"].astype(np.float64) * \\\n",
        "                          df_train[\"ExterCond_E\"].astype(np.float64)\n",
        "\n",
        "# Overall kitchen score\n",
        "df_train[\"KitchenScore_D\"] = df_train[\"KitchenAbvGr\"].astype(np.float64) * \\\n",
        "                            df_train[\"KitchenQual_E\"].astype(np.float64)\n",
        "\n",
        "# Overall fireplace score\n",
        "df_train[\"FireplaceScore_D\"] = df_train[\"Fireplaces\"].astype(np.float64) * \\\n",
        "                              df_train[\"FireplaceQu_E\"].astype(np.float64)\n",
        "\n",
        "# Overall garage score\n",
        "df_train[\"GarageScore_D\"] = df_train[\"GarageArea\"].astype(np.float64) * \\\n",
        "                            df_train[\"GarageQual_E\"].astype(np.float64)\n",
        "\n",
        "# Overall pool score\n",
        "df_train[\"PoolScore_D\"] = df_train[\"PoolArea\"].astype(np.float64) * \\\n",
        "                          df_train[\"PoolQC_E\"].astype(np.float64)\n",
        "\n",
        "# Simplified overall quality of the house\n",
        "df_train[\"SimplOverallGrade_D\"] = df_train[\"SimplOverallQual_S\"].astype(np.float64) * \\\n",
        "                               df_train[\"SimplOverallCond_S\"].astype(np.float64)\n",
        "\n",
        "# Simplified overall pool score\n",
        "df_train[\"SimplPoolScore_D\"] = df_train[\"PoolArea\"].astype(np.float64) * \\\n",
        "                                df_train[\"SimplPoolQC_S\"].astype(np.float64)\n",
        "\n",
        "# Simplified overall garage score\n",
        "df_train[\"SimplGarageScore_D\"] = df_train[\"GarageArea\"].astype(np.float64) * \\\n",
        "                                df_train[\"SimplGarageQual_S\"].astype(np.float64)\n",
        "\n",
        "# Simplified overall fireplace score\n",
        "df_train[\"SimplFireplaceScore_D\"] = df_train[\"Fireplaces\"].astype(np.float64) *\\\n",
        "                              df_train[\"SimplFireplaceQu_S\"].astype(np.float64)\n",
        "\n",
        "# Simplified overall kitchen score\n",
        "df_train[\"SimplKitchenScore_D\"] = df_train[\"KitchenAbvGr\"].astype(np.float64) * \\\n",
        "                              df_train[\"SimplKitchenQual_S\"].astype(np.float64)\n",
        "\n",
        "# Total number of bathrooms\n",
        "df_train[\"TotalBath_D\"] = df_train[\"BsmtFullBath\"] + \\\n",
        "                        (0.5 * df_train[\"BsmtHalfBath\"]) + df_train[\"FullBath\"] +\\\n",
        "                        (0.5 * df_train[\"HalfBath\"])\n",
        "\n",
        "# Total SF for house (incl. basement)\n",
        "df_train[\"AllSF_D\"] = df_train[\"GrLivArea\"] + df_train[\"TotalBsmtSF\"]\n",
        "\n",
        "# Total SF for 1st + 2nd floors\n",
        "df_train[\"AllFlrsSF_D\"] = df_train[\"1stFlrSF\"] + df_train[\"2ndFlrSF\"]\n",
        "\n",
        "# Total SF for porch\n",
        "df_train[\"AllPorchSF_D\"] = df_train[\"OpenPorchSF\"] + df_train[\"EnclosedPorch\"] + \\\n",
        "                          df_train[\"3SsnPorch\"] + df_train[\"ScreenPorch\"]\n",
        "\n",
        "# Simplified overall quality of the exterior\n",
        "df_train[\"SimplExterGrade_D\"] = df_train[\"SimplExterQual_S\"].astype(np.float64) * \\\n",
        "                            df_train[\"SimplExterCond_S\"].astype(np.float64)"
      ],
      "execution_count": 0,
      "outputs": []
    },
    {
      "metadata": {
        "id": "AE7Kodt9E4ZA",
        "colab_type": "code",
        "colab": {}
      },
      "cell_type": "code",
      "source": [
        "# variable transformation in test set\n",
        "\n",
        "# Overall quality of the house\n",
        "df_test[\"OverallGrade_D\"] = df_test[\"OverallQual\"].astype(np.float64) * \\\n",
        "                            df_test[\"OverallCond\"].astype(np.float64)\n",
        "\n",
        "# Overall quality of the garage\n",
        "df_test[\"GarageGrade_D\"] = df_test[\"GarageQual_E\"].astype(np.float64) * \\\n",
        "                            df_test[\"GarageCond_E\"].astype(np.float64)\n",
        "\n",
        "# Overall quality of the exterior\n",
        "df_test[\"ExterGrade_D\"] = df_test[\"ExterQual_E\"].astype(np.float64) * \\\n",
        "                          df_test[\"ExterCond_E\"].astype(np.float64)\n",
        "\n",
        "# Overall kitchen score\n",
        "df_test[\"KitchenScore_D\"] = df_test[\"KitchenAbvGr\"].astype(np.float64) * \\\n",
        "                            df_test[\"KitchenQual_E\"].astype(np.float64)\n",
        "\n",
        "# Overall fireplace score\n",
        "df_test[\"FireplaceScore_D\"] = df_test[\"Fireplaces\"].astype(np.float64) * \\\n",
        "                              df_test[\"FireplaceQu_E\"].astype(np.float64)\n",
        "\n",
        "# Overall garage score\n",
        "df_test[\"GarageScore_D\"] = df_test[\"GarageArea\"].astype(np.float64) * \\\n",
        "                            df_test[\"GarageQual_E\"].astype(np.float64)\n",
        "\n",
        "# Overall pool score\n",
        "df_test[\"PoolScore_D\"] = df_test[\"PoolArea\"].astype(np.float64) * \\\n",
        "                          df_test[\"PoolQC_E\"].astype(np.float64)\n",
        "\n",
        "# Simplified overall quality of the house\n",
        "df_test[\"SimplOverallGrade_D\"] = df_test[\"SimplOverallQual_S\"].astype(np.float64) * \\\n",
        "                              df_test[\"SimplOverallCond_S\"].astype(np.float64)\n",
        "\n",
        "# Simplified overall pool score\n",
        "df_test[\"SimplPoolScore_D\"] = df_test[\"PoolArea\"].astype(np.float64) * \\\n",
        "                              df_test[\"SimplPoolQC_S\"].astype(np.float64)\n",
        "\n",
        "# Simplified overall garage score\n",
        "df_test[\"SimplGarageScore_D\"] = df_test[\"GarageArea\"].astype(np.float64) * \\\n",
        "                                df_test[\"SimplGarageQual_S\"].astype(np.float64)\n",
        "\n",
        "# Simplified overall fireplace score\n",
        "df_test[\"SimplFireplaceScore_D\"] = df_test[\"Fireplaces\"].astype(np.float64) * \\\n",
        "                                df_test[\"SimplFireplaceQu_S\"].astype(np.float64)\n",
        "\n",
        "# Simplified overall kitchen score\n",
        "df_test[\"SimplKitchenScore_D\"] = df_test[\"KitchenAbvGr\"].astype(np.float64) * \\\n",
        "                                df_test[\"SimplKitchenQual_S\"].astype(np.float64)\n",
        "\n",
        "# Total number of bathrooms\n",
        "df_test[\"TotalBath_D\"] = df_test[\"BsmtFullBath\"] + \\\n",
        "                        (0.5 * df_test[\"BsmtHalfBath\"]) + \\\n",
        "                          df_test[\"FullBath\"] + \\\n",
        "                        (0.5 * df_test[\"HalfBath\"])\n",
        "\n",
        "# Total SF for house (incl. basement)\n",
        "df_test[\"AllSF_D\"] = df_test[\"GrLivArea\"] + df_test[\"TotalBsmtSF\"]\n",
        "\n",
        "# Total SF for 1st + 2nd floors\n",
        "df_test[\"AllFlrsSF_D\"] = df_test[\"1stFlrSF\"] + df_test[\"2ndFlrSF\"]\n",
        "\n",
        "# Total SF for porch\n",
        "df_test[\"AllPorchSF_D\"] = df_test[\"OpenPorchSF\"] + df_test[\"EnclosedPorch\"] + \\\n",
        "                          df_test[\"3SsnPorch\"] + df_test[\"ScreenPorch\"]\n",
        "\n",
        "# Simplified overall quality of the exterior\n",
        "df_test[\"SimplExterGrade_D\"] = df_test[\"SimplExterQual_S\"].astype(np.float64) * \\\n",
        "                                df_test[\"SimplExterCond_S\"].astype(np.float64)"
      ],
      "execution_count": 0,
      "outputs": []
    },
    {
      "metadata": {
        "id": "ujvWj-WoFYO6",
        "colab_type": "code",
        "colab": {}
      },
      "cell_type": "code",
      "source": [
        "cat_vars_D = ['OverallGrade_D', 'GarageGrade_D', 'ExterGrade_D', 'KitchenScore_D', \n",
        "              'FireplaceScore_D', 'GarageScore_D', 'PoolScore_D', 'SimplOverallGrade_D', \n",
        "              'SimplPoolScore_D', 'SimplGarageScore_D', 'SimplFireplaceScore_D', \n",
        "              'SimplKitchenScore_D', 'TotalBath_D', 'AllSF_D', 'AllFlrsSF_D', \n",
        "              'AllPorchSF_D', 'SimplExterGrade_D']"
      ],
      "execution_count": 0,
      "outputs": []
    },
    {
      "metadata": {
        "id": "vNDc2sc8FbVR",
        "colab_type": "code",
        "colab": {}
      },
      "cell_type": "code",
      "source": [
        "# Create new features\n",
        "# 3* Polynomials on the top 10 existing features\n",
        "df_train[\"OverallQual_TL2\"] = np.log10(df_train[\"OverallQual\"] ** 2 + 1)\n",
        "df_train[\"OverallQual_TL3\"] = np.log10(df_train[\"OverallQual\"] ** 3 + 1)\n",
        "df_train[\"OverallQual_TSQ\"] = np.sqrt(df_train[\"OverallQual\"])\n",
        "df_train[\"OverallQual_TLOG\"] = np.log10(df_train[\"OverallQual\"] + 1)\n",
        "\n",
        "df_train[\"AllSF_TL2\"] = np.log10(df_train[\"AllSF_D\"] ** 2 + 1)\n",
        "df_train[\"AllSF_TL3\"] = np.log10(df_train[\"AllSF_D\"] ** 3 + 1)\n",
        "df_train[\"AllSF_TSQ\"] = np.sqrt(df_train[\"AllSF_D\"])\n",
        "df_train[\"AllSF_TLOG\"] = np.log10(df_train[\"AllSF_D\"] + 1)\n",
        "\n",
        "df_train[\"AllFlrsSF_TL2\"] = np.log10(df_train[\"AllFlrsSF_D\"] ** 2 + 1)\n",
        "df_train[\"AllFlrsSF_TL3\"] = np.log10(df_train[\"AllFlrsSF_D\"] ** 3 + 1)\n",
        "df_train[\"AllFlrsSF_TSQ\"] = np.sqrt(df_train[\"AllFlrsSF_D\"])\n",
        "df_train[\"AllFlrsSF_TLOG\"] = np.log10(df_train[\"AllFlrsSF_D\"] + 1)\n",
        "\n",
        "df_train[\"GrLivArea_TL2\"] = np.log10(df_train[\"GrLivArea\"] ** 2 + 1)\n",
        "df_train[\"GrLivArea_TL3\"] = np.log10(df_train[\"GrLivArea\"] ** 3 + 1)\n",
        "df_train[\"GrLivArea_TSQ\"] = np.sqrt(df_train[\"GrLivArea\"])\n",
        "df_train[\"GrLivArea_TLOG\"] = np.log10(df_train[\"GrLivArea\"] + 1)\n",
        "\n",
        "df_train[\"SimplOverallQual_TL2\"] = np.log10(df_train[\"SimplOverallQual_S\"] ** 2 + 1)\n",
        "df_train[\"SimplOverallQual_TL3\"] = np.log10(df_train[\"SimplOverallQual_S\"] ** 3 + 1)\n",
        "df_train[\"SimplOverallQual_TSQ\"] = np.sqrt(df_train[\"SimplOverallQual_S\"])\n",
        "df_train[\"SimplOverallQual_TLOG\"] = np.log10(df_train[\"SimplOverallQual_S\"] + 1)\n",
        "\n",
        "df_train[\"ExterQual_TL2\"] = np.log10(df_train[\"ExterQual_E\"] ** 2 + 1)\n",
        "df_train[\"ExterQual_TL3\"] = np.log10(df_train[\"ExterQual_E\"] ** 3 + 1)\n",
        "df_train[\"ExterQual_TSQ\"] = np.sqrt(df_train[\"ExterQual_E\"])\n",
        "df_train[\"ExterQual_TLOG\"] = np.log10(df_train[\"ExterQual_E\"] + 1) \n",
        "\n",
        "df_train[\"GarageCars_TL2\"] = np.log10(df_train[\"GarageCars\"] ** 2 + 1)\n",
        "df_train[\"GarageCars_TL3\"] = np.log10(df_train[\"GarageCars\"] ** 3 + 1)\n",
        "df_train[\"GarageCars_TSQ\"] = np.sqrt(df_train[\"GarageCars\"])\n",
        "df_train[\"GarageCars_TLOG\"] = np.log10(df_train[\"GarageCars\"] + 1)\n",
        "\n",
        "df_train[\"TotalBath_TL2\"] = np.log10(df_train[\"TotalBath_D\"] ** 2 + 1)\n",
        "df_train[\"TotalBath_TL3\"] = np.log10(df_train[\"TotalBath_D\"] ** 3 + 1)\n",
        "df_train[\"TotalBath_TSQ\"] = np.sqrt(df_train[\"TotalBath_D\"])\n",
        "df_train[\"TotalBath_TLOG\"] = np.log10(df_train[\"TotalBath_D\"] + 1)\n",
        "\n",
        "df_train[\"KitchenQual_TL2\"] = np.log10(df_train[\"KitchenQual_E\"] ** 2 + 1)\n",
        "df_train[\"KitchenQual_TL3\"] = np.log10(df_train[\"KitchenQual_E\"] ** 3 + 1)\n",
        "df_train[\"KitchenQual_TSQ\"] = np.sqrt(df_train[\"KitchenQual_E\"])\n",
        "df_train[\"KitchenQual_TLOG\"] = np.log10(df_train[\"KitchenQual_E\"] + 1)\n",
        "\n",
        "df_train[\"GarageScore_TL2\"] = np.log10(df_train[\"GarageScore_D\"] ** 2 + 1)\n",
        "df_train[\"GarageScore_TL3\"] = np.log10(df_train[\"GarageScore_D\"] ** 3 + 1)\n",
        "df_train[\"GarageScore_TSQ\"] = np.sqrt(df_train[\"GarageScore_D\"])\n",
        "df_train[\"GarageScore_TLOG\"] = np.log10(df_train[\"GarageScore_D\"] + 1)"
      ],
      "execution_count": 0,
      "outputs": []
    },
    {
      "metadata": {
        "id": "TVgzLYFjFf1q",
        "colab_type": "code",
        "colab": {}
      },
      "cell_type": "code",
      "source": [
        "# transformation for test set\n",
        "df_test[\"OverallQual_TL2\"] = np.log10(df_test[\"OverallQual\"] ** 2 + 1)\n",
        "df_test[\"OverallQual_TL3\"] = np.log10(df_test[\"OverallQual\"] ** 3 + 1)\n",
        "df_test[\"OverallQual_TSQ\"] = np.sqrt(df_test[\"OverallQual\"])\n",
        "df_test[\"OverallQual_TLOG\"] = np.log10(df_test[\"OverallQual\"] + 1)\n",
        "\n",
        "df_test[\"AllSF_TL2\"] = np.log10(df_test[\"AllSF_D\"] ** 2 + 1)\n",
        "df_test[\"AllSF_TL3\"] = np.log10(df_test[\"AllSF_D\"] ** 3 + 1)\n",
        "df_test[\"AllSF_TSQ\"] = np.sqrt(df_test[\"AllSF_D\"])\n",
        "df_test[\"AllSF_TLOG\"] = np.log10(df_test[\"AllSF_D\"] + 1)\n",
        "\n",
        "df_test[\"AllFlrsSF_TL2\"] = np.log10(df_test[\"AllFlrsSF_D\"] ** 2 + 1)\n",
        "df_test[\"AllFlrsSF_TL3\"] = np.log10(df_test[\"AllFlrsSF_D\"] ** 3 + 1)\n",
        "df_test[\"AllFlrsSF_TSQ\"] = np.sqrt(df_test[\"AllFlrsSF_D\"])\n",
        "df_test[\"AllFlrsSF_TLOG\"] = np.log10(df_test[\"AllFlrsSF_D\"] + 1)\n",
        "\n",
        "df_test[\"GrLivArea_TL2\"] = np.log10(df_test[\"GrLivArea\"] ** 2 + 1)\n",
        "df_test[\"GrLivArea_TL3\"] = np.log10(df_test[\"GrLivArea\"] ** 3 + 1)\n",
        "df_test[\"GrLivArea_TSQ\"] = np.sqrt(df_test[\"GrLivArea\"])\n",
        "df_test[\"GrLivArea_TLOG\"] = np.log10(df_test[\"GrLivArea\"] + 1)\n",
        "\n",
        "df_test[\"SimplOverallQual_TL2\"] = np.log10(df_test[\"SimplOverallQual_S\"] ** 2 + 1)\n",
        "df_test[\"SimplOverallQual_TL3\"] = np.log10(df_test[\"SimplOverallQual_S\"] ** 3 + 1)\n",
        "df_test[\"SimplOverallQual_TSQ\"] = np.sqrt(df_test[\"SimplOverallQual_S\"])\n",
        "df_test[\"SimplOverallQual_TLOG\"] = np.log10(df_test[\"SimplOverallQual_S\"] + 1)\n",
        "\n",
        "df_test[\"ExterQual_TL2\"] = np.log10(df_test[\"ExterQual_E\"] ** 2 + 1)\n",
        "df_test[\"ExterQual_TL3\"] = np.log10(df_test[\"ExterQual_E\"] ** 3 + 1)\n",
        "df_test[\"ExterQual_TSQ\"] = np.sqrt(df_test[\"ExterQual_E\"])\n",
        "df_test[\"ExterQual_TLOG\"] = np.log10(df_test[\"ExterQual_E\"] + 1) \n",
        "\n",
        "df_test[\"GarageCars_TL2\"] = np.log10(df_test[\"GarageCars\"] ** 2 + 1)\n",
        "df_test[\"GarageCars_TL3\"] = np.log10(df_test[\"GarageCars\"] ** 3 + 1)\n",
        "df_test[\"GarageCars_TSQ\"] = np.sqrt(df_test[\"GarageCars\"])\n",
        "df_test[\"GarageCars_TLOG\"] = np.log10(df_test[\"GarageCars\"] + 1)\n",
        "\n",
        "df_test[\"TotalBath_TL2\"] = np.log10(df_test[\"TotalBath_D\"] ** 2 + 1)\n",
        "df_test[\"TotalBath_TL3\"] = np.log10(df_test[\"TotalBath_D\"] ** 3 + 1)\n",
        "df_test[\"TotalBath_TSQ\"] = np.sqrt(df_test[\"TotalBath_D\"])\n",
        "df_test[\"TotalBath_TLOG\"] = np.log10(df_test[\"TotalBath_D\"] + 1)\n",
        "\n",
        "df_test[\"KitchenQual_TL2\"] = np.log10(df_test[\"KitchenQual_E\"] ** 2 + 1)\n",
        "df_test[\"KitchenQual_TL3\"] = np.log10(df_test[\"KitchenQual_E\"] ** 3 + 1)\n",
        "df_test[\"KitchenQual_TSQ\"] = np.sqrt(df_test[\"KitchenQual_E\"])\n",
        "df_test[\"KitchenQual_TLOG\"] = np.log10(df_test[\"KitchenQual_E\"] + 1)\n",
        "\n",
        "df_test[\"GarageScore_TL2\"] = np.log10(df_test[\"GarageScore_D\"] ** 2 + 1)\n",
        "df_test[\"GarageScore_TL3\"] = np.log10(df_test[\"GarageScore_D\"] ** 3 + 1)\n",
        "df_test[\"GarageScore_TSQ\"] = np.sqrt(df_test[\"GarageScore_D\"])\n",
        "df_test[\"GarageScore_TLOG\"] = np.log10(df_test[\"GarageScore_D\"] + 1)"
      ],
      "execution_count": 0,
      "outputs": []
    },
    {
      "metadata": {
        "id": "uMRqfDi7FjbQ",
        "colab_type": "code",
        "colab": {}
      },
      "cell_type": "code",
      "source": [
        "cat_vars_T = ['OverallQual_TL2', 'OverallQual_TL3', 'OverallQual_TSQ', 'OverallQual_TLOG',\n",
        "              'AllSF_TL2', 'AllSF_TL3', 'AllSF_TSQ', 'AllSF_TLOG', 'AllFlrsSF_TL2', \n",
        "              'AllFlrsSF_TL3', 'AllFlrsSF_TSQ', 'AllFlrsSF_TLOG', 'GrLivArea_TL2', \n",
        "              'GrLivArea_TL3', 'GrLivArea_TSQ', 'GrLivArea_TLOG', 'SimplOverallQual_TL2',\n",
        "              'SimplOverallQual_TL3', 'SimplOverallQual_TSQ', 'SimplOverallQual_TLOG', \n",
        "              'ExterQual_TL2', 'ExterQual_TL3', 'ExterQual_TSQ', 'ExterQual_TLOG', \n",
        "              'GarageCars_TL2', 'GarageCars_TL3', 'GarageCars_TSQ', 'GarageCars_TLOG', \n",
        "              'TotalBath_TL2', 'TotalBath_TL3', 'TotalBath_TSQ', 'TotalBath_TLOG', \n",
        "              'KitchenQual_TL2', 'KitchenQual_TL3', 'KitchenQual_TSQ', 'KitchenQual_TLOG',\n",
        "              'GarageScore_TL2', 'GarageScore_TL3', 'GarageScore_TSQ', 'GarageScore_TLOG']"
      ],
      "execution_count": 0,
      "outputs": []
    },
    {
      "metadata": {
        "id": "C3sBLogdFm75",
        "colab_type": "code",
        "outputId": "65f1d3ff-281c-4c39-d461-0bfa9060b482",
        "colab": {
          "base_uri": "https://localhost:8080/",
          "height": 35
        }
      },
      "cell_type": "code",
      "source": [
        "len(num_vars) + len(cat_vars_Enc) + len(cat_vars_D) + len(cat_vars_S) + len(cat_vars_T)"
      ],
      "execution_count": 211,
      "outputs": [
        {
          "output_type": "execute_result",
          "data": {
            "text/plain": [
              "153"
            ]
          },
          "metadata": {
            "tags": []
          },
          "execution_count": 211
        }
      ]
    },
    {
      "metadata": {
        "id": "4wDL8dEwFrTX",
        "colab_type": "code",
        "outputId": "12c77a09-31e0-4327-b5ae-262cc6827144",
        "colab": {
          "base_uri": "https://localhost:8080/",
          "height": 35
        }
      },
      "cell_type": "code",
      "source": [
        "all_vars = num_vars + cat_vars_Enc + cat_vars_D + cat_vars_S + cat_vars_T\n",
        "len(all_vars)"
      ],
      "execution_count": 212,
      "outputs": [
        {
          "output_type": "execute_result",
          "data": {
            "text/plain": [
              "153"
            ]
          },
          "metadata": {
            "tags": []
          },
          "execution_count": 212
        }
      ]
    },
    {
      "metadata": {
        "id": "XSHKfEZJB0Iw",
        "colab_type": "code",
        "outputId": "9bca60bb-3757-4946-9f4f-559ea0cfd38d",
        "colab": {
          "base_uri": "https://localhost:8080/",
          "height": 35
        }
      },
      "cell_type": "code",
      "source": [
        "# remove the variables containing NA from the dataframe\n",
        "vars_with_na = df_train.columns[df_train.isnull().any()]\n",
        "all_vars = list(set(all_vars) - set(vars_with_na))\n",
        "len(all_vars)"
      ],
      "execution_count": 213,
      "outputs": [
        {
          "output_type": "execute_result",
          "data": {
            "text/plain": [
              "150"
            ]
          },
          "metadata": {
            "tags": []
          },
          "execution_count": 213
        }
      ]
    },
    {
      "metadata": {
        "id": "GJ5TA9YDFzmR",
        "colab_type": "code",
        "outputId": "844f8852-a68c-40f1-d8cd-05269c8430ac",
        "colab": {
          "base_uri": "https://localhost:8080/",
          "height": 35
        }
      },
      "cell_type": "code",
      "source": [
        "output_var"
      ],
      "execution_count": 214,
      "outputs": [
        {
          "output_type": "execute_result",
          "data": {
            "text/plain": [
              "'SalePrice'"
            ]
          },
          "metadata": {
            "tags": []
          },
          "execution_count": 214
        }
      ]
    },
    {
      "metadata": {
        "id": "gfiIxacDF2z0",
        "colab_type": "code",
        "outputId": "5797f7fe-83f5-4775-f904-0294f31b2574",
        "colab": {
          "base_uri": "https://localhost:8080/",
          "height": 35
        }
      },
      "cell_type": "code",
      "source": [
        "# clearly in df_test the sales price is missing and this is the variable that the submission wants to forecast\n",
        "df_train.shape, df_test.shape"
      ],
      "execution_count": 215,
      "outputs": [
        {
          "output_type": "execute_result",
          "data": {
            "text/plain": [
              "((1460, 198), (1459, 197))"
            ]
          },
          "metadata": {
            "tags": []
          },
          "execution_count": 215
        }
      ]
    },
    {
      "metadata": {
        "id": "gElWM-vFF5mE",
        "colab_type": "code",
        "colab": {}
      },
      "cell_type": "code",
      "source": [
        "df_train['SalePrice_TLOG'] = np.log10(df_train[[output_var]] + 1)"
      ],
      "execution_count": 0,
      "outputs": []
    },
    {
      "metadata": {
        "id": "oyzCtqFuGBji",
        "colab_type": "text"
      },
      "cell_type": "markdown",
      "source": [
        "<ol>\n",
        "   <li> Split in Training and Test set (p=0.2)\n",
        "   <li>Initialise the RMSLE to +inf\n",
        "   <li> Iterate again to add more variables 3.1. Iterate over the 154 variables in the following way: \n",
        "     <ol>\n",
        "       <li> For i = 1 To 10:\n",
        "         <ol>\n",
        "           <li> Determine Training and Test set\n",
        "           <li> Build the model with the i-th variable on the Training set\n",
        "           <li> Forecast on the Test set and calculate predicted\n",
        "           <li> Calculate the RMSLE comparing predicted Y on Test and real Y on Test           \n",
        "         </ol>\n",
        "         <li>Calculate KPI i-th as the MEDIAN of RMSLE over the 10 validations \n",
        "         <li> If Current KPI > KPI i-th then update Current KPI and include the variable\n",
        "     </ol>\n",
        "     <li> Stop after N iterations if you fail to add a variable\n",
        "</ol>   "
      ]
    },
    {
      "metadata": {
        "id": "vP4wJqQJHfQs",
        "colab_type": "text"
      },
      "cell_type": "markdown",
      "source": [
        "Since I want to use the formula, I define the variable basket where I put a `v_` to all variables."
      ]
    },
    {
      "metadata": {
        "id": "AisJ5SHwI8ns",
        "colab_type": "code",
        "colab": {}
      },
      "cell_type": "code",
      "source": [
        "new_vars=[]\n",
        "all_vars_rn = []"
      ],
      "execution_count": 0,
      "outputs": []
    },
    {
      "metadata": {
        "id": "gzYCXr6aHN6C",
        "colab_type": "code",
        "outputId": "1023f7ec-eb78-4d47-e340-ed7801010a2b",
        "colab": {
          "base_uri": "https://localhost:8080/",
          "height": 3632
        }
      },
      "cell_type": "code",
      "source": [
        "vars = df_train.columns\n",
        "\n",
        "new_vars = []\n",
        "for a in vars:\n",
        "    new_vars.append('v_' + a)\n",
        "df_train.columns = new_vars\n",
        "all_vars_rn = []\n",
        "for a in all_vars:\n",
        "    all_vars_rn.append('v_' + a)\n",
        "new_vars"
      ],
      "execution_count": 218,
      "outputs": [
        {
          "output_type": "execute_result",
          "data": {
            "text/plain": [
              "['v_Id',\n",
              " 'v_MSSubClass',\n",
              " 'v_MSZoning',\n",
              " 'v_LotFrontage',\n",
              " 'v_LotArea',\n",
              " 'v_Street',\n",
              " 'v_Alley',\n",
              " 'v_LotShape',\n",
              " 'v_LandContour',\n",
              " 'v_Utilities',\n",
              " 'v_LotConfig',\n",
              " 'v_LandSlope',\n",
              " 'v_Neighborhood',\n",
              " 'v_Condition1',\n",
              " 'v_Condition2',\n",
              " 'v_BldgType',\n",
              " 'v_HouseStyle',\n",
              " 'v_OverallQual',\n",
              " 'v_OverallCond',\n",
              " 'v_YearBuilt',\n",
              " 'v_YearRemodAdd',\n",
              " 'v_RoofStyle',\n",
              " 'v_RoofMatl',\n",
              " 'v_Exterior1st',\n",
              " 'v_Exterior2nd',\n",
              " 'v_MasVnrType',\n",
              " 'v_MasVnrArea',\n",
              " 'v_ExterQual',\n",
              " 'v_ExterCond',\n",
              " 'v_Foundation',\n",
              " 'v_BsmtQual',\n",
              " 'v_BsmtCond',\n",
              " 'v_BsmtExposure',\n",
              " 'v_BsmtFinType1',\n",
              " 'v_BsmtFinSF1',\n",
              " 'v_BsmtFinType2',\n",
              " 'v_BsmtFinSF2',\n",
              " 'v_BsmtUnfSF',\n",
              " 'v_TotalBsmtSF',\n",
              " 'v_Heating',\n",
              " 'v_HeatingQC',\n",
              " 'v_CentralAir',\n",
              " 'v_Electrical',\n",
              " 'v_1stFlrSF',\n",
              " 'v_2ndFlrSF',\n",
              " 'v_LowQualFinSF',\n",
              " 'v_GrLivArea',\n",
              " 'v_BsmtFullBath',\n",
              " 'v_BsmtHalfBath',\n",
              " 'v_FullBath',\n",
              " 'v_HalfBath',\n",
              " 'v_BedroomAbvGr',\n",
              " 'v_KitchenAbvGr',\n",
              " 'v_KitchenQual',\n",
              " 'v_TotRmsAbvGrd',\n",
              " 'v_Functional',\n",
              " 'v_Fireplaces',\n",
              " 'v_FireplaceQu',\n",
              " 'v_GarageType',\n",
              " 'v_GarageYrBlt',\n",
              " 'v_GarageFinish',\n",
              " 'v_GarageCars',\n",
              " 'v_GarageArea',\n",
              " 'v_GarageQual',\n",
              " 'v_GarageCond',\n",
              " 'v_PavedDrive',\n",
              " 'v_WoodDeckSF',\n",
              " 'v_OpenPorchSF',\n",
              " 'v_EnclosedPorch',\n",
              " 'v_3SsnPorch',\n",
              " 'v_ScreenPorch',\n",
              " 'v_PoolArea',\n",
              " 'v_PoolQC',\n",
              " 'v_Fence',\n",
              " 'v_MiscFeature',\n",
              " 'v_MiscVal',\n",
              " 'v_MoSold',\n",
              " 'v_YrSold',\n",
              " 'v_SaleType',\n",
              " 'v_SaleCondition',\n",
              " 'v_SalePrice',\n",
              " 'v_MasVnrType_E',\n",
              " 'v_Foundation_E',\n",
              " 'v_Heating_E',\n",
              " 'v_RoofStyle_E',\n",
              " 'v_HeatingQC_E',\n",
              " 'v_MiscFeature_E',\n",
              " 'v_MSZoning_E',\n",
              " 'v_FireplaceQu_E',\n",
              " 'v_Condition1_E',\n",
              " 'v_SaleType_E',\n",
              " 'v_SaleCondition_E',\n",
              " 'v_LandSlope_E',\n",
              " 'v_GarageFinish_E',\n",
              " 'v_BsmtExposure_E',\n",
              " 'v_Exterior2nd_E',\n",
              " 'v_Utilities_E',\n",
              " 'v_PavedDrive_E',\n",
              " 'v_PoolQC_E',\n",
              " 'v_Exterior1st_E',\n",
              " 'v_Fence_E',\n",
              " 'v_RoofMatl_E',\n",
              " 'v_Neighborhood_E',\n",
              " 'v_ExterCond_E',\n",
              " 'v_Alley_E',\n",
              " 'v_GarageType_E',\n",
              " 'v_CentralAir_E',\n",
              " 'v_KitchenQual_E',\n",
              " 'v_Condition2_E',\n",
              " 'v_LandContour_E',\n",
              " 'v_LotShape_E',\n",
              " 'v_BsmtQual_E',\n",
              " 'v_BsmtFinType1_E',\n",
              " 'v_GarageQual_E',\n",
              " 'v_BsmtFinType2_E',\n",
              " 'v_HouseStyle_E',\n",
              " 'v_ExterQual_E',\n",
              " 'v_Electrical_E',\n",
              " 'v_Street_E',\n",
              " 'v_GarageCond_E',\n",
              " 'v_LotConfig_E',\n",
              " 'v_BsmtCond_E',\n",
              " 'v_BldgType_E',\n",
              " 'v_Functional_E',\n",
              " 'v_SimplOverallQual_S',\n",
              " 'v_SimplOverallCond_S',\n",
              " 'v_SimplPoolQC_S',\n",
              " 'v_SimplGarageCond_S',\n",
              " 'v_SimplGarageQual_S',\n",
              " 'v_SimplFireplaceQu_S',\n",
              " 'v_SimplFunctional_S',\n",
              " 'v_SimplKitchenQual_S',\n",
              " 'v_SimplHeatingQC_S',\n",
              " 'v_SimplBsmtFinType1_S',\n",
              " 'v_SimplBsmtFinType2_S',\n",
              " 'v_SimplBsmtCond_S',\n",
              " 'v_SimplBsmtQual_S',\n",
              " 'v_SimplExterCond_S',\n",
              " 'v_SimplExterQual_S',\n",
              " 'v_BoughtOffPlan_S',\n",
              " 'v_HasMasVnr_S',\n",
              " 'v_OverallGrade_D',\n",
              " 'v_GarageGrade_D',\n",
              " 'v_ExterGrade_D',\n",
              " 'v_KitchenScore_D',\n",
              " 'v_FireplaceScore_D',\n",
              " 'v_GarageScore_D',\n",
              " 'v_PoolScore_D',\n",
              " 'v_SimplOverallGrade_D',\n",
              " 'v_SimplPoolScore_D',\n",
              " 'v_SimplGarageScore_D',\n",
              " 'v_SimplFireplaceScore_D',\n",
              " 'v_SimplKitchenScore_D',\n",
              " 'v_TotalBath_D',\n",
              " 'v_AllSF_D',\n",
              " 'v_AllFlrsSF_D',\n",
              " 'v_AllPorchSF_D',\n",
              " 'v_SimplExterGrade_D',\n",
              " 'v_OverallQual_TL2',\n",
              " 'v_OverallQual_TL3',\n",
              " 'v_OverallQual_TSQ',\n",
              " 'v_OverallQual_TLOG',\n",
              " 'v_AllSF_TL2',\n",
              " 'v_AllSF_TL3',\n",
              " 'v_AllSF_TSQ',\n",
              " 'v_AllSF_TLOG',\n",
              " 'v_AllFlrsSF_TL2',\n",
              " 'v_AllFlrsSF_TL3',\n",
              " 'v_AllFlrsSF_TSQ',\n",
              " 'v_AllFlrsSF_TLOG',\n",
              " 'v_GrLivArea_TL2',\n",
              " 'v_GrLivArea_TL3',\n",
              " 'v_GrLivArea_TSQ',\n",
              " 'v_GrLivArea_TLOG',\n",
              " 'v_SimplOverallQual_TL2',\n",
              " 'v_SimplOverallQual_TL3',\n",
              " 'v_SimplOverallQual_TSQ',\n",
              " 'v_SimplOverallQual_TLOG',\n",
              " 'v_ExterQual_TL2',\n",
              " 'v_ExterQual_TL3',\n",
              " 'v_ExterQual_TSQ',\n",
              " 'v_ExterQual_TLOG',\n",
              " 'v_GarageCars_TL2',\n",
              " 'v_GarageCars_TL3',\n",
              " 'v_GarageCars_TSQ',\n",
              " 'v_GarageCars_TLOG',\n",
              " 'v_TotalBath_TL2',\n",
              " 'v_TotalBath_TL3',\n",
              " 'v_TotalBath_TSQ',\n",
              " 'v_TotalBath_TLOG',\n",
              " 'v_KitchenQual_TL2',\n",
              " 'v_KitchenQual_TL3',\n",
              " 'v_KitchenQual_TSQ',\n",
              " 'v_KitchenQual_TLOG',\n",
              " 'v_GarageScore_TL2',\n",
              " 'v_GarageScore_TL3',\n",
              " 'v_GarageScore_TSQ',\n",
              " 'v_GarageScore_TLOG',\n",
              " 'v_SalePrice_TLOG']"
            ]
          },
          "metadata": {
            "tags": []
          },
          "execution_count": 218
        }
      ]
    },
    {
      "metadata": {
        "id": "fW0simoDHsNF",
        "colab_type": "text"
      },
      "cell_type": "markdown",
      "source": [
        "Now I simulate one iteration and then I need to automate the procedure"
      ]
    },
    {
      "metadata": {
        "id": "IfGb9t6rHXKB",
        "colab_type": "code",
        "colab": {}
      },
      "cell_type": "code",
      "source": [
        "X = df_train[all_vars_rn]\n",
        "yL = df_train[['v_SalePrice_TLOG','v_SalePrice']]\n",
        "X_train, X_test, y_train, y_test = train_test_split(df_train[all_vars_rn], yL, test_size=0.2)"
      ],
      "execution_count": 0,
      "outputs": []
    },
    {
      "metadata": {
        "id": "EXnP7aGSHbln",
        "colab_type": "code",
        "outputId": "981bf2b1-f5a5-4fd4-ed1c-d5fa72be70e6",
        "colab": {
          "base_uri": "https://localhost:8080/",
          "height": 35
        }
      },
      "cell_type": "code",
      "source": [
        "X.shape, X_train.shape, yL.shape, y_train.shape, X_test.shape"
      ],
      "execution_count": 220,
      "outputs": [
        {
          "output_type": "execute_result",
          "data": {
            "text/plain": [
              "((1460, 150), (1168, 150), (1460, 2), (1168, 2), (292, 150))"
            ]
          },
          "metadata": {
            "tags": []
          },
          "execution_count": 220
        }
      ]
    },
    {
      "metadata": {
        "id": "SH1DHxVZHy1D",
        "colab_type": "code",
        "outputId": "8f39922d-15d3-4789-ed90-727cd920f616",
        "colab": {
          "base_uri": "https://localhost:8080/",
          "height": 35
        }
      },
      "cell_type": "code",
      "source": [
        "all_vars_rn[0]"
      ],
      "execution_count": 221,
      "outputs": [
        {
          "output_type": "execute_result",
          "data": {
            "text/plain": [
              "'v_BsmtFinType1_E'"
            ]
          },
          "metadata": {
            "tags": []
          },
          "execution_count": 221
        }
      ]
    },
    {
      "metadata": {
        "id": "MSHzONZXH2oW",
        "colab_type": "code",
        "outputId": "4d4b8461-20d1-4363-a1f6-aa0e69475697",
        "colab": {
          "base_uri": "https://localhost:8080/",
          "height": 471
        }
      },
      "cell_type": "code",
      "source": [
        "import statsmodels.formula.api as smf\n",
        "df_training = pd.DataFrame()\n",
        "df_training = X_train\n",
        "df_training['v_SalePrice_TLOG'] = y_train['v_SalePrice_TLOG']\n",
        "df_testing = pd.DataFrame()\n",
        "df_testing = X_test\n",
        "df_testing['v_SalePrice_TLOG'] = y_test['v_SalePrice_TLOG']\n",
        "model = smf.ols(formula = 'v_SalePrice_TLOG ~ ' + all_vars_rn[0], data = df_training)\n",
        "fitted = model.fit()\n",
        "print (fitted.summary())"
      ],
      "execution_count": 222,
      "outputs": [
        {
          "output_type": "stream",
          "text": [
            "                            OLS Regression Results                            \n",
            "==============================================================================\n",
            "Dep. Variable:       v_SalePrice_TLOG   R-squared:                       0.156\n",
            "Model:                            OLS   Adj. R-squared:                  0.155\n",
            "Method:                 Least Squares   F-statistic:                     215.3\n",
            "Date:                Mon, 29 Apr 2019   Prob (F-statistic):           7.35e-45\n",
            "Time:                        07:45:21   Log-Likelihood:                 488.58\n",
            "No. Observations:                1168   AIC:                            -973.2\n",
            "Df Residuals:                    1166   BIC:                            -963.0\n",
            "Df Model:                           1                                         \n",
            "Covariance Type:            nonrobust                                         \n",
            "====================================================================================\n",
            "                       coef    std err          t      P>|t|      [0.025      0.975]\n",
            "------------------------------------------------------------------------------------\n",
            "Intercept            5.0584      0.012    419.935      0.000       5.035       5.082\n",
            "v_BsmtFinType1_E     0.0385      0.003     14.673      0.000       0.033       0.044\n",
            "==============================================================================\n",
            "Omnibus:                       19.440   Durbin-Watson:                   1.982\n",
            "Prob(Omnibus):                  0.000   Jarque-Bera (JB):               34.169\n",
            "Skew:                          -0.065   Prob(JB):                     3.80e-08\n",
            "Kurtosis:                       3.828   Cond. No.                         12.3\n",
            "==============================================================================\n",
            "\n",
            "Warnings:\n",
            "[1] Standard Errors assume that the covariance matrix of the errors is correctly specified.\n"
          ],
          "name": "stdout"
        }
      ]
    },
    {
      "metadata": {
        "id": "jwy29MDpKBq-",
        "colab_type": "code",
        "outputId": "a9f4d98f-ca70-4c19-cf27-7c5603a0b8c7",
        "colab": {
          "base_uri": "https://localhost:8080/",
          "height": 35
        }
      },
      "cell_type": "code",
      "source": [
        "# checking the performance of the current variable\n",
        "y_NewLog = fitted.predict(df_testing)\n",
        "y_New = y_NewLog.apply(lambda x: 10 ** x)\n",
        "tpl = (all_vars_rn[0],rmsle(y_New, y_test['v_SalePrice']))\n",
        "tpl"
      ],
      "execution_count": 223,
      "outputs": [
        {
          "output_type": "execute_result",
          "data": {
            "text/plain": [
              "('v_BsmtFinType1_E', 0.36601924007105463)"
            ]
          },
          "metadata": {
            "tags": []
          },
          "execution_count": 223
        }
      ]
    },
    {
      "metadata": {
        "id": "7-uGc5HGLhCK",
        "colab_type": "code",
        "outputId": "b0e15b7e-0a37-4d9e-ad1e-297bc627f8a7",
        "colab": {
          "base_uri": "https://localhost:8080/",
          "height": 2762
        }
      },
      "cell_type": "code",
      "source": [
        "# setting for the iteration\n",
        "rs = 1 #random_state\n",
        "perf_iter = []\n",
        "perf_KPI = [] \n",
        "form_base = 'v_SalePrice_TLOG ~ '\n",
        "best_perf = 1000\n",
        "deleted_vars = []\n",
        "\n",
        "for k in range(50):\n",
        "  \n",
        "  if len(all_vars_rn) == 0:\n",
        "    break\n",
        "  \n",
        "  perf_iter = []\n",
        "  perf_var = []\n",
        "  cur_perf = 0\n",
        "  \n",
        "  for cur_var in all_vars_rn:\n",
        "    if k == 0:\n",
        "      form = form_base + cur_var # formula\n",
        "    else:\n",
        "      # here we completed at least one full scan\n",
        "      form = form_base + ' + ' + cur_var\n",
        "      \n",
        "    perf_iter = []\n",
        "    # in order to make the procedure not dependent from the data we do a sort of\n",
        "    # cross validation changing test and train set each time\n",
        "\n",
        "    for cross in range(10):\n",
        "      # Step 1: change the train and test set\n",
        "      X_train, X_test, y_train, y_test = train_test_split(df_train, \n",
        "                                                          yL, \n",
        "                                                          test_size=0.2,\n",
        "                                                          random_state = rs)\n",
        "      # Step 2: fit the model\n",
        "      df_training = pd.DataFrame()\n",
        "      df_training = X_train\n",
        "      df_training['v_SalePrice_TLOG'] = y_train['v_SalePrice_TLOG']\n",
        "      df_testing = pd.DataFrame()\n",
        "      df_testing = X_test\n",
        "      df_testing['v_SalePrice_TLOG'] = y_test['v_SalePrice_TLOG']\n",
        "      model_tmp = smf.ols(formula = form, data = df_training)\n",
        "      fitted_tmp = model_tmp.fit()\n",
        "\n",
        "      # Step 3: calculate the performance\n",
        "      y_NewLog_tmp = fitted_tmp.predict(df_testing)\n",
        "      y_New_tmp = y_NewLog_tmp.apply(lambda x: 10 ** x)\n",
        "      tpl = (cur_var, rmsle(y_New_tmp, y_test['v_SalePrice']))\n",
        "      perf_iter.append(tpl)\n",
        "      rs += 1\n",
        "\n",
        "\n",
        "    # at the end we need to take the median of the RMSLE that we obtain sorting the\n",
        "    # list by the second element and we take the average between element 4 and 5\n",
        "    perf_iter = sorted(perf_iter, key=lambda x: x[1])\n",
        "    perf_iter_tpl = (cur_var, (perf_iter[4][1] + perf_iter[5][1]) / 2 )\n",
        "    # at the end we have the variable name and the median of the RMSLE \n",
        "    perf_var.append(perf_iter_tpl)\n",
        "\n",
        "  perf_var = sorted(perf_var, key=lambda x: x[1])\n",
        "  chosen_var = perf_var[0][0]\n",
        "  cur_perf = perf_var[0][1]\n",
        "  if k == 0:\n",
        "    perf_KPI.append(cur_perf)  \n",
        "    print('Chosen variable {}: {} - perf: {}'.format(k, chosen_var, perf_KPI[k]))\n",
        "    form_base += chosen_var\n",
        "    best_perf = cur_perf\n",
        "    \n",
        "  else:\n",
        "    if best_perf > cur_perf:\n",
        "      # so there is an improvement      \n",
        "      perf_KPI.append(cur_perf)\n",
        "      best_perf = cur_perf\n",
        "      print('Chosen variable {}: {} - perf: {}'.format(k, chosen_var, cur_perf))\n",
        "      form_base += ' + ' + chosen_var\n",
        "      # if there is an improvement I will add again all the variables that I took out\n",
        "      # because with another predictor these variables can work\n",
        "      if len(deleted_vars) > 0:\n",
        "        all_vars_rn += deleted_vars\n",
        "        deleted_vars = []\n",
        "    else:\n",
        "      print('Chosen variable {}: {} - perf: {} - not an improvement deleted'.format(k, chosen_var, cur_perf))\n",
        "      k -= 1\n",
        "      deleted_vars.append(chosen_var)\n",
        "  \n",
        "  print('Equation: {}'.format(form_base))  \n",
        "  all_vars_rn.remove(chosen_var)  \n",
        "  print(\"Variables left: {}\".format(len(all_vars_rn)))"
      ],
      "execution_count": 228,
      "outputs": [
        {
          "output_type": "stream",
          "text": [
            "Chosen variable 0: v_AllSF_TL2 - perf: 0.23142999175641252\n",
            "Equation: v_SalePrice_TLOG ~ v_AllSF_TL2\n",
            "Variables left: 147\n",
            "Chosen variable 1: v_Neighborhood_E - perf: 0.18629092569557096\n",
            "Equation: v_SalePrice_TLOG ~ v_AllSF_TL2 + v_Neighborhood_E\n",
            "Variables left: 146\n",
            "Chosen variable 2: v_OverallGrade_D - perf: 0.16223013684701398\n",
            "Equation: v_SalePrice_TLOG ~ v_AllSF_TL2 + v_Neighborhood_E + v_OverallGrade_D\n",
            "Variables left: 145\n",
            "Chosen variable 3: v_TotalBath_TLOG - perf: 0.14897999673016465\n",
            "Equation: v_SalePrice_TLOG ~ v_AllSF_TL2 + v_Neighborhood_E + v_OverallGrade_D + v_TotalBath_TLOG\n",
            "Variables left: 144\n",
            "Chosen variable 4: v_GarageCars - perf: 0.14124789312180042\n",
            "Equation: v_SalePrice_TLOG ~ v_AllSF_TL2 + v_Neighborhood_E + v_OverallGrade_D + v_TotalBath_TLOG + v_GarageCars\n",
            "Variables left: 143\n",
            "Chosen variable 5: v_BsmtQual_E - perf: 0.13636388534860078\n",
            "Equation: v_SalePrice_TLOG ~ v_AllSF_TL2 + v_Neighborhood_E + v_OverallGrade_D + v_TotalBath_TLOG + v_GarageCars + v_BsmtQual_E\n",
            "Variables left: 142\n",
            "Chosen variable 6: v_GarageCars_TL2 - perf: 0.13705975345142613 - not an improvement deleted\n",
            "Equation: v_SalePrice_TLOG ~ v_AllSF_TL2 + v_Neighborhood_E + v_OverallGrade_D + v_TotalBath_TLOG + v_GarageCars + v_BsmtQual_E\n",
            "Variables left: 141\n",
            "Chosen variable 7: v_MiscVal - perf: 0.13772906750275662 - not an improvement deleted\n",
            "Equation: v_SalePrice_TLOG ~ v_AllSF_TL2 + v_Neighborhood_E + v_OverallGrade_D + v_TotalBath_TLOG + v_GarageCars + v_BsmtQual_E\n",
            "Variables left: 140\n",
            "Chosen variable 8: v_GarageGrade_D - perf: 0.13584012289131275\n",
            "Equation: v_SalePrice_TLOG ~ v_AllSF_TL2 + v_Neighborhood_E + v_OverallGrade_D + v_TotalBath_TLOG + v_GarageCars + v_BsmtQual_E + v_GarageGrade_D\n",
            "Variables left: 141\n",
            "Chosen variable 9: v_AllFlrsSF_TLOG - perf: 0.13434395445699537\n",
            "Equation: v_SalePrice_TLOG ~ v_AllSF_TL2 + v_Neighborhood_E + v_OverallGrade_D + v_TotalBath_TLOG + v_GarageCars + v_BsmtQual_E + v_GarageGrade_D + v_AllFlrsSF_TLOG\n",
            "Variables left: 140\n",
            "Chosen variable 10: v_SimplExterQual_S - perf: 0.13499462011443641 - not an improvement deleted\n",
            "Equation: v_SalePrice_TLOG ~ v_AllSF_TL2 + v_Neighborhood_E + v_OverallGrade_D + v_TotalBath_TLOG + v_GarageCars + v_BsmtQual_E + v_GarageGrade_D + v_AllFlrsSF_TLOG\n",
            "Variables left: 139\n",
            "Chosen variable 11: v_KitchenQual_TSQ - perf: 0.133553551318144\n",
            "Equation: v_SalePrice_TLOG ~ v_AllSF_TL2 + v_Neighborhood_E + v_OverallGrade_D + v_TotalBath_TLOG + v_GarageCars + v_BsmtQual_E + v_GarageGrade_D + v_AllFlrsSF_TLOG + v_KitchenQual_TSQ\n",
            "Variables left: 139\n",
            "Chosen variable 12: v_MasVnrType_E - perf: 0.13365192078485716 - not an improvement deleted\n",
            "Equation: v_SalePrice_TLOG ~ v_AllSF_TL2 + v_Neighborhood_E + v_OverallGrade_D + v_TotalBath_TLOG + v_GarageCars + v_BsmtQual_E + v_GarageGrade_D + v_AllFlrsSF_TLOG + v_KitchenQual_TSQ\n",
            "Variables left: 138\n",
            "Chosen variable 13: v_SimplFireplaceScore_D - perf: 0.12925302716720916\n",
            "Equation: v_SalePrice_TLOG ~ v_AllSF_TL2 + v_Neighborhood_E + v_OverallGrade_D + v_TotalBath_TLOG + v_GarageCars + v_BsmtQual_E + v_GarageGrade_D + v_AllFlrsSF_TLOG + v_KitchenQual_TSQ + v_SimplFireplaceScore_D\n",
            "Variables left: 138\n",
            "Chosen variable 14: v_MSSubClass - perf: 0.13160326594990213 - not an improvement deleted\n",
            "Equation: v_SalePrice_TLOG ~ v_AllSF_TL2 + v_Neighborhood_E + v_OverallGrade_D + v_TotalBath_TLOG + v_GarageCars + v_BsmtQual_E + v_GarageGrade_D + v_AllFlrsSF_TLOG + v_KitchenQual_TSQ + v_SimplFireplaceScore_D\n",
            "Variables left: 137\n",
            "Chosen variable 15: v_KitchenAbvGr - perf: 0.12899231077778145\n",
            "Equation: v_SalePrice_TLOG ~ v_AllSF_TL2 + v_Neighborhood_E + v_OverallGrade_D + v_TotalBath_TLOG + v_GarageCars + v_BsmtQual_E + v_GarageGrade_D + v_AllFlrsSF_TLOG + v_KitchenQual_TSQ + v_SimplFireplaceScore_D + v_KitchenAbvGr\n",
            "Variables left: 137\n",
            "Chosen variable 16: v_ExterQual_TL3 - perf: 0.12884059136954917\n",
            "Equation: v_SalePrice_TLOG ~ v_AllSF_TL2 + v_Neighborhood_E + v_OverallGrade_D + v_TotalBath_TLOG + v_GarageCars + v_BsmtQual_E + v_GarageGrade_D + v_AllFlrsSF_TLOG + v_KitchenQual_TSQ + v_SimplFireplaceScore_D + v_KitchenAbvGr + v_ExterQual_TL3\n",
            "Variables left: 136\n",
            "Chosen variable 17: v_WoodDeckSF - perf: 0.1291939255318576 - not an improvement deleted\n",
            "Equation: v_SalePrice_TLOG ~ v_AllSF_TL2 + v_Neighborhood_E + v_OverallGrade_D + v_TotalBath_TLOG + v_GarageCars + v_BsmtQual_E + v_GarageGrade_D + v_AllFlrsSF_TLOG + v_KitchenQual_TSQ + v_SimplFireplaceScore_D + v_KitchenAbvGr + v_ExterQual_TL3\n",
            "Variables left: 135\n",
            "Chosen variable 18: v_MiscFeature_E - perf: 0.1282355022114313\n",
            "Equation: v_SalePrice_TLOG ~ v_AllSF_TL2 + v_Neighborhood_E + v_OverallGrade_D + v_TotalBath_TLOG + v_GarageCars + v_BsmtQual_E + v_GarageGrade_D + v_AllFlrsSF_TLOG + v_KitchenQual_TSQ + v_SimplFireplaceScore_D + v_KitchenAbvGr + v_ExterQual_TL3 + v_MiscFeature_E\n",
            "Variables left: 135\n",
            "Chosen variable 19: v_KitchenQual_TL2 - perf: 0.1280931226575231\n",
            "Equation: v_SalePrice_TLOG ~ v_AllSF_TL2 + v_Neighborhood_E + v_OverallGrade_D + v_TotalBath_TLOG + v_GarageCars + v_BsmtQual_E + v_GarageGrade_D + v_AllFlrsSF_TLOG + v_KitchenQual_TSQ + v_SimplFireplaceScore_D + v_KitchenAbvGr + v_ExterQual_TL3 + v_MiscFeature_E + v_KitchenQual_TL2\n",
            "Variables left: 134\n",
            "Chosen variable 20: v_1stFlrSF - perf: 0.12842120697279383 - not an improvement deleted\n",
            "Equation: v_SalePrice_TLOG ~ v_AllSF_TL2 + v_Neighborhood_E + v_OverallGrade_D + v_TotalBath_TLOG + v_GarageCars + v_BsmtQual_E + v_GarageGrade_D + v_AllFlrsSF_TLOG + v_KitchenQual_TSQ + v_SimplFireplaceScore_D + v_KitchenAbvGr + v_ExterQual_TL3 + v_MiscFeature_E + v_KitchenQual_TL2\n",
            "Variables left: 133\n",
            "Chosen variable 21: v_ExterCond_E - perf: 0.12818431882018513 - not an improvement deleted\n",
            "Equation: v_SalePrice_TLOG ~ v_AllSF_TL2 + v_Neighborhood_E + v_OverallGrade_D + v_TotalBath_TLOG + v_GarageCars + v_BsmtQual_E + v_GarageGrade_D + v_AllFlrsSF_TLOG + v_KitchenQual_TSQ + v_SimplFireplaceScore_D + v_KitchenAbvGr + v_ExterQual_TL3 + v_MiscFeature_E + v_KitchenQual_TL2\n",
            "Variables left: 132\n",
            "Chosen variable 22: v_LowQualFinSF - perf: 0.12953924385144203 - not an improvement deleted\n",
            "Equation: v_SalePrice_TLOG ~ v_AllSF_TL2 + v_Neighborhood_E + v_OverallGrade_D + v_TotalBath_TLOG + v_GarageCars + v_BsmtQual_E + v_GarageGrade_D + v_AllFlrsSF_TLOG + v_KitchenQual_TSQ + v_SimplFireplaceScore_D + v_KitchenAbvGr + v_ExterQual_TL3 + v_MiscFeature_E + v_KitchenQual_TL2\n",
            "Variables left: 131\n",
            "Chosen variable 23: v_HalfBath - perf: 0.12670111632971653\n",
            "Equation: v_SalePrice_TLOG ~ v_AllSF_TL2 + v_Neighborhood_E + v_OverallGrade_D + v_TotalBath_TLOG + v_GarageCars + v_BsmtQual_E + v_GarageGrade_D + v_AllFlrsSF_TLOG + v_KitchenQual_TSQ + v_SimplFireplaceScore_D + v_KitchenAbvGr + v_ExterQual_TL3 + v_MiscFeature_E + v_KitchenQual_TL2 + v_HalfBath\n",
            "Variables left: 133\n",
            "Chosen variable 24: v_SimplOverallCond_S - perf: 0.12741857177153285 - not an improvement deleted\n",
            "Equation: v_SalePrice_TLOG ~ v_AllSF_TL2 + v_Neighborhood_E + v_OverallGrade_D + v_TotalBath_TLOG + v_GarageCars + v_BsmtQual_E + v_GarageGrade_D + v_AllFlrsSF_TLOG + v_KitchenQual_TSQ + v_SimplFireplaceScore_D + v_KitchenAbvGr + v_ExterQual_TL3 + v_MiscFeature_E + v_KitchenQual_TL2 + v_HalfBath\n",
            "Variables left: 132\n",
            "Chosen variable 25: v_GarageArea - perf: 0.12743524363267286 - not an improvement deleted\n",
            "Equation: v_SalePrice_TLOG ~ v_AllSF_TL2 + v_Neighborhood_E + v_OverallGrade_D + v_TotalBath_TLOG + v_GarageCars + v_BsmtQual_E + v_GarageGrade_D + v_AllFlrsSF_TLOG + v_KitchenQual_TSQ + v_SimplFireplaceScore_D + v_KitchenAbvGr + v_ExterQual_TL3 + v_MiscFeature_E + v_KitchenQual_TL2 + v_HalfBath\n",
            "Variables left: 131\n",
            "Chosen variable 26: v_SaleType_E - perf: 0.12913381606465818 - not an improvement deleted\n",
            "Equation: v_SalePrice_TLOG ~ v_AllSF_TL2 + v_Neighborhood_E + v_OverallGrade_D + v_TotalBath_TLOG + v_GarageCars + v_BsmtQual_E + v_GarageGrade_D + v_AllFlrsSF_TLOG + v_KitchenQual_TSQ + v_SimplFireplaceScore_D + v_KitchenAbvGr + v_ExterQual_TL3 + v_MiscFeature_E + v_KitchenQual_TL2 + v_HalfBath\n",
            "Variables left: 130\n",
            "Chosen variable 27: v_SimplExterGrade_D - perf: 0.12501730942156647\n",
            "Equation: v_SalePrice_TLOG ~ v_AllSF_TL2 + v_Neighborhood_E + v_OverallGrade_D + v_TotalBath_TLOG + v_GarageCars + v_BsmtQual_E + v_GarageGrade_D + v_AllFlrsSF_TLOG + v_KitchenQual_TSQ + v_SimplFireplaceScore_D + v_KitchenAbvGr + v_ExterQual_TL3 + v_MiscFeature_E + v_KitchenQual_TL2 + v_HalfBath + v_SimplExterGrade_D\n",
            "Variables left: 132\n",
            "Chosen variable 28: v_FireplaceQu_E - perf: 0.12975783139732833 - not an improvement deleted\n",
            "Equation: v_SalePrice_TLOG ~ v_AllSF_TL2 + v_Neighborhood_E + v_OverallGrade_D + v_TotalBath_TLOG + v_GarageCars + v_BsmtQual_E + v_GarageGrade_D + v_AllFlrsSF_TLOG + v_KitchenQual_TSQ + v_SimplFireplaceScore_D + v_KitchenAbvGr + v_ExterQual_TL3 + v_MiscFeature_E + v_KitchenQual_TL2 + v_HalfBath + v_SimplExterGrade_D\n",
            "Variables left: 131\n",
            "Chosen variable 29: v_ExterQual_TL2 - perf: 0.12972880281135662 - not an improvement deleted\n",
            "Equation: v_SalePrice_TLOG ~ v_AllSF_TL2 + v_Neighborhood_E + v_OverallGrade_D + v_TotalBath_TLOG + v_GarageCars + v_BsmtQual_E + v_GarageGrade_D + v_AllFlrsSF_TLOG + v_KitchenQual_TSQ + v_SimplFireplaceScore_D + v_KitchenAbvGr + v_ExterQual_TL3 + v_MiscFeature_E + v_KitchenQual_TL2 + v_HalfBath + v_SimplExterGrade_D\n",
            "Variables left: 130\n",
            "Chosen variable 30: v_BsmtFinType2_E - perf: 0.12773165170487297 - not an improvement deleted\n",
            "Equation: v_SalePrice_TLOG ~ v_AllSF_TL2 + v_Neighborhood_E + v_OverallGrade_D + v_TotalBath_TLOG + v_GarageCars + v_BsmtQual_E + v_GarageGrade_D + v_AllFlrsSF_TLOG + v_KitchenQual_TSQ + v_SimplFireplaceScore_D + v_KitchenAbvGr + v_ExterQual_TL3 + v_MiscFeature_E + v_KitchenQual_TL2 + v_HalfBath + v_SimplExterGrade_D\n",
            "Variables left: 129\n",
            "Chosen variable 31: v_YearBuilt - perf: 0.126237150461821 - not an improvement deleted\n",
            "Equation: v_SalePrice_TLOG ~ v_AllSF_TL2 + v_Neighborhood_E + v_OverallGrade_D + v_TotalBath_TLOG + v_GarageCars + v_BsmtQual_E + v_GarageGrade_D + v_AllFlrsSF_TLOG + v_KitchenQual_TSQ + v_SimplFireplaceScore_D + v_KitchenAbvGr + v_ExterQual_TL3 + v_MiscFeature_E + v_KitchenQual_TL2 + v_HalfBath + v_SimplExterGrade_D\n",
            "Variables left: 128\n",
            "Chosen variable 32: v_AllSF_TSQ - perf: 0.12657808935205023 - not an improvement deleted\n",
            "Equation: v_SalePrice_TLOG ~ v_AllSF_TL2 + v_Neighborhood_E + v_OverallGrade_D + v_TotalBath_TLOG + v_GarageCars + v_BsmtQual_E + v_GarageGrade_D + v_AllFlrsSF_TLOG + v_KitchenQual_TSQ + v_SimplFireplaceScore_D + v_KitchenAbvGr + v_ExterQual_TL3 + v_MiscFeature_E + v_KitchenQual_TL2 + v_HalfBath + v_SimplExterGrade_D\n",
            "Variables left: 127\n",
            "Chosen variable 33: v_CentralAir_E - perf: 0.12668981687335296 - not an improvement deleted\n",
            "Equation: v_SalePrice_TLOG ~ v_AllSF_TL2 + v_Neighborhood_E + v_OverallGrade_D + v_TotalBath_TLOG + v_GarageCars + v_BsmtQual_E + v_GarageGrade_D + v_AllFlrsSF_TLOG + v_KitchenQual_TSQ + v_SimplFireplaceScore_D + v_KitchenAbvGr + v_ExterQual_TL3 + v_MiscFeature_E + v_KitchenQual_TL2 + v_HalfBath + v_SimplExterGrade_D\n",
            "Variables left: 126\n",
            "Chosen variable 34: v_GarageArea - perf: 0.12721673751832735 - not an improvement deleted\n",
            "Equation: v_SalePrice_TLOG ~ v_AllSF_TL2 + v_Neighborhood_E + v_OverallGrade_D + v_TotalBath_TLOG + v_GarageCars + v_BsmtQual_E + v_GarageGrade_D + v_AllFlrsSF_TLOG + v_KitchenQual_TSQ + v_SimplFireplaceScore_D + v_KitchenAbvGr + v_ExterQual_TL3 + v_MiscFeature_E + v_KitchenQual_TL2 + v_HalfBath + v_SimplExterGrade_D\n",
            "Variables left: 125\n",
            "Chosen variable 35: v_KitchenQual_E - perf: 0.12891945056729612 - not an improvement deleted\n",
            "Equation: v_SalePrice_TLOG ~ v_AllSF_TL2 + v_Neighborhood_E + v_OverallGrade_D + v_TotalBath_TLOG + v_GarageCars + v_BsmtQual_E + v_GarageGrade_D + v_AllFlrsSF_TLOG + v_KitchenQual_TSQ + v_SimplFireplaceScore_D + v_KitchenAbvGr + v_ExterQual_TL3 + v_MiscFeature_E + v_KitchenQual_TL2 + v_HalfBath + v_SimplExterGrade_D\n",
            "Variables left: 124\n",
            "Chosen variable 36: v_MSZoning_E - perf: 0.12837943609712185 - not an improvement deleted\n",
            "Equation: v_SalePrice_TLOG ~ v_AllSF_TL2 + v_Neighborhood_E + v_OverallGrade_D + v_TotalBath_TLOG + v_GarageCars + v_BsmtQual_E + v_GarageGrade_D + v_AllFlrsSF_TLOG + v_KitchenQual_TSQ + v_SimplFireplaceScore_D + v_KitchenAbvGr + v_ExterQual_TL3 + v_MiscFeature_E + v_KitchenQual_TL2 + v_HalfBath + v_SimplExterGrade_D\n",
            "Variables left: 123\n",
            "Chosen variable 37: v_GarageScore_TLOG - perf: 0.1290992294032675 - not an improvement deleted\n",
            "Equation: v_SalePrice_TLOG ~ v_AllSF_TL2 + v_Neighborhood_E + v_OverallGrade_D + v_TotalBath_TLOG + v_GarageCars + v_BsmtQual_E + v_GarageGrade_D + v_AllFlrsSF_TLOG + v_KitchenQual_TSQ + v_SimplFireplaceScore_D + v_KitchenAbvGr + v_ExterQual_TL3 + v_MiscFeature_E + v_KitchenQual_TL2 + v_HalfBath + v_SimplExterGrade_D\n",
            "Variables left: 122\n",
            "Chosen variable 38: v_YearRemodAdd - perf: 0.1283730912083946 - not an improvement deleted\n",
            "Equation: v_SalePrice_TLOG ~ v_AllSF_TL2 + v_Neighborhood_E + v_OverallGrade_D + v_TotalBath_TLOG + v_GarageCars + v_BsmtQual_E + v_GarageGrade_D + v_AllFlrsSF_TLOG + v_KitchenQual_TSQ + v_SimplFireplaceScore_D + v_KitchenAbvGr + v_ExterQual_TL3 + v_MiscFeature_E + v_KitchenQual_TL2 + v_HalfBath + v_SimplExterGrade_D\n",
            "Variables left: 121\n",
            "Chosen variable 39: v_SimplOverallQual_TL2 - perf: 0.12924689376150666 - not an improvement deleted\n",
            "Equation: v_SalePrice_TLOG ~ v_AllSF_TL2 + v_Neighborhood_E + v_OverallGrade_D + v_TotalBath_TLOG + v_GarageCars + v_BsmtQual_E + v_GarageGrade_D + v_AllFlrsSF_TLOG + v_KitchenQual_TSQ + v_SimplFireplaceScore_D + v_KitchenAbvGr + v_ExterQual_TL3 + v_MiscFeature_E + v_KitchenQual_TL2 + v_HalfBath + v_SimplExterGrade_D\n",
            "Variables left: 120\n",
            "Chosen variable 40: v_SimplExterQual_S - perf: 0.12673468866720772 - not an improvement deleted\n",
            "Equation: v_SalePrice_TLOG ~ v_AllSF_TL2 + v_Neighborhood_E + v_OverallGrade_D + v_TotalBath_TLOG + v_GarageCars + v_BsmtQual_E + v_GarageGrade_D + v_AllFlrsSF_TLOG + v_KitchenQual_TSQ + v_SimplFireplaceScore_D + v_KitchenAbvGr + v_ExterQual_TL3 + v_MiscFeature_E + v_KitchenQual_TL2 + v_HalfBath + v_SimplExterGrade_D\n",
            "Variables left: 119\n",
            "Chosen variable 41: v_FullBath - perf: 0.1295370416684143 - not an improvement deleted\n",
            "Equation: v_SalePrice_TLOG ~ v_AllSF_TL2 + v_Neighborhood_E + v_OverallGrade_D + v_TotalBath_TLOG + v_GarageCars + v_BsmtQual_E + v_GarageGrade_D + v_AllFlrsSF_TLOG + v_KitchenQual_TSQ + v_SimplFireplaceScore_D + v_KitchenAbvGr + v_ExterQual_TL3 + v_MiscFeature_E + v_KitchenQual_TL2 + v_HalfBath + v_SimplExterGrade_D\n",
            "Variables left: 118\n",
            "Chosen variable 42: v_LotConfig_E - perf: 0.12855276487376815 - not an improvement deleted\n",
            "Equation: v_SalePrice_TLOG ~ v_AllSF_TL2 + v_Neighborhood_E + v_OverallGrade_D + v_TotalBath_TLOG + v_GarageCars + v_BsmtQual_E + v_GarageGrade_D + v_AllFlrsSF_TLOG + v_KitchenQual_TSQ + v_SimplFireplaceScore_D + v_KitchenAbvGr + v_ExterQual_TL3 + v_MiscFeature_E + v_KitchenQual_TL2 + v_HalfBath + v_SimplExterGrade_D\n",
            "Variables left: 117\n",
            "Chosen variable 43: v_BsmtFullBath - perf: 0.13063036849291096 - not an improvement deleted\n",
            "Equation: v_SalePrice_TLOG ~ v_AllSF_TL2 + v_Neighborhood_E + v_OverallGrade_D + v_TotalBath_TLOG + v_GarageCars + v_BsmtQual_E + v_GarageGrade_D + v_AllFlrsSF_TLOG + v_KitchenQual_TSQ + v_SimplFireplaceScore_D + v_KitchenAbvGr + v_ExterQual_TL3 + v_MiscFeature_E + v_KitchenQual_TL2 + v_HalfBath + v_SimplExterGrade_D\n",
            "Variables left: 116\n",
            "Chosen variable 44: v_SimplFunctional_S - perf: 0.12834001964563266 - not an improvement deleted\n",
            "Equation: v_SalePrice_TLOG ~ v_AllSF_TL2 + v_Neighborhood_E + v_OverallGrade_D + v_TotalBath_TLOG + v_GarageCars + v_BsmtQual_E + v_GarageGrade_D + v_AllFlrsSF_TLOG + v_KitchenQual_TSQ + v_SimplFireplaceScore_D + v_KitchenAbvGr + v_ExterQual_TL3 + v_MiscFeature_E + v_KitchenQual_TL2 + v_HalfBath + v_SimplExterGrade_D\n",
            "Variables left: 115\n",
            "Chosen variable 45: v_AllPorchSF_D - perf: 0.1280951497521926 - not an improvement deleted\n",
            "Equation: v_SalePrice_TLOG ~ v_AllSF_TL2 + v_Neighborhood_E + v_OverallGrade_D + v_TotalBath_TLOG + v_GarageCars + v_BsmtQual_E + v_GarageGrade_D + v_AllFlrsSF_TLOG + v_KitchenQual_TSQ + v_SimplFireplaceScore_D + v_KitchenAbvGr + v_ExterQual_TL3 + v_MiscFeature_E + v_KitchenQual_TL2 + v_HalfBath + v_SimplExterGrade_D\n",
            "Variables left: 114\n",
            "Chosen variable 46: v_LotShape_E - perf: 0.12964508826128202 - not an improvement deleted\n",
            "Equation: v_SalePrice_TLOG ~ v_AllSF_TL2 + v_Neighborhood_E + v_OverallGrade_D + v_TotalBath_TLOG + v_GarageCars + v_BsmtQual_E + v_GarageGrade_D + v_AllFlrsSF_TLOG + v_KitchenQual_TSQ + v_SimplFireplaceScore_D + v_KitchenAbvGr + v_ExterQual_TL3 + v_MiscFeature_E + v_KitchenQual_TL2 + v_HalfBath + v_SimplExterGrade_D\n",
            "Variables left: 113\n",
            "Chosen variable 47: v_BsmtFinSF1 - perf: 0.12874409053058558 - not an improvement deleted\n",
            "Equation: v_SalePrice_TLOG ~ v_AllSF_TL2 + v_Neighborhood_E + v_OverallGrade_D + v_TotalBath_TLOG + v_GarageCars + v_BsmtQual_E + v_GarageGrade_D + v_AllFlrsSF_TLOG + v_KitchenQual_TSQ + v_SimplFireplaceScore_D + v_KitchenAbvGr + v_ExterQual_TL3 + v_MiscFeature_E + v_KitchenQual_TL2 + v_HalfBath + v_SimplExterGrade_D\n",
            "Variables left: 112\n",
            "Chosen variable 48: v_Street_E - perf: 0.12917998300035644 - not an improvement deleted\n",
            "Equation: v_SalePrice_TLOG ~ v_AllSF_TL2 + v_Neighborhood_E + v_OverallGrade_D + v_TotalBath_TLOG + v_GarageCars + v_BsmtQual_E + v_GarageGrade_D + v_AllFlrsSF_TLOG + v_KitchenQual_TSQ + v_SimplFireplaceScore_D + v_KitchenAbvGr + v_ExterQual_TL3 + v_MiscFeature_E + v_KitchenQual_TL2 + v_HalfBath + v_SimplExterGrade_D\n",
            "Variables left: 111\n",
            "Chosen variable 49: v_Foundation_E - perf: 0.12834424266716926 - not an improvement deleted\n",
            "Equation: v_SalePrice_TLOG ~ v_AllSF_TL2 + v_Neighborhood_E + v_OverallGrade_D + v_TotalBath_TLOG + v_GarageCars + v_BsmtQual_E + v_GarageGrade_D + v_AllFlrsSF_TLOG + v_KitchenQual_TSQ + v_SimplFireplaceScore_D + v_KitchenAbvGr + v_ExterQual_TL3 + v_MiscFeature_E + v_KitchenQual_TL2 + v_HalfBath + v_SimplExterGrade_D\n",
            "Variables left: 110\n"
          ],
          "name": "stdout"
        }
      ]
    },
    {
      "metadata": {
        "id": "VYLAMYST3NLW",
        "colab_type": "code",
        "outputId": "db63328e-e146-4cf0-d1cd-235514e28da6",
        "colab": {
          "base_uri": "https://localhost:8080/",
          "height": 780
        }
      },
      "cell_type": "code",
      "source": [
        "#form_base = 'v_SalePrice_TLOG ~ v_AllSF_TSQ + v_OverallQual_TSQ + v_GarageScore_D + v_TotalBath_TLOG + v_SimplOverallCond_S + v_Neighborhood_E + v_FireplaceQu_E + v_YearBuilt + v_FireplaceScore_D + v_Exterior1st_E + v_Condition1_E'\n",
        "model = smf.ols(formula = form_base, data = df_train)\n",
        "fitted = model.fit()\n",
        "print (fitted.summary())"
      ],
      "execution_count": 229,
      "outputs": [
        {
          "output_type": "stream",
          "text": [
            "                            OLS Regression Results                            \n",
            "==============================================================================\n",
            "Dep. Variable:       v_SalePrice_TLOG   R-squared:                       0.883\n",
            "Model:                            OLS   Adj. R-squared:                  0.881\n",
            "Method:                 Least Squares   F-statistic:                     678.4\n",
            "Date:                Mon, 29 Apr 2019   Prob (F-statistic):               0.00\n",
            "Time:                        13:21:12   Log-Likelihood:                 2050.5\n",
            "No. Observations:                1460   AIC:                            -4067.\n",
            "Df Residuals:                    1443   BIC:                            -3977.\n",
            "Df Model:                          16                                         \n",
            "Covariance Type:            nonrobust                                         \n",
            "===========================================================================================\n",
            "                              coef    std err          t      P>|t|      [0.025      0.975]\n",
            "-------------------------------------------------------------------------------------------\n",
            "Intercept                   2.4540      0.212     11.582      0.000       2.038       2.870\n",
            "v_AllSF_TL2                 0.1493      0.015     10.260      0.000       0.121       0.178\n",
            "v_Neighborhood_E            0.0065      0.000     17.784      0.000       0.006       0.007\n",
            "v_OverallGrade_D            0.0035      0.000     16.450      0.000       0.003       0.004\n",
            "v_TotalBath_TLOG            0.2185      0.021     10.506      0.000       0.178       0.259\n",
            "v_GarageCars                0.0247      0.003      7.531      0.000       0.018       0.031\n",
            "v_BsmtQual_E                0.0093      0.003      2.931      0.003       0.003       0.016\n",
            "v_GarageGrade_D             0.0019      0.001      3.682      0.000       0.001       0.003\n",
            "v_AllFlrsSF_TLOG            0.1474      0.027      5.398      0.000       0.094       0.201\n",
            "v_KitchenQual_TSQ           1.2715      0.312      4.077      0.000       0.660       1.883\n",
            "v_SimplFireplaceScore_D     0.0092      0.002      5.321      0.000       0.006       0.013\n",
            "v_KitchenAbvGr             -0.0468      0.008     -5.766      0.000      -0.063      -0.031\n",
            "v_ExterQual_TL3             0.0149      0.010      1.557      0.120      -0.004       0.034\n",
            "v_MiscFeature_E             0.0005      0.004      0.132      0.895      -0.007       0.008\n",
            "v_KitchenQual_TL2          -1.3052      0.333     -3.914      0.000      -1.959      -0.651\n",
            "v_HalfBath                 -0.0037      0.004     -0.961      0.337      -0.011       0.004\n",
            "v_SimplExterGrade_D         0.0101      0.004      2.682      0.007       0.003       0.017\n",
            "==============================================================================\n",
            "Omnibus:                      471.289   Durbin-Watson:                   1.961\n",
            "Prob(Omnibus):                  0.000   Jarque-Bera (JB):             3953.743\n",
            "Skew:                          -1.261   Prob(JB):                         0.00\n",
            "Kurtosis:                      10.657   Cond. No.                     1.31e+04\n",
            "==============================================================================\n",
            "\n",
            "Warnings:\n",
            "[1] Standard Errors assume that the covariance matrix of the errors is correctly specified.\n",
            "[2] The condition number is large, 1.31e+04. This might indicate that there are\n",
            "strong multicollinearity or other numerical problems.\n"
          ],
          "name": "stdout"
        }
      ]
    },
    {
      "metadata": {
        "id": "Qp5u2Hf5em8W",
        "colab_type": "code",
        "outputId": "fa762ebd-4918-4d3d-960a-25673dfb41ad",
        "colab": {
          "base_uri": "https://localhost:8080/",
          "height": 35
        }
      },
      "cell_type": "code",
      "source": [
        "import copy\n",
        "new_vars2 = copy.deepcopy(new_vars)\n",
        "new_vars2.remove('v_SalePrice')\n",
        "new_vars2.remove('v_SalePrice_TLOG')\n",
        "len(new_vars2)"
      ],
      "execution_count": 234,
      "outputs": [
        {
          "output_type": "execute_result",
          "data": {
            "text/plain": [
              "197"
            ]
          },
          "metadata": {
            "tags": []
          },
          "execution_count": 234
        }
      ]
    },
    {
      "metadata": {
        "id": "vhFuaZp6j1Ts",
        "colab_type": "code",
        "outputId": "a111ec04-06f5-4714-ebba-605f4daca6db",
        "colab": {
          "base_uri": "https://localhost:8080/",
          "height": 35
        }
      },
      "cell_type": "code",
      "source": [
        "df_test.shape"
      ],
      "execution_count": 231,
      "outputs": [
        {
          "output_type": "execute_result",
          "data": {
            "text/plain": [
              "(1459, 197)"
            ]
          },
          "metadata": {
            "tags": []
          },
          "execution_count": 231
        }
      ]
    },
    {
      "metadata": {
        "id": "fW2K6oD89ob4",
        "colab_type": "code",
        "colab": {}
      },
      "cell_type": "code",
      "source": [
        "df_test.columns = new_vars2"
      ],
      "execution_count": 0,
      "outputs": []
    },
    {
      "metadata": {
        "id": "Os5VAXyKkPLg",
        "colab_type": "code",
        "colab": {}
      },
      "cell_type": "code",
      "source": [
        "y_Log_predicted = fitted.predict(df_test)\n",
        "y_predicted = y_Log_predicted.apply(lambda x: 10 ** x)"
      ],
      "execution_count": 0,
      "outputs": []
    },
    {
      "metadata": {
        "id": "kUAmgTFBkp_7",
        "colab_type": "code",
        "outputId": "bced627a-7bf2-443e-be52-d3ae25ec42ca",
        "colab": {
          "base_uri": "https://localhost:8080/",
          "height": 255
        }
      },
      "cell_type": "code",
      "source": [
        "df_test.head()"
      ],
      "execution_count": 237,
      "outputs": [
        {
          "output_type": "execute_result",
          "data": {
            "text/html": [
              "<div>\n",
              "<style scoped>\n",
              "    .dataframe tbody tr th:only-of-type {\n",
              "        vertical-align: middle;\n",
              "    }\n",
              "\n",
              "    .dataframe tbody tr th {\n",
              "        vertical-align: top;\n",
              "    }\n",
              "\n",
              "    .dataframe thead th {\n",
              "        text-align: right;\n",
              "    }\n",
              "</style>\n",
              "<table border=\"1\" class=\"dataframe\">\n",
              "  <thead>\n",
              "    <tr style=\"text-align: right;\">\n",
              "      <th></th>\n",
              "      <th>v_Id</th>\n",
              "      <th>v_MSSubClass</th>\n",
              "      <th>v_MSZoning</th>\n",
              "      <th>v_LotFrontage</th>\n",
              "      <th>v_LotArea</th>\n",
              "      <th>v_Street</th>\n",
              "      <th>v_Alley</th>\n",
              "      <th>v_LotShape</th>\n",
              "      <th>v_LandContour</th>\n",
              "      <th>v_Utilities</th>\n",
              "      <th>...</th>\n",
              "      <th>v_TotalBath_TSQ</th>\n",
              "      <th>v_TotalBath_TLOG</th>\n",
              "      <th>v_KitchenQual_TL2</th>\n",
              "      <th>v_KitchenQual_TL3</th>\n",
              "      <th>v_KitchenQual_TSQ</th>\n",
              "      <th>v_KitchenQual_TLOG</th>\n",
              "      <th>v_GarageScore_TL2</th>\n",
              "      <th>v_GarageScore_TL3</th>\n",
              "      <th>v_GarageScore_TSQ</th>\n",
              "      <th>v_GarageScore_TLOG</th>\n",
              "    </tr>\n",
              "  </thead>\n",
              "  <tbody>\n",
              "    <tr>\n",
              "      <th>0</th>\n",
              "      <td>1461</td>\n",
              "      <td>20</td>\n",
              "      <td>RH</td>\n",
              "      <td>80.000</td>\n",
              "      <td>11622</td>\n",
              "      <td>Pave</td>\n",
              "      <td>MISSING</td>\n",
              "      <td>Reg</td>\n",
              "      <td>Lvl</td>\n",
              "      <td>AllPub</td>\n",
              "      <td>...</td>\n",
              "      <td>1.000</td>\n",
              "      <td>0.301</td>\n",
              "      <td>0.699</td>\n",
              "      <td>0.954</td>\n",
              "      <td>1.414</td>\n",
              "      <td>0.477</td>\n",
              "      <td>6.681</td>\n",
              "      <td>10.021</td>\n",
              "      <td>46.797</td>\n",
              "      <td>3.341</td>\n",
              "    </tr>\n",
              "    <tr>\n",
              "      <th>1</th>\n",
              "      <td>1462</td>\n",
              "      <td>20</td>\n",
              "      <td>RL</td>\n",
              "      <td>81.000</td>\n",
              "      <td>14267</td>\n",
              "      <td>Pave</td>\n",
              "      <td>MISSING</td>\n",
              "      <td>IR1</td>\n",
              "      <td>Lvl</td>\n",
              "      <td>AllPub</td>\n",
              "      <td>...</td>\n",
              "      <td>1.225</td>\n",
              "      <td>0.398</td>\n",
              "      <td>1.000</td>\n",
              "      <td>1.447</td>\n",
              "      <td>1.732</td>\n",
              "      <td>0.602</td>\n",
              "      <td>5.943</td>\n",
              "      <td>8.914</td>\n",
              "      <td>30.594</td>\n",
              "      <td>2.972</td>\n",
              "    </tr>\n",
              "    <tr>\n",
              "      <th>2</th>\n",
              "      <td>1463</td>\n",
              "      <td>60</td>\n",
              "      <td>RL</td>\n",
              "      <td>74.000</td>\n",
              "      <td>13830</td>\n",
              "      <td>Pave</td>\n",
              "      <td>MISSING</td>\n",
              "      <td>IR1</td>\n",
              "      <td>Lvl</td>\n",
              "      <td>AllPub</td>\n",
              "      <td>...</td>\n",
              "      <td>1.581</td>\n",
              "      <td>0.544</td>\n",
              "      <td>0.699</td>\n",
              "      <td>0.954</td>\n",
              "      <td>1.414</td>\n",
              "      <td>0.477</td>\n",
              "      <td>6.320</td>\n",
              "      <td>9.481</td>\n",
              "      <td>38.026</td>\n",
              "      <td>3.160</td>\n",
              "    </tr>\n",
              "    <tr>\n",
              "      <th>3</th>\n",
              "      <td>1464</td>\n",
              "      <td>60</td>\n",
              "      <td>RL</td>\n",
              "      <td>78.000</td>\n",
              "      <td>9978</td>\n",
              "      <td>Pave</td>\n",
              "      <td>MISSING</td>\n",
              "      <td>IR1</td>\n",
              "      <td>Lvl</td>\n",
              "      <td>AllPub</td>\n",
              "      <td>...</td>\n",
              "      <td>1.581</td>\n",
              "      <td>0.544</td>\n",
              "      <td>1.000</td>\n",
              "      <td>1.447</td>\n",
              "      <td>1.732</td>\n",
              "      <td>0.602</td>\n",
              "      <td>6.298</td>\n",
              "      <td>9.448</td>\n",
              "      <td>37.550</td>\n",
              "      <td>3.150</td>\n",
              "    </tr>\n",
              "    <tr>\n",
              "      <th>4</th>\n",
              "      <td>1465</td>\n",
              "      <td>120</td>\n",
              "      <td>RL</td>\n",
              "      <td>43.000</td>\n",
              "      <td>5005</td>\n",
              "      <td>Pave</td>\n",
              "      <td>MISSING</td>\n",
              "      <td>IR1</td>\n",
              "      <td>HLS</td>\n",
              "      <td>AllPub</td>\n",
              "      <td>...</td>\n",
              "      <td>1.414</td>\n",
              "      <td>0.477</td>\n",
              "      <td>1.000</td>\n",
              "      <td>1.447</td>\n",
              "      <td>1.732</td>\n",
              "      <td>0.602</td>\n",
              "      <td>6.363</td>\n",
              "      <td>9.544</td>\n",
              "      <td>38.962</td>\n",
              "      <td>3.182</td>\n",
              "    </tr>\n",
              "  </tbody>\n",
              "</table>\n",
              "<p>5 rows × 197 columns</p>\n",
              "</div>"
            ],
            "text/plain": [
              "   v_Id  v_MSSubClass v_MSZoning  v_LotFrontage  v_LotArea v_Street  v_Alley  \\\n",
              "0  1461            20         RH         80.000      11622     Pave  MISSING   \n",
              "1  1462            20         RL         81.000      14267     Pave  MISSING   \n",
              "2  1463            60         RL         74.000      13830     Pave  MISSING   \n",
              "3  1464            60         RL         78.000       9978     Pave  MISSING   \n",
              "4  1465           120         RL         43.000       5005     Pave  MISSING   \n",
              "\n",
              "  v_LotShape v_LandContour v_Utilities  ... v_TotalBath_TSQ v_TotalBath_TLOG  \\\n",
              "0        Reg           Lvl      AllPub  ...           1.000            0.301   \n",
              "1        IR1           Lvl      AllPub  ...           1.225            0.398   \n",
              "2        IR1           Lvl      AllPub  ...           1.581            0.544   \n",
              "3        IR1           Lvl      AllPub  ...           1.581            0.544   \n",
              "4        IR1           HLS      AllPub  ...           1.414            0.477   \n",
              "\n",
              "  v_KitchenQual_TL2 v_KitchenQual_TL3 v_KitchenQual_TSQ v_KitchenQual_TLOG  \\\n",
              "0             0.699             0.954             1.414              0.477   \n",
              "1             1.000             1.447             1.732              0.602   \n",
              "2             0.699             0.954             1.414              0.477   \n",
              "3             1.000             1.447             1.732              0.602   \n",
              "4             1.000             1.447             1.732              0.602   \n",
              "\n",
              "  v_GarageScore_TL2  v_GarageScore_TL3  v_GarageScore_TSQ  v_GarageScore_TLOG  \n",
              "0             6.681             10.021             46.797               3.341  \n",
              "1             5.943              8.914             30.594               2.972  \n",
              "2             6.320              9.481             38.026               3.160  \n",
              "3             6.298              9.448             37.550               3.150  \n",
              "4             6.363              9.544             38.962               3.182  \n",
              "\n",
              "[5 rows x 197 columns]"
            ]
          },
          "metadata": {
            "tags": []
          },
          "execution_count": 237
        }
      ]
    },
    {
      "metadata": {
        "id": "mf6T-zDamXjy",
        "colab_type": "code",
        "outputId": "295a8382-3a7a-4b02-b9d9-8c18ce3a5da2",
        "colab": {
          "base_uri": "https://localhost:8080/",
          "height": 144
        }
      },
      "cell_type": "code",
      "source": [
        "y_predicted.index = df_test['v_Id']\n",
        "y_predicted.columns = ['Id', 'SalePrice']\n",
        "y_predicted.head()"
      ],
      "execution_count": 238,
      "outputs": [
        {
          "output_type": "execute_result",
          "data": {
            "text/plain": [
              "v_Id\n",
              "1461   111094.325\n",
              "1462   149354.526\n",
              "1463   170639.335\n",
              "1464   190144.022\n",
              "1465   208492.661\n",
              "dtype: float64"
            ]
          },
          "metadata": {
            "tags": []
          },
          "execution_count": 238
        }
      ]
    },
    {
      "metadata": {
        "id": "iqjrdaksmiGC",
        "colab_type": "code",
        "colab": {}
      },
      "cell_type": "code",
      "source": [
        "from google.colab import files\n",
        "y_predicted.to_csv('output_2.csv')\n",
        "files.download('output_2.csv')"
      ],
      "execution_count": 0,
      "outputs": []
    }
  ]
}