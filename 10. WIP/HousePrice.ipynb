{
  "nbformat": 4,
  "nbformat_minor": 0,
  "metadata": {
    "colab": {
      "name": "HousePrice.ipynb",
      "version": "0.3.2",
      "provenance": [],
      "collapsed_sections": [],
      "include_colab_link": true
    },
    "kernelspec": {
      "name": "python3",
      "display_name": "Python 3"
    }
  },
  "cells": [
    {
      "cell_type": "markdown",
      "metadata": {
        "id": "view-in-github",
        "colab_type": "text"
      },
      "source": [
        "<a href=\"https://colab.research.google.com/github/ellenne/HousePrice/blob/master/10.%20WIP/HousePrice.ipynb\" target=\"_parent\"><img src=\"https://colab.research.google.com/assets/colab-badge.svg\" alt=\"Open In Colab\"/></a>"
      ]
    },
    {
      "metadata": {
        "id": "F0cL_FHZ9247",
        "colab_type": "code",
        "colab": {}
      },
      "cell_type": "code",
      "source": [
        "import pandas as pd\n",
        "import matplotlib.pyplot as plt\n",
        "from matplotlib.gridspec import GridSpec\n",
        "import seaborn as sns\n",
        "import numpy as np\n",
        "import scipy.stats as stats\n",
        "import statsmodels.formula.api as smf\n",
        "import statsmodels.api as sm\n",
        "from sklearn.utils import check_array\n",
        "from sklearn.impute import SimpleImputer\n",
        "from sklearn.metrics import mean_squared_error, r2_score\n",
        "import warnings\n",
        "warnings.filterwarnings('ignore')\n",
        "# Definitions\n",
        "pd.set_option('display.float_format', lambda x: '%.3f' % x)\n",
        "%matplotlib inline"
      ],
      "execution_count": 0,
      "outputs": []
    },
    {
      "metadata": {
        "id": "U23cxYU498EX",
        "colab_type": "code",
        "colab": {}
      },
      "cell_type": "code",
      "source": [
        "train_url = 'https://raw.githubusercontent.com/ellenne/HousePrice/master/05.%20In/train.csv'\n",
        "test_url = 'https://raw.githubusercontent.com/ellenne/HousePrice/master/05.%20In/test.csv'\n"
      ],
      "execution_count": 0,
      "outputs": []
    },
    {
      "metadata": {
        "id": "Jg4ktKtTAd3t",
        "colab_type": "code",
        "colab": {}
      },
      "cell_type": "code",
      "source": [
        "df_train = pd.read_csv(train_url)\n",
        "df_test = pd.read_csv(test_url)"
      ],
      "execution_count": 0,
      "outputs": []
    },
    {
      "metadata": {
        "id": "lcH9yRSgCfFo",
        "colab_type": "text"
      },
      "cell_type": "markdown",
      "source": [
        "Here we separate our variables into numeric and categorical. We also take out the `Id` and `SalePrice` will be set as output variable"
      ]
    },
    {
      "metadata": {
        "id": "MHPC2HghCcJ8",
        "colab_type": "code",
        "outputId": "f009588a-e785-42fb-ea3d-8518c9240464",
        "colab": {
          "base_uri": "https://localhost:8080/",
          "height": 1470
        }
      },
      "cell_type": "code",
      "source": [
        "all_vars = list(df_train)\n",
        "output_var = 'SalePrice'\n",
        "num_vars = list(df_train._get_numeric_data())\n",
        "cat_vars = list(set(all_vars) - set(num_vars))\n",
        "num_vars = list(set(num_vars) - set(['SalePrice', 'Id']))\n",
        "(output_var, num_vars, cat_vars)"
      ],
      "execution_count": 4,
      "outputs": [
        {
          "output_type": "execute_result",
          "data": {
            "text/plain": [
              "('SalePrice',\n",
              " ['MiscVal',\n",
              "  'BsmtFinSF2',\n",
              "  'MasVnrArea',\n",
              "  'GarageArea',\n",
              "  'YearBuilt',\n",
              "  'LowQualFinSF',\n",
              "  'HalfBath',\n",
              "  '1stFlrSF',\n",
              "  'WoodDeckSF',\n",
              "  'TotalBsmtSF',\n",
              "  'GarageCars',\n",
              "  'TotRmsAbvGrd',\n",
              "  'GarageYrBlt',\n",
              "  'OverallQual',\n",
              "  '3SsnPorch',\n",
              "  '2ndFlrSF',\n",
              "  'FullBath',\n",
              "  'PoolArea',\n",
              "  'EnclosedPorch',\n",
              "  'BsmtUnfSF',\n",
              "  'YearRemodAdd',\n",
              "  'MoSold',\n",
              "  'BedroomAbvGr',\n",
              "  'MSSubClass',\n",
              "  'BsmtFullBath',\n",
              "  'LotArea',\n",
              "  'GrLivArea',\n",
              "  'BsmtHalfBath',\n",
              "  'YrSold',\n",
              "  'Fireplaces',\n",
              "  'LotFrontage',\n",
              "  'BsmtFinSF1',\n",
              "  'OpenPorchSF',\n",
              "  'ScreenPorch',\n",
              "  'KitchenAbvGr',\n",
              "  'OverallCond'],\n",
              " ['LandSlope',\n",
              "  'MiscFeature',\n",
              "  'Functional',\n",
              "  'Condition1',\n",
              "  'Alley',\n",
              "  'GarageCond',\n",
              "  'PavedDrive',\n",
              "  'CentralAir',\n",
              "  'HeatingQC',\n",
              "  'Exterior2nd',\n",
              "  'MSZoning',\n",
              "  'KitchenQual',\n",
              "  'GarageFinish',\n",
              "  'MasVnrType',\n",
              "  'BldgType',\n",
              "  'ExterCond',\n",
              "  'Neighborhood',\n",
              "  'Electrical',\n",
              "  'GarageType',\n",
              "  'Utilities',\n",
              "  'Fence',\n",
              "  'RoofMatl',\n",
              "  'Condition2',\n",
              "  'PoolQC',\n",
              "  'LandContour',\n",
              "  'BsmtFinType1',\n",
              "  'Foundation',\n",
              "  'GarageQual',\n",
              "  'BsmtQual',\n",
              "  'FireplaceQu',\n",
              "  'Street',\n",
              "  'LotShape',\n",
              "  'Heating',\n",
              "  'BsmtExposure',\n",
              "  'BsmtCond',\n",
              "  'LotConfig',\n",
              "  'ExterQual',\n",
              "  'HouseStyle',\n",
              "  'SaleType',\n",
              "  'RoofStyle',\n",
              "  'SaleCondition',\n",
              "  'Exterior1st',\n",
              "  'BsmtFinType2'])"
            ]
          },
          "metadata": {
            "tags": []
          },
          "execution_count": 4
        }
      ]
    },
    {
      "metadata": {
        "id": "x5j5pK9dCvV9",
        "colab_type": "code",
        "colab": {}
      },
      "cell_type": "code",
      "source": [
        "## for the categorical variables if there is a missing value the category MISSING is created and filled\n",
        "for c in cat_vars:\n",
        "    df_train[c] = df_train[c].astype('category')\n",
        "    if df_train[c].isnull().any():        \n",
        "        df_train[c] = df_train[c].cat.add_categories(['MISSING'])\n",
        "        df_train[c] = df_train[c].fillna('MISSING')"
      ],
      "execution_count": 0,
      "outputs": []
    },
    {
      "metadata": {
        "id": "YQ5_yuK-CzY8",
        "colab_type": "code",
        "colab": {}
      },
      "cell_type": "code",
      "source": [
        "## same for test set\n",
        "for c in cat_vars:\n",
        "    df_test[c] = df_test[c].astype('category')\n",
        "    if df_test[c].isnull().any():        \n",
        "        df_test[c] = df_test[c].cat.add_categories(['MISSING'])\n",
        "        df_test[c] = df_test[c].fillna('MISSING')"
      ],
      "execution_count": 0,
      "outputs": []
    },
    {
      "metadata": {
        "id": "m1BPrsCcC2WI",
        "colab_type": "code",
        "outputId": "02f1a82e-7ee5-4ccf-84c5-93926d240c94",
        "colab": {
          "base_uri": "https://localhost:8080/",
          "height": 798
        }
      },
      "cell_type": "code",
      "source": [
        "# function to encode the categorical variables\n",
        "def encode(frame, feature):\n",
        "    list_1 = pd.DataFrame()\n",
        "    # level for each variable\n",
        "    list_1['level'] = frame[feature].unique()\n",
        "    # since we will make use of dictionaries, having the index will make the index the key (!!)\n",
        "    list_1.index = list_1.level\n",
        "    # connected mean of sales price for the current level\n",
        "    list_1['spmean'] = frame[[feature, output_var]].groupby(feature).mean()[output_var]\n",
        "    # then we have to order\n",
        "    list_1 = list_1.sort_values('spmean')\n",
        "    # then we can create the value that we want to assign - from 1 to rows list_1+1 (note we cannot use len because)\n",
        "    # list_1 is a dataframe and not a list\n",
        "    values = []\n",
        "    j = 1\n",
        "    for i in range(0, len(list_1)):\n",
        "        if list_1['level'][i].upper() in ['MISSING', 'NONE', 'NA', 'N']:\n",
        "            values.append(0)\n",
        "        else:\n",
        "            values.append(j)\n",
        "            j += 1\n",
        "            \n",
        "    list_1['value'] = values\n",
        "    # now let's make use of dictionaries that are so wonderful for cases like these\n",
        "    list_1 = list_1['value'].to_dict()    \n",
        "    for cat, o in list_1.items():\n",
        "        frame.loc[frame[feature] == cat, feature+'_E'] = o\n",
        "\n",
        "cat_vars_Enc = []\n",
        "for q in cat_vars:\n",
        "    encode(df_train, q)    \n",
        "    cat_vars_Enc.append(q+\"_E\")\n",
        "\n",
        "cat_vars_Enc"
      ],
      "execution_count": 7,
      "outputs": [
        {
          "output_type": "execute_result",
          "data": {
            "text/plain": [
              "['LandSlope_E',\n",
              " 'MiscFeature_E',\n",
              " 'Functional_E',\n",
              " 'Condition1_E',\n",
              " 'Alley_E',\n",
              " 'GarageCond_E',\n",
              " 'PavedDrive_E',\n",
              " 'CentralAir_E',\n",
              " 'HeatingQC_E',\n",
              " 'Exterior2nd_E',\n",
              " 'MSZoning_E',\n",
              " 'KitchenQual_E',\n",
              " 'GarageFinish_E',\n",
              " 'MasVnrType_E',\n",
              " 'BldgType_E',\n",
              " 'ExterCond_E',\n",
              " 'Neighborhood_E',\n",
              " 'Electrical_E',\n",
              " 'GarageType_E',\n",
              " 'Utilities_E',\n",
              " 'Fence_E',\n",
              " 'RoofMatl_E',\n",
              " 'Condition2_E',\n",
              " 'PoolQC_E',\n",
              " 'LandContour_E',\n",
              " 'BsmtFinType1_E',\n",
              " 'Foundation_E',\n",
              " 'GarageQual_E',\n",
              " 'BsmtQual_E',\n",
              " 'FireplaceQu_E',\n",
              " 'Street_E',\n",
              " 'LotShape_E',\n",
              " 'Heating_E',\n",
              " 'BsmtExposure_E',\n",
              " 'BsmtCond_E',\n",
              " 'LotConfig_E',\n",
              " 'ExterQual_E',\n",
              " 'HouseStyle_E',\n",
              " 'SaleType_E',\n",
              " 'RoofStyle_E',\n",
              " 'SaleCondition_E',\n",
              " 'Exterior1st_E',\n",
              " 'BsmtFinType2_E']"
            ]
          },
          "metadata": {
            "tags": []
          },
          "execution_count": 7
        }
      ]
    },
    {
      "metadata": {
        "id": "s9qiFaH4DBCl",
        "colab_type": "code",
        "outputId": "839e1ca6-1864-4f48-b5a2-b8987ee42536",
        "colab": {
          "base_uri": "https://localhost:8080/",
          "height": 798
        }
      },
      "cell_type": "code",
      "source": [
        "# this method copies the encode of encodedFrame in frame. The underlying hypothesis is that the encoded frame contains\n",
        "# the raw variable and the encoded one that has the same name + '_E', so the method builds the dictionary level, value\n",
        "# and apply it to the frame. It fails if the frame contains values not present in the encodedFrame\n",
        "def copyEncode(encodedFrame, frame, feature):    \n",
        "    list_1 = pd.DataFrame()\n",
        "    # level for each variable\n",
        "    list_1['level'] = encodedFrame[feature].unique()    \n",
        "    levels = encodedFrame[feature].unique()    \n",
        "    # build the values\n",
        "    values = []\n",
        "    for lev in levels:\n",
        "        values.append(min(encodedFrame[feature + '_E'].loc[encodedFrame[feature] == lev]))\n",
        "    list_1['value'] = values\n",
        "    \n",
        "    # now let's make use of dictionaries that are so wonderful for cases like these\n",
        "    list_1d = {}\n",
        "    for val in values:\n",
        "        list_1d[list_1['level'][values.index(val)]] = val\n",
        "    # a missing element can be present in the test set but not in the training set\n",
        "    list_1d['MISSING'] = 0\n",
        "    list_1 = list_1d        \n",
        "    for cat, o in list_1.items():\n",
        "        frame.loc[frame[feature] == cat, feature+'_E'] = o\n",
        "        \n",
        "for q in cat_vars:\n",
        "    copyEncode(df_train, df_test, q)    \n",
        "    print(q+\"_E\")"
      ],
      "execution_count": 8,
      "outputs": [
        {
          "output_type": "stream",
          "text": [
            "LandSlope_E\n",
            "MiscFeature_E\n",
            "Functional_E\n",
            "Condition1_E\n",
            "Alley_E\n",
            "GarageCond_E\n",
            "PavedDrive_E\n",
            "CentralAir_E\n",
            "HeatingQC_E\n",
            "Exterior2nd_E\n",
            "MSZoning_E\n",
            "KitchenQual_E\n",
            "GarageFinish_E\n",
            "MasVnrType_E\n",
            "BldgType_E\n",
            "ExterCond_E\n",
            "Neighborhood_E\n",
            "Electrical_E\n",
            "GarageType_E\n",
            "Utilities_E\n",
            "Fence_E\n",
            "RoofMatl_E\n",
            "Condition2_E\n",
            "PoolQC_E\n",
            "LandContour_E\n",
            "BsmtFinType1_E\n",
            "Foundation_E\n",
            "GarageQual_E\n",
            "BsmtQual_E\n",
            "FireplaceQu_E\n",
            "Street_E\n",
            "LotShape_E\n",
            "Heating_E\n",
            "BsmtExposure_E\n",
            "BsmtCond_E\n",
            "LotConfig_E\n",
            "ExterQual_E\n",
            "HouseStyle_E\n",
            "SaleType_E\n",
            "RoofStyle_E\n",
            "SaleCondition_E\n",
            "Exterior1st_E\n",
            "BsmtFinType2_E\n"
          ],
          "name": "stdout"
        }
      ]
    },
    {
      "metadata": {
        "id": "z3N8g91nDGMz",
        "colab_type": "code",
        "outputId": "002a2a6b-a750-4926-84cf-de82bf5c74cc",
        "colab": {
          "base_uri": "https://localhost:8080/",
          "height": 35
        }
      },
      "cell_type": "code",
      "source": [
        "df_train.shape, df_train.shape"
      ],
      "execution_count": 9,
      "outputs": [
        {
          "output_type": "execute_result",
          "data": {
            "text/plain": [
              "((1460, 124), (1460, 124))"
            ]
          },
          "metadata": {
            "tags": []
          },
          "execution_count": 9
        }
      ]
    },
    {
      "metadata": {
        "id": "X4ung6IQDKm6",
        "colab_type": "code",
        "outputId": "28d50639-bc83-4abd-eef8-20e0dceb64eb",
        "colab": {
          "base_uri": "https://localhost:8080/",
          "height": 35
        }
      },
      "cell_type": "code",
      "source": [
        "len(cat_vars) + len(cat_vars_Enc) + len(num_vars)"
      ],
      "execution_count": 10,
      "outputs": [
        {
          "output_type": "execute_result",
          "data": {
            "text/plain": [
              "122"
            ]
          },
          "metadata": {
            "tags": []
          },
          "execution_count": 10
        }
      ]
    },
    {
      "metadata": {
        "id": "wVtwqlNBDRHX",
        "colab_type": "text"
      },
      "cell_type": "markdown",
      "source": [
        "Let's define our KPI - Root Mean Squared Logaritmic Error. In the rank tihs is used as KPI to evaluate the model.  <br/>\n",
        "\n",
        "\n",
        "This function will be used to evaluate the goodness of the model."
      ]
    },
    {
      "metadata": {
        "id": "-c3hgde6DNpl",
        "colab_type": "code",
        "colab": {}
      },
      "cell_type": "code",
      "source": [
        "## RMSLE - Root Mean Squared Logaritmic Error\n",
        "## https://www.kaggle.com/marknagelberg/rmsle-function\n",
        "## This is the parameter used to rank models\n",
        "def rmsle(y_pred, y_test) : \n",
        "    assert len(y_test) == len(y_pred)\n",
        "    return np.sqrt(np.mean((np.log(1+y_pred) - np.log(1+y_test))**2))"
      ],
      "execution_count": 0,
      "outputs": []
    },
    {
      "metadata": {
        "id": "U9sfoKt2Dvjk",
        "colab_type": "text"
      },
      "cell_type": "markdown",
      "source": [
        "Now we will begin our feature engineering. We will add new features, simplify some and transform others so that we will have a wider range of features between which we can choose those that best fit our model."
      ]
    },
    {
      "metadata": {
        "id": "wOmMhkmaD70k",
        "colab_type": "code",
        "colab": {}
      },
      "cell_type": "code",
      "source": [
        "## variable simplification - I put S after the variable name\n",
        "\n",
        "df_train[\"SimplOverallQual_S\"] = df_train['OverallQual'].replace(\n",
        "    {1 : 1, 2 : 1, 3 : 1,        # bad\n",
        "     4 : 2, 5 : 2, 6 : 2,        # average\n",
        "     7 : 3, 8 : 3, 9 : 3, 10 : 3 # good\n",
        "    })\n",
        "\n",
        "df_train[\"SimplOverallCond_S\"] = df_train['OverallCond'].replace(\n",
        "    {1 : 1, 2 : 1, 3 : 1, # bad\n",
        "     4 : 2, 5 : 2, 6 : 2, # average\n",
        "     7 : 3, 8 : 3, 9 : 3, 10 : 3 # good\n",
        "    })\n",
        "\n",
        "df_train[\"SimplPoolQC_S\"] = df_train['PoolQC_E'].replace(\n",
        "    {1 : 1, 2 : 1, # average\n",
        "     3 : 2, 4 : 2  # good\n",
        "    })\n",
        "\n",
        "df_train[\"SimplGarageCond_S\"] = df_train['GarageCond_E'].replace(\n",
        "    {1 : 1, # bad\n",
        "     2 : 1, 3 : 1, # average\n",
        "     4 : 2, 5 : 2 # good\n",
        "     })\n",
        "\n",
        "df_train[\"SimplGarageQual_S\"] = df_train['GarageQual_E'].replace(\n",
        "    {1 : 1, # bad\n",
        "     2 : 1, 3 : 1, # average\n",
        "     4 : 2, 5 : 2 # good\n",
        "    })\n",
        "\n",
        "df_train[\"SimplFireplaceQu_S\"] = df_train['FireplaceQu_E'].replace(\n",
        "    {1 : 1, # bad\n",
        "     2 : 1, 3 : 1, # average\n",
        "     4 : 2, 5 : 2 # good\n",
        "    })\n",
        "\n",
        "df_train[\"SimplFunctional_S\"] = df_train['Functional_E'].replace(\n",
        "    {1 : 1, 2 : 1, # bad\n",
        "     3 : 2, 4 : 2, # major\n",
        "     5 : 3, 6 : 3, 7 : 3, # minor\n",
        "     8 : 4 # typical\n",
        "    })\n",
        "\n",
        "df_train[\"SimplKitchenQual_S\"] = df_train['KitchenQual_E'].replace(\n",
        "    {1 : 1, # bad\n",
        "     2 : 1, 3 : 1, # average\n",
        "     4 : 2, 5 : 2 # good\n",
        "    })\n",
        "\n",
        "df_train[\"SimplHeatingQC_S\"] = df_train['HeatingQC_E'].replace(\n",
        "    {1 : 1, # bad\n",
        "     2 : 1, 3 : 1, # average\n",
        "     4 : 2, 5 : 2 # good\n",
        "    })\n",
        "\n",
        "df_train[\"SimplBsmtFinType1_S\"] = df_train['BsmtFinType1_E'].replace(\n",
        "    {1 : 1, # unfinished\n",
        "     2 : 1, 3 : 1, # rec room\n",
        "     4 : 2, 5 : 2, 6 : 2 # living quarters\n",
        "    })\n",
        "\n",
        "df_train[\"SimplBsmtFinType2_S\"] = df_train['BsmtFinType2_E'].replace(\n",
        "    {1 : 1, # unfinished\n",
        "     2 : 1, 3 : 1, # rec room\n",
        "     4 : 2, 5 : 2, 6 : 2 # living quarters\n",
        "    })\n",
        "\n",
        "df_train[\"SimplBsmtCond_S\"] = df_train['BsmtCond_E'].replace(\n",
        "    {1 : 1, # bad\n",
        "     2 : 1, 3 : 1, # average\n",
        "     4 : 2, 5 : 2 # good\n",
        "    })\n",
        "\n",
        "df_train[\"SimplBsmtQual_S\"] = df_train['BsmtQual_E'].replace(\n",
        "    {1 : 1, # bad\n",
        "     2 : 1, 3 : 1, # average\n",
        "     4 : 2, 5 : 2 # good\n",
        "    })\n",
        "\n",
        "df_train[\"SimplExterCond_S\"] = df_train['ExterCond_E'].replace(\n",
        "    {1 : 1, # bad\n",
        "     2 : 1, 3 : 1, # average\n",
        "     4 : 2, 5 : 2 # good\n",
        "    })\n",
        "\n",
        "df_train[\"SimplExterQual_S\"] = df_train['ExterQual_E'].replace(\n",
        "    {1 : 1, # bad\n",
        "     2 : 1, 3 : 1, # average\n",
        "     4 : 2, 5 : 2 # good\n",
        "    })\n",
        "\n",
        "# House completed before sale or not\n",
        "df_train[\"BoughtOffPlan_S\"] = df_train['SaleCondition'].replace(\n",
        "    {\"Abnorml\" : 0, \"Alloca\" : 0, \"AdjLand\" : 0,\n",
        "     \"Family\" : 0, \"Normal\" : 0, \"Partial\" : 1})\n",
        "\n",
        "# Has masonry veneer or not\n",
        "df_train[\"HasMasVnr_S\"] = df_train['MasVnrType'].replace(\n",
        "    {\"BrkCmn\" : 1, \"BrkFace\" : 1, \"CBlock\" : 1, \"Stone\" : 1, \"None\" : 0, \"MISSING\": 0})"
      ],
      "execution_count": 0,
      "outputs": []
    },
    {
      "metadata": {
        "id": "yayn8-8cEDn7",
        "colab_type": "code",
        "colab": {}
      },
      "cell_type": "code",
      "source": [
        "## variable simplification in the training\n",
        "\n",
        "df_test[\"SimplOverallQual_S\"] = df_test['OverallQual'].replace(\n",
        "    {1 : 1, 2 : 1, 3 : 1,        # bad\n",
        "     4 : 2, 5 : 2, 6 : 2,        # average\n",
        "     7 : 3, 8 : 3, 9 : 3, 10 : 3 # good\n",
        "    })\n",
        "\n",
        "df_test[\"SimplOverallCond_S\"] = df_test['OverallCond'].replace(\n",
        "    {1 : 1, 2 : 1, 3 : 1, # bad\n",
        "     4 : 2, 5 : 2, 6 : 2, # average\n",
        "     7 : 3, 8 : 3, 9 : 3, 10 : 3 # good\n",
        "    })\n",
        "\n",
        "df_test[\"SimplPoolQC_S\"] = df_test['PoolQC_E'].replace(\n",
        "    {1 : 1, 2 : 1, # average\n",
        "     3 : 2, 4 : 2  # good\n",
        "    })\n",
        "\n",
        "df_test[\"SimplGarageCond_S\"] = df_test['GarageCond_E'].replace(\n",
        "    {1 : 1, # bad\n",
        "     2 : 1, 3 : 1, # average\n",
        "     4 : 2, 5 : 2 # good\n",
        "     })\n",
        "\n",
        "df_test[\"SimplGarageQual_S\"] = df_test['GarageQual_E'].replace(\n",
        "    {1 : 1, # bad\n",
        "     2 : 1, 3 : 1, # average\n",
        "     4 : 2, 5 : 2 # good\n",
        "    })\n",
        "\n",
        "df_test[\"SimplFireplaceQu_S\"] = df_test['FireplaceQu_E'].replace(\n",
        "    {1 : 1, # bad\n",
        "     2 : 1, 3 : 1, # average\n",
        "     4 : 2, 5 : 2 # good\n",
        "    })\n",
        "\n",
        "df_test[\"SimplFunctional_S\"] = df_test['Functional_E'].replace(\n",
        "    {1 : 1, 2 : 1, # bad\n",
        "     3 : 2, 4 : 2, # major\n",
        "     5 : 3, 6 : 3, 7 : 3, # minor\n",
        "     8 : 4 # typical\n",
        "    })\n",
        "\n",
        "df_test[\"SimplKitchenQual_S\"] = df_test['KitchenQual_E'].replace(\n",
        "    {1 : 1, # bad\n",
        "     2 : 1, 3 : 1, # average\n",
        "     4 : 2, 5 : 2 # good\n",
        "    })\n",
        "\n",
        "df_test[\"SimplHeatingQC_S\"] = df_test['HeatingQC_E'].replace(\n",
        "    {1 : 1, # bad\n",
        "     2 : 1, 3 : 1, # average\n",
        "     4 : 2, 5 : 2 # good\n",
        "    })\n",
        "\n",
        "df_test[\"SimplBsmtFinType1_S\"] = df_test['BsmtFinType1_E'].replace(\n",
        "    {1 : 1, # unfinished\n",
        "     2 : 1, 3 : 1, # rec room\n",
        "     4 : 2, 5 : 2, 6 : 2 # living quarters\n",
        "    })\n",
        "\n",
        "df_test[\"SimplBsmtFinType2_S\"] = df_test['BsmtFinType2_E'].replace(\n",
        "    {1 : 1, # unfinished\n",
        "     2 : 1, 3 : 1, # rec room\n",
        "     4 : 2, 5 : 2, 6 : 2 # living quarters\n",
        "    })\n",
        "\n",
        "df_test[\"SimplBsmtCond_S\"] = df_test['BsmtCond_E'].replace(\n",
        "    {1 : 1, # bad\n",
        "     2 : 1, 3 : 1, # average\n",
        "     4 : 2, 5 : 2 # good\n",
        "    })\n",
        "\n",
        "df_test[\"SimplBsmtQual_S\"] = df_test['BsmtQual_E'].replace(\n",
        "    {1 : 1, # bad\n",
        "     2 : 1, 3 : 1, # average\n",
        "     4 : 2, 5 : 2 # good\n",
        "    })\n",
        "\n",
        "df_test[\"SimplExterCond_S\"] = df_test['ExterCond_E'].replace(\n",
        "    {1 : 1, # bad\n",
        "     2 : 1, 3 : 1, # average\n",
        "     4 : 2, 5 : 2 # good\n",
        "    })\n",
        "\n",
        "df_test[\"SimplExterQual_S\"] = df_test['ExterQual_E'].replace(\n",
        "    {1 : 1, # bad\n",
        "     2 : 1, 3 : 1, # average\n",
        "     4 : 2, 5 : 2 # good\n",
        "    })\n",
        "\n",
        "# House completed before sale or not\n",
        "df_test[\"BoughtOffPlan_S\"] = df_test['SaleCondition'].replace(\n",
        "    {\"Abnorml\" : 0, \"Alloca\" : 0, \"AdjLand\" : 0,\n",
        "     \"Family\" : 0, \"Normal\" : 0, \"Partial\" : 1})\n",
        "\n",
        "# Has masonry veneer or not\n",
        "df_test[\"HasMasVnr_S\"] = df_test['MasVnrType'].replace(\n",
        "    {\"BrkCmn\" : 1, \"BrkFace\" : 1, \"CBlock\" : 1, \"Stone\" : 1, \"None\" : 0, \"MISSING\": 0})"
      ],
      "execution_count": 0,
      "outputs": []
    },
    {
      "metadata": {
        "id": "3ewAwcK4EIib",
        "colab_type": "code",
        "colab": {}
      },
      "cell_type": "code",
      "source": [
        "cat_vars_S = ['SimplOverallQual_S', 'SimplOverallCond_S', 'SimplPoolQC_S', \n",
        "              'SimplGarageCond_S', 'SimplGarageQual_S', 'SimplFireplaceQu_S', \n",
        "              'SimplFunctional_S', 'SimplKitchenQual_S', 'SimplHeatingQC_S', \n",
        "              'SimplBsmtFinType1_S', 'SimplBsmtFinType2_S', 'SimplBsmtCond_S', \n",
        "              'SimplBsmtQual_S', 'SimplExterCond_S', 'SimplExterQual_S', \n",
        "              'BoughtOffPlan_S', 'HasMasVnr_S']"
      ],
      "execution_count": 0,
      "outputs": []
    },
    {
      "metadata": {
        "id": "AGUqOqFzEMS3",
        "colab_type": "code",
        "colab": {}
      },
      "cell_type": "code",
      "source": [
        "df_train[\"OverallGrade_D\"] = df_train[\"OverallQual\"].astype(np.float64) * \\\n",
        "                              df_train[\"OverallCond\"].astype(np.float64)\n",
        "\n",
        "# Overall quality of the garage\n",
        "df_train[\"GarageGrade_D\"] = df_train[\"GarageQual_E\"].astype(np.float64) * \\\n",
        "                            df_train[\"GarageCond_E\"].astype(np.float64)\n",
        "\n",
        "# Overall quality of the exterior\n",
        "df_train[\"ExterGrade_D\"] = df_train[\"ExterQual_E\"].astype(np.float64) * \\\n",
        "                          df_train[\"ExterCond_E\"].astype(np.float64)\n",
        "\n",
        "# Overall kitchen score\n",
        "df_train[\"KitchenScore_D\"] = df_train[\"KitchenAbvGr\"].astype(np.float64) * \\\n",
        "                            df_train[\"KitchenQual_E\"].astype(np.float64)\n",
        "\n",
        "# Overall fireplace score\n",
        "df_train[\"FireplaceScore_D\"] = df_train[\"Fireplaces\"].astype(np.float64) * \\\n",
        "                              df_train[\"FireplaceQu_E\"].astype(np.float64)\n",
        "\n",
        "# Overall garage score\n",
        "df_train[\"GarageScore_D\"] = df_train[\"GarageArea\"].astype(np.float64) * \\\n",
        "                            df_train[\"GarageQual_E\"].astype(np.float64)\n",
        "\n",
        "# Overall pool score\n",
        "df_train[\"PoolScore_D\"] = df_train[\"PoolArea\"].astype(np.float64) * \\\n",
        "                          df_train[\"PoolQC_E\"].astype(np.float64)\n",
        "\n",
        "# Simplified overall quality of the house\n",
        "df_train[\"SimplOverallGrade_D\"] = df_train[\"SimplOverallQual_S\"].astype(np.float64) * \\\n",
        "                               df_train[\"SimplOverallCond_S\"].astype(np.float64)\n",
        "\n",
        "# Simplified overall pool score\n",
        "df_train[\"SimplPoolScore_D\"] = df_train[\"PoolArea\"].astype(np.float64) * \\\n",
        "                                df_train[\"SimplPoolQC_S\"].astype(np.float64)\n",
        "\n",
        "# Simplified overall garage score\n",
        "df_train[\"SimplGarageScore_D\"] = df_train[\"GarageArea\"].astype(np.float64) * \\\n",
        "                                df_train[\"SimplGarageQual_S\"].astype(np.float64)\n",
        "\n",
        "# Simplified overall fireplace score\n",
        "df_train[\"SimplFireplaceScore_D\"] = df_train[\"Fireplaces\"].astype(np.float64) *\\\n",
        "                              df_train[\"SimplFireplaceQu_S\"].astype(np.float64)\n",
        "\n",
        "# Simplified overall kitchen score\n",
        "df_train[\"SimplKitchenScore_D\"] = df_train[\"KitchenAbvGr\"].astype(np.float64) * \\\n",
        "                              df_train[\"SimplKitchenQual_S\"].astype(np.float64)\n",
        "\n",
        "# Total number of bathrooms\n",
        "df_train[\"TotalBath_D\"] = df_train[\"BsmtFullBath\"] + \\\n",
        "                        (0.5 * df_train[\"BsmtHalfBath\"]) + df_train[\"FullBath\"] +\\\n",
        "                        (0.5 * df_train[\"HalfBath\"])\n",
        "\n",
        "# Total SF for house (incl. basement)\n",
        "df_train[\"AllSF_D\"] = df_train[\"GrLivArea\"] + df_train[\"TotalBsmtSF\"]\n",
        "\n",
        "# Total SF for 1st + 2nd floors\n",
        "df_train[\"AllFlrsSF_D\"] = df_train[\"1stFlrSF\"] + df_train[\"2ndFlrSF\"]\n",
        "\n",
        "# Total SF for porch\n",
        "df_train[\"AllPorchSF_D\"] = df_train[\"OpenPorchSF\"] + df_train[\"EnclosedPorch\"] + \\\n",
        "                          df_train[\"3SsnPorch\"] + df_train[\"ScreenPorch\"]\n",
        "\n",
        "# Simplified overall quality of the exterior\n",
        "df_train[\"SimplExterGrade_D\"] = df_train[\"SimplExterQual_S\"].astype(np.float64) * \\\n",
        "                            df_train[\"SimplExterCond_S\"].astype(np.float64)"
      ],
      "execution_count": 0,
      "outputs": []
    },
    {
      "metadata": {
        "id": "AE7Kodt9E4ZA",
        "colab_type": "code",
        "colab": {}
      },
      "cell_type": "code",
      "source": [
        "# variable transformation in test set\n",
        "\n",
        "# Overall quality of the house\n",
        "df_test[\"OverallGrade_D\"] = df_test[\"OverallQual\"].astype(np.float64) * \\\n",
        "                            df_test[\"OverallCond\"].astype(np.float64)\n",
        "\n",
        "# Overall quality of the garage\n",
        "df_test[\"GarageGrade_D\"] = df_test[\"GarageQual_E\"].astype(np.float64) * \\\n",
        "                            df_test[\"GarageCond_E\"].astype(np.float64)\n",
        "\n",
        "# Overall quality of the exterior\n",
        "df_test[\"ExterGrade_D\"] = df_test[\"ExterQual_E\"].astype(np.float64) * \\\n",
        "                          df_test[\"ExterCond_E\"].astype(np.float64)\n",
        "\n",
        "# Overall kitchen score\n",
        "df_test[\"KitchenScore_D\"] = df_test[\"KitchenAbvGr\"].astype(np.float64) * \\\n",
        "                            df_test[\"KitchenQual_E\"].astype(np.float64)\n",
        "\n",
        "# Overall fireplace score\n",
        "df_test[\"FireplaceScore_D\"] = df_test[\"Fireplaces\"].astype(np.float64) * \\\n",
        "                              df_test[\"FireplaceQu_E\"].astype(np.float64)\n",
        "\n",
        "# Overall garage score\n",
        "df_test[\"GarageScore_D\"] = df_test[\"GarageArea\"].astype(np.float64) * \\\n",
        "                            df_test[\"GarageQual_E\"].astype(np.float64)\n",
        "\n",
        "# Overall pool score\n",
        "df_test[\"PoolScore_D\"] = df_test[\"PoolArea\"].astype(np.float64) * \\\n",
        "                          df_test[\"PoolQC_E\"].astype(np.float64)\n",
        "\n",
        "# Simplified overall quality of the house\n",
        "df_test[\"SimplOverallGrade_D\"] = df_test[\"SimplOverallQual_S\"].astype(np.float64) * \\\n",
        "                              df_test[\"SimplOverallCond_S\"].astype(np.float64)\n",
        "\n",
        "# Simplified overall pool score\n",
        "df_test[\"SimplPoolScore_D\"] = df_test[\"PoolArea\"].astype(np.float64) * \\\n",
        "                              df_test[\"SimplPoolQC_S\"].astype(np.float64)\n",
        "\n",
        "# Simplified overall garage score\n",
        "df_test[\"SimplGarageScore_D\"] = df_test[\"GarageArea\"].astype(np.float64) * \\\n",
        "                                df_test[\"SimplGarageQual_S\"].astype(np.float64)\n",
        "\n",
        "# Simplified overall fireplace score\n",
        "df_test[\"SimplFireplaceScore_D\"] = df_test[\"Fireplaces\"].astype(np.float64) * \\\n",
        "                                df_test[\"SimplFireplaceQu_S\"].astype(np.float64)\n",
        "\n",
        "# Simplified overall kitchen score\n",
        "df_test[\"SimplKitchenScore_D\"] = df_test[\"KitchenAbvGr\"].astype(np.float64) * \\\n",
        "                                df_test[\"SimplKitchenQual_S\"].astype(np.float64)\n",
        "\n",
        "# Total number of bathrooms\n",
        "df_test[\"TotalBath_D\"] = df_test[\"BsmtFullBath\"] + \\\n",
        "                        (0.5 * df_test[\"BsmtHalfBath\"]) + \\\n",
        "                          df_test[\"FullBath\"] + \\\n",
        "                        (0.5 * df_test[\"HalfBath\"])\n",
        "\n",
        "# Total SF for house (incl. basement)\n",
        "df_test[\"AllSF_D\"] = df_test[\"GrLivArea\"] + df_test[\"TotalBsmtSF\"]\n",
        "\n",
        "# Total SF for 1st + 2nd floors\n",
        "df_test[\"AllFlrsSF_D\"] = df_test[\"1stFlrSF\"] + df_test[\"2ndFlrSF\"]\n",
        "\n",
        "# Total SF for porch\n",
        "df_test[\"AllPorchSF_D\"] = df_test[\"OpenPorchSF\"] + df_test[\"EnclosedPorch\"] + \\\n",
        "                          df_test[\"3SsnPorch\"] + df_test[\"ScreenPorch\"]\n",
        "\n",
        "# Simplified overall quality of the exterior\n",
        "df_test[\"SimplExterGrade_D\"] = df_test[\"SimplExterQual_S\"].astype(np.float64) * \\\n",
        "                                df_test[\"SimplExterCond_S\"].astype(np.float64)"
      ],
      "execution_count": 0,
      "outputs": []
    },
    {
      "metadata": {
        "id": "ujvWj-WoFYO6",
        "colab_type": "code",
        "colab": {}
      },
      "cell_type": "code",
      "source": [
        "cat_vars_D = ['OverallGrade_D', 'GarageGrade_D', 'ExterGrade_D', 'KitchenScore_D', \n",
        "              'FireplaceScore_D', 'GarageScore_D', 'PoolScore_D', 'SimplOverallGrade_D', \n",
        "              'SimplPoolScore_D', 'SimplGarageScore_D', 'SimplFireplaceScore_D', \n",
        "              'SimplKitchenScore_D', 'TotalBath_D', 'AllSF_D', 'AllFlrsSF_D', \n",
        "              'AllPorchSF_D', 'SimplExterGrade_D']"
      ],
      "execution_count": 0,
      "outputs": []
    },
    {
      "metadata": {
        "id": "vNDc2sc8FbVR",
        "colab_type": "code",
        "colab": {}
      },
      "cell_type": "code",
      "source": [
        "# Create new features\n",
        "# 3* Polynomials on the top 10 existing features\n",
        "df_train[\"OverallQual_TL2\"] = np.log10(df_train[\"OverallQual\"] ** 2 + 1)\n",
        "df_train[\"OverallQual_TL3\"] = np.log10(df_train[\"OverallQual\"] ** 3 + 1)\n",
        "df_train[\"OverallQual_TSQ\"] = np.sqrt(df_train[\"OverallQual\"])\n",
        "df_train[\"OverallQual_TLOG\"] = np.log10(df_train[\"OverallQual\"] + 1)\n",
        "\n",
        "df_train[\"AllSF_TL2\"] = np.log10(df_train[\"AllSF_D\"] ** 2 + 1)\n",
        "df_train[\"AllSF_TL3\"] = np.log10(df_train[\"AllSF_D\"] ** 3 + 1)\n",
        "df_train[\"AllSF_TSQ\"] = np.sqrt(df_train[\"AllSF_D\"])\n",
        "df_train[\"AllSF_TLOG\"] = np.log10(df_train[\"AllSF_D\"] + 1)\n",
        "\n",
        "df_train[\"AllFlrsSF_TL2\"] = np.log10(df_train[\"AllFlrsSF_D\"] ** 2 + 1)\n",
        "df_train[\"AllFlrsSF_TL3\"] = np.log10(df_train[\"AllFlrsSF_D\"] ** 3 + 1)\n",
        "df_train[\"AllFlrsSF_TSQ\"] = np.sqrt(df_train[\"AllFlrsSF_D\"])\n",
        "df_train[\"AllFlrsSF_TLOG\"] = np.log10(df_train[\"AllFlrsSF_D\"] + 1)\n",
        "\n",
        "df_train[\"GrLivArea_TL2\"] = np.log10(df_train[\"GrLivArea\"] ** 2 + 1)\n",
        "df_train[\"GrLivArea_TL3\"] = np.log10(df_train[\"GrLivArea\"] ** 3 + 1)\n",
        "df_train[\"GrLivArea_TSQ\"] = np.sqrt(df_train[\"GrLivArea\"])\n",
        "df_train[\"GrLivArea_TLOG\"] = np.log10(df_train[\"GrLivArea\"] + 1)\n",
        "\n",
        "df_train[\"SimplOverallQual_TL2\"] = np.log10(df_train[\"SimplOverallQual_S\"] ** 2 + 1)\n",
        "df_train[\"SimplOverallQual_TL3\"] = np.log10(df_train[\"SimplOverallQual_S\"] ** 3 + 1)\n",
        "df_train[\"SimplOverallQual_TSQ\"] = np.sqrt(df_train[\"SimplOverallQual_S\"])\n",
        "df_train[\"SimplOverallQual_TLOG\"] = np.log10(df_train[\"SimplOverallQual_S\"] + 1)\n",
        "\n",
        "df_train[\"ExterQual_TL2\"] = np.log10(df_train[\"ExterQual_E\"] ** 2 + 1)\n",
        "df_train[\"ExterQual_TL3\"] = np.log10(df_train[\"ExterQual_E\"] ** 3 + 1)\n",
        "df_train[\"ExterQual_TSQ\"] = np.sqrt(df_train[\"ExterQual_E\"])\n",
        "df_train[\"ExterQual_TLOG\"] = np.log10(df_train[\"ExterQual_E\"] + 1) \n",
        "\n",
        "df_train[\"GarageCars_TL2\"] = np.log10(df_train[\"GarageCars\"] ** 2 + 1)\n",
        "df_train[\"GarageCars_TL3\"] = np.log10(df_train[\"GarageCars\"] ** 3 + 1)\n",
        "df_train[\"GarageCars_TSQ\"] = np.sqrt(df_train[\"GarageCars\"])\n",
        "df_train[\"GarageCars_TLOG\"] = np.log10(df_train[\"GarageCars\"] + 1)\n",
        "\n",
        "df_train[\"TotalBath_TL2\"] = np.log10(df_train[\"TotalBath_D\"] ** 2 + 1)\n",
        "df_train[\"TotalBath_TL3\"] = np.log10(df_train[\"TotalBath_D\"] ** 3 + 1)\n",
        "df_train[\"TotalBath_TSQ\"] = np.sqrt(df_train[\"TotalBath_D\"])\n",
        "df_train[\"TotalBath_TLOG\"] = np.log10(df_train[\"TotalBath_D\"] + 1)\n",
        "\n",
        "df_train[\"KitchenQual_TL2\"] = np.log10(df_train[\"KitchenQual_E\"] ** 2 + 1)\n",
        "df_train[\"KitchenQual_TL3\"] = np.log10(df_train[\"KitchenQual_E\"] ** 3 + 1)\n",
        "df_train[\"KitchenQual_TSQ\"] = np.sqrt(df_train[\"KitchenQual_E\"])\n",
        "df_train[\"KitchenQual_TLOG\"] = np.log10(df_train[\"KitchenQual_E\"] + 1)\n",
        "\n",
        "df_train[\"GarageScore_TL2\"] = np.log10(df_train[\"GarageScore_D\"] ** 2 + 1)\n",
        "df_train[\"GarageScore_TL3\"] = np.log10(df_train[\"GarageScore_D\"] ** 3 + 1)\n",
        "df_train[\"GarageScore_TSQ\"] = np.sqrt(df_train[\"GarageScore_D\"])\n",
        "df_train[\"GarageScore_TLOG\"] = np.log10(df_train[\"GarageScore_D\"] + 1)"
      ],
      "execution_count": 0,
      "outputs": []
    },
    {
      "metadata": {
        "id": "TVgzLYFjFf1q",
        "colab_type": "code",
        "colab": {}
      },
      "cell_type": "code",
      "source": [
        "# transformation for test set\n",
        "df_test[\"OverallQual_TL2\"] = np.log10(df_test[\"OverallQual\"] ** 2 + 1)\n",
        "df_test[\"OverallQual_TL3\"] = np.log10(df_test[\"OverallQual\"] ** 3 + 1)\n",
        "df_test[\"OverallQual_TSQ\"] = np.sqrt(df_test[\"OverallQual\"])\n",
        "df_test[\"OverallQual_TLOG\"] = np.log10(df_test[\"OverallQual\"] + 1)\n",
        "\n",
        "df_test[\"AllSF_TL2\"] = np.log10(df_test[\"AllSF_D\"] ** 2 + 1)\n",
        "df_test[\"AllSF_TL3\"] = np.log10(df_test[\"AllSF_D\"] ** 3 + 1)\n",
        "df_test[\"AllSF_TSQ\"] = np.sqrt(df_test[\"AllSF_D\"])\n",
        "df_test[\"AllSF_TLOG\"] = np.log10(df_test[\"AllSF_D\"] + 1)\n",
        "\n",
        "df_test[\"AllFlrsSF_TL2\"] = np.log10(df_test[\"AllFlrsSF_D\"] ** 2 + 1)\n",
        "df_test[\"AllFlrsSF_TL3\"] = np.log10(df_test[\"AllFlrsSF_D\"] ** 3 + 1)\n",
        "df_test[\"AllFlrsSF_TSQ\"] = np.sqrt(df_test[\"AllFlrsSF_D\"])\n",
        "df_test[\"AllFlrsSF_TLOG\"] = np.log10(df_test[\"AllFlrsSF_D\"] + 1)\n",
        "\n",
        "df_test[\"GrLivArea_TL2\"] = np.log10(df_test[\"GrLivArea\"] ** 2 + 1)\n",
        "df_test[\"GrLivArea_TL3\"] = np.log10(df_test[\"GrLivArea\"] ** 3 + 1)\n",
        "df_test[\"GrLivArea_TSQ\"] = np.sqrt(df_test[\"GrLivArea\"])\n",
        "df_test[\"GrLivArea_TLOG\"] = np.log10(df_test[\"GrLivArea\"] + 1)\n",
        "\n",
        "df_test[\"SimplOverallQual_TL2\"] = np.log10(df_test[\"SimplOverallQual_S\"] ** 2 + 1)\n",
        "df_test[\"SimplOverallQual_TL3\"] = np.log10(df_test[\"SimplOverallQual_S\"] ** 3 + 1)\n",
        "df_test[\"SimplOverallQual_TSQ\"] = np.sqrt(df_test[\"SimplOverallQual_S\"])\n",
        "df_test[\"SimplOverallQual_TLOG\"] = np.log10(df_test[\"SimplOverallQual_S\"] + 1)\n",
        "\n",
        "df_test[\"ExterQual_TL2\"] = np.log10(df_test[\"ExterQual_E\"] ** 2 + 1)\n",
        "df_test[\"ExterQual_TL3\"] = np.log10(df_test[\"ExterQual_E\"] ** 3 + 1)\n",
        "df_test[\"ExterQual_TSQ\"] = np.sqrt(df_test[\"ExterQual_E\"])\n",
        "df_test[\"ExterQual_TLOG\"] = np.log10(df_test[\"ExterQual_E\"] + 1) \n",
        "\n",
        "df_test[\"GarageCars_TL2\"] = np.log10(df_test[\"GarageCars\"] ** 2 + 1)\n",
        "df_test[\"GarageCars_TL3\"] = np.log10(df_test[\"GarageCars\"] ** 3 + 1)\n",
        "df_test[\"GarageCars_TSQ\"] = np.sqrt(df_test[\"GarageCars\"])\n",
        "df_test[\"GarageCars_TLOG\"] = np.log10(df_test[\"GarageCars\"] + 1)\n",
        "\n",
        "df_test[\"TotalBath_TL2\"] = np.log10(df_test[\"TotalBath_D\"] ** 2 + 1)\n",
        "df_test[\"TotalBath_TL3\"] = np.log10(df_test[\"TotalBath_D\"] ** 3 + 1)\n",
        "df_test[\"TotalBath_TSQ\"] = np.sqrt(df_test[\"TotalBath_D\"])\n",
        "df_test[\"TotalBath_TLOG\"] = np.log10(df_test[\"TotalBath_D\"] + 1)\n",
        "\n",
        "df_test[\"KitchenQual_TL2\"] = np.log10(df_test[\"KitchenQual_E\"] ** 2 + 1)\n",
        "df_test[\"KitchenQual_TL3\"] = np.log10(df_test[\"KitchenQual_E\"] ** 3 + 1)\n",
        "df_test[\"KitchenQual_TSQ\"] = np.sqrt(df_test[\"KitchenQual_E\"])\n",
        "df_test[\"KitchenQual_TLOG\"] = np.log10(df_test[\"KitchenQual_E\"] + 1)\n",
        "\n",
        "df_test[\"GarageScore_TL2\"] = np.log10(df_test[\"GarageScore_D\"] ** 2 + 1)\n",
        "df_test[\"GarageScore_TL3\"] = np.log10(df_test[\"GarageScore_D\"] ** 3 + 1)\n",
        "df_test[\"GarageScore_TSQ\"] = np.sqrt(df_test[\"GarageScore_D\"])\n",
        "df_test[\"GarageScore_TLOG\"] = np.log10(df_test[\"GarageScore_D\"] + 1)"
      ],
      "execution_count": 0,
      "outputs": []
    },
    {
      "metadata": {
        "id": "uMRqfDi7FjbQ",
        "colab_type": "code",
        "colab": {}
      },
      "cell_type": "code",
      "source": [
        "cat_vars_T = ['OverallQual_TL2', 'OverallQual_TL3', 'OverallQual_TSQ', 'OverallQual_TLOG',\n",
        "              'AllSF_TL2', 'AllSF_TL3', 'AllSF_TSQ', 'AllSF_TLOG', 'AllFlrsSF_TL2', \n",
        "              'AllFlrsSF_TL3', 'AllFlrsSF_TSQ', 'AllFlrsSF_TLOG', 'GrLivArea_TL2', \n",
        "              'GrLivArea_TL3', 'GrLivArea_TSQ', 'GrLivArea_TLOG', 'SimplOverallQual_TL2',\n",
        "              'SimplOverallQual_TL3', 'SimplOverallQual_TSQ', 'SimplOverallQual_TLOG', \n",
        "              'ExterQual_TL2', 'ExterQual_TL3', 'ExterQual_TSQ', 'ExterQual_TLOG', \n",
        "              'GarageCars_TL2', 'GarageCars_TL3', 'GarageCars_TSQ', 'GarageCars_TLOG', \n",
        "              'TotalBath_TL2', 'TotalBath_TL3', 'TotalBath_TSQ', 'TotalBath_TLOG', \n",
        "              'KitchenQual_TL2', 'KitchenQual_TL3', 'KitchenQual_TSQ', 'KitchenQual_TLOG',\n",
        "              'GarageScore_TL2', 'GarageScore_TL3', 'GarageScore_TSQ', 'GarageScore_TLOG']"
      ],
      "execution_count": 0,
      "outputs": []
    },
    {
      "metadata": {
        "id": "C3sBLogdFm75",
        "colab_type": "code",
        "outputId": "4be6caa6-f8bf-48ca-c369-3fd74c1e7a8a",
        "colab": {
          "base_uri": "https://localhost:8080/",
          "height": 35
        }
      },
      "cell_type": "code",
      "source": [
        "len(num_vars) + len(cat_vars_Enc) + len(cat_vars_D) + len(cat_vars_S) + len(cat_vars_T)"
      ],
      "execution_count": 21,
      "outputs": [
        {
          "output_type": "execute_result",
          "data": {
            "text/plain": [
              "153"
            ]
          },
          "metadata": {
            "tags": []
          },
          "execution_count": 21
        }
      ]
    },
    {
      "metadata": {
        "id": "4wDL8dEwFrTX",
        "colab_type": "code",
        "outputId": "02b505e3-9a5f-495e-b05f-3241be656fa2",
        "colab": {
          "base_uri": "https://localhost:8080/",
          "height": 35
        }
      },
      "cell_type": "code",
      "source": [
        "all_vars = num_vars + cat_vars_Enc + cat_vars_D + cat_vars_S + cat_vars_T\n",
        "len(all_vars)"
      ],
      "execution_count": 22,
      "outputs": [
        {
          "output_type": "execute_result",
          "data": {
            "text/plain": [
              "153"
            ]
          },
          "metadata": {
            "tags": []
          },
          "execution_count": 22
        }
      ]
    },
    {
      "metadata": {
        "id": "GJ5TA9YDFzmR",
        "colab_type": "code",
        "outputId": "a780652e-c4ea-4c83-f7cb-d742e36fef90",
        "colab": {
          "base_uri": "https://localhost:8080/",
          "height": 35
        }
      },
      "cell_type": "code",
      "source": [
        "output_var"
      ],
      "execution_count": 23,
      "outputs": [
        {
          "output_type": "execute_result",
          "data": {
            "text/plain": [
              "'SalePrice'"
            ]
          },
          "metadata": {
            "tags": []
          },
          "execution_count": 23
        }
      ]
    },
    {
      "metadata": {
        "id": "gfiIxacDF2z0",
        "colab_type": "code",
        "outputId": "1265e878-6d3b-49db-c071-201256f90091",
        "colab": {
          "base_uri": "https://localhost:8080/",
          "height": 35
        }
      },
      "cell_type": "code",
      "source": [
        "# clearly in df_test the sales price is missing and this is the variable that the submission wants to forecast\n",
        "df_train.shape, df_test.shape"
      ],
      "execution_count": 24,
      "outputs": [
        {
          "output_type": "execute_result",
          "data": {
            "text/plain": [
              "((1460, 198), (1459, 197))"
            ]
          },
          "metadata": {
            "tags": []
          },
          "execution_count": 24
        }
      ]
    },
    {
      "metadata": {
        "id": "gElWM-vFF5mE",
        "colab_type": "code",
        "colab": {}
      },
      "cell_type": "code",
      "source": [
        "df_train['SalePrice_TLOG'] = np.log10(df_train[[output_var]] + 1)"
      ],
      "execution_count": 0,
      "outputs": []
    },
    {
      "metadata": {
        "id": "oyzCtqFuGBji",
        "colab_type": "text"
      },
      "cell_type": "markdown",
      "source": [
        "<ol>\n",
        "   <li> Split in Training and Test set (p=0.2)\n",
        "   <li>Initialise the RMSLE to +inf\n",
        "   <li> Iterate again to add more variables 3.1. Iterate over the 154 variables in the following way: \n",
        "     <ol>\n",
        "       <li> For i = 1 To 10:\n",
        "         <ol>\n",
        "           <li> Determine Training and Test set\n",
        "           <li> Build the model with the i-th variable on the Training set\n",
        "           <li> Forecast on the Test set and calculate predicted\n",
        "           <li> Calculate the RMSLE comparing predicted Y on Test and real Y on Test           \n",
        "         </ol>\n",
        "         <li>Calculate KPI i-th as the MEDIAN of RMSLE over the 10 validations \n",
        "         <li> If Current KPI > KPI i-th then update Current KPI and include the variable\n",
        "     </ol>\n",
        "     <li> Stop after N iterations if you fail to add a variable\n",
        "</ol>   "
      ]
    },
    {
      "metadata": {
        "id": "tMOlIWtkHCZj",
        "colab_type": "code",
        "colab": {}
      },
      "cell_type": "code",
      "source": [
        "from sklearn.model_selection import train_test_split"
      ],
      "execution_count": 0,
      "outputs": []
    },
    {
      "metadata": {
        "id": "vP4wJqQJHfQs",
        "colab_type": "text"
      },
      "cell_type": "markdown",
      "source": [
        "Since I want to use the formula, I define the variable basket where I put a `v_` to all variables."
      ]
    },
    {
      "metadata": {
        "id": "AisJ5SHwI8ns",
        "colab_type": "code",
        "colab": {}
      },
      "cell_type": "code",
      "source": [
        "new_vars=[]\n",
        "all_vars_rn = []"
      ],
      "execution_count": 0,
      "outputs": []
    },
    {
      "metadata": {
        "id": "gzYCXr6aHN6C",
        "colab_type": "code",
        "outputId": "75bada78-c54c-41a6-b8ea-ce6ac4caa6e3",
        "colab": {
          "base_uri": "https://localhost:8080/",
          "height": 3632
        }
      },
      "cell_type": "code",
      "source": [
        "vars = df_train.columns\n",
        "new_vars = []\n",
        "for a in vars:\n",
        "    new_vars.append('v_' + a)\n",
        "df_train.columns = new_vars\n",
        "all_vars_rn = []\n",
        "for a in all_vars:\n",
        "    all_vars_rn.append('v_' + a)\n",
        "new_vars"
      ],
      "execution_count": 28,
      "outputs": [
        {
          "output_type": "execute_result",
          "data": {
            "text/plain": [
              "['v_Id',\n",
              " 'v_MSSubClass',\n",
              " 'v_MSZoning',\n",
              " 'v_LotFrontage',\n",
              " 'v_LotArea',\n",
              " 'v_Street',\n",
              " 'v_Alley',\n",
              " 'v_LotShape',\n",
              " 'v_LandContour',\n",
              " 'v_Utilities',\n",
              " 'v_LotConfig',\n",
              " 'v_LandSlope',\n",
              " 'v_Neighborhood',\n",
              " 'v_Condition1',\n",
              " 'v_Condition2',\n",
              " 'v_BldgType',\n",
              " 'v_HouseStyle',\n",
              " 'v_OverallQual',\n",
              " 'v_OverallCond',\n",
              " 'v_YearBuilt',\n",
              " 'v_YearRemodAdd',\n",
              " 'v_RoofStyle',\n",
              " 'v_RoofMatl',\n",
              " 'v_Exterior1st',\n",
              " 'v_Exterior2nd',\n",
              " 'v_MasVnrType',\n",
              " 'v_MasVnrArea',\n",
              " 'v_ExterQual',\n",
              " 'v_ExterCond',\n",
              " 'v_Foundation',\n",
              " 'v_BsmtQual',\n",
              " 'v_BsmtCond',\n",
              " 'v_BsmtExposure',\n",
              " 'v_BsmtFinType1',\n",
              " 'v_BsmtFinSF1',\n",
              " 'v_BsmtFinType2',\n",
              " 'v_BsmtFinSF2',\n",
              " 'v_BsmtUnfSF',\n",
              " 'v_TotalBsmtSF',\n",
              " 'v_Heating',\n",
              " 'v_HeatingQC',\n",
              " 'v_CentralAir',\n",
              " 'v_Electrical',\n",
              " 'v_1stFlrSF',\n",
              " 'v_2ndFlrSF',\n",
              " 'v_LowQualFinSF',\n",
              " 'v_GrLivArea',\n",
              " 'v_BsmtFullBath',\n",
              " 'v_BsmtHalfBath',\n",
              " 'v_FullBath',\n",
              " 'v_HalfBath',\n",
              " 'v_BedroomAbvGr',\n",
              " 'v_KitchenAbvGr',\n",
              " 'v_KitchenQual',\n",
              " 'v_TotRmsAbvGrd',\n",
              " 'v_Functional',\n",
              " 'v_Fireplaces',\n",
              " 'v_FireplaceQu',\n",
              " 'v_GarageType',\n",
              " 'v_GarageYrBlt',\n",
              " 'v_GarageFinish',\n",
              " 'v_GarageCars',\n",
              " 'v_GarageArea',\n",
              " 'v_GarageQual',\n",
              " 'v_GarageCond',\n",
              " 'v_PavedDrive',\n",
              " 'v_WoodDeckSF',\n",
              " 'v_OpenPorchSF',\n",
              " 'v_EnclosedPorch',\n",
              " 'v_3SsnPorch',\n",
              " 'v_ScreenPorch',\n",
              " 'v_PoolArea',\n",
              " 'v_PoolQC',\n",
              " 'v_Fence',\n",
              " 'v_MiscFeature',\n",
              " 'v_MiscVal',\n",
              " 'v_MoSold',\n",
              " 'v_YrSold',\n",
              " 'v_SaleType',\n",
              " 'v_SaleCondition',\n",
              " 'v_SalePrice',\n",
              " 'v_LandSlope_E',\n",
              " 'v_MiscFeature_E',\n",
              " 'v_Functional_E',\n",
              " 'v_Condition1_E',\n",
              " 'v_Alley_E',\n",
              " 'v_GarageCond_E',\n",
              " 'v_PavedDrive_E',\n",
              " 'v_CentralAir_E',\n",
              " 'v_HeatingQC_E',\n",
              " 'v_Exterior2nd_E',\n",
              " 'v_MSZoning_E',\n",
              " 'v_KitchenQual_E',\n",
              " 'v_GarageFinish_E',\n",
              " 'v_MasVnrType_E',\n",
              " 'v_BldgType_E',\n",
              " 'v_ExterCond_E',\n",
              " 'v_Neighborhood_E',\n",
              " 'v_Electrical_E',\n",
              " 'v_GarageType_E',\n",
              " 'v_Utilities_E',\n",
              " 'v_Fence_E',\n",
              " 'v_RoofMatl_E',\n",
              " 'v_Condition2_E',\n",
              " 'v_PoolQC_E',\n",
              " 'v_LandContour_E',\n",
              " 'v_BsmtFinType1_E',\n",
              " 'v_Foundation_E',\n",
              " 'v_GarageQual_E',\n",
              " 'v_BsmtQual_E',\n",
              " 'v_FireplaceQu_E',\n",
              " 'v_Street_E',\n",
              " 'v_LotShape_E',\n",
              " 'v_Heating_E',\n",
              " 'v_BsmtExposure_E',\n",
              " 'v_BsmtCond_E',\n",
              " 'v_LotConfig_E',\n",
              " 'v_ExterQual_E',\n",
              " 'v_HouseStyle_E',\n",
              " 'v_SaleType_E',\n",
              " 'v_RoofStyle_E',\n",
              " 'v_SaleCondition_E',\n",
              " 'v_Exterior1st_E',\n",
              " 'v_BsmtFinType2_E',\n",
              " 'v_SimplOverallQual_S',\n",
              " 'v_SimplOverallCond_S',\n",
              " 'v_SimplPoolQC_S',\n",
              " 'v_SimplGarageCond_S',\n",
              " 'v_SimplGarageQual_S',\n",
              " 'v_SimplFireplaceQu_S',\n",
              " 'v_SimplFunctional_S',\n",
              " 'v_SimplKitchenQual_S',\n",
              " 'v_SimplHeatingQC_S',\n",
              " 'v_SimplBsmtFinType1_S',\n",
              " 'v_SimplBsmtFinType2_S',\n",
              " 'v_SimplBsmtCond_S',\n",
              " 'v_SimplBsmtQual_S',\n",
              " 'v_SimplExterCond_S',\n",
              " 'v_SimplExterQual_S',\n",
              " 'v_BoughtOffPlan_S',\n",
              " 'v_HasMasVnr_S',\n",
              " 'v_OverallGrade_D',\n",
              " 'v_GarageGrade_D',\n",
              " 'v_ExterGrade_D',\n",
              " 'v_KitchenScore_D',\n",
              " 'v_FireplaceScore_D',\n",
              " 'v_GarageScore_D',\n",
              " 'v_PoolScore_D',\n",
              " 'v_SimplOverallGrade_D',\n",
              " 'v_SimplPoolScore_D',\n",
              " 'v_SimplGarageScore_D',\n",
              " 'v_SimplFireplaceScore_D',\n",
              " 'v_SimplKitchenScore_D',\n",
              " 'v_TotalBath_D',\n",
              " 'v_AllSF_D',\n",
              " 'v_AllFlrsSF_D',\n",
              " 'v_AllPorchSF_D',\n",
              " 'v_SimplExterGrade_D',\n",
              " 'v_OverallQual_TL2',\n",
              " 'v_OverallQual_TL3',\n",
              " 'v_OverallQual_TSQ',\n",
              " 'v_OverallQual_TLOG',\n",
              " 'v_AllSF_TL2',\n",
              " 'v_AllSF_TL3',\n",
              " 'v_AllSF_TSQ',\n",
              " 'v_AllSF_TLOG',\n",
              " 'v_AllFlrsSF_TL2',\n",
              " 'v_AllFlrsSF_TL3',\n",
              " 'v_AllFlrsSF_TSQ',\n",
              " 'v_AllFlrsSF_TLOG',\n",
              " 'v_GrLivArea_TL2',\n",
              " 'v_GrLivArea_TL3',\n",
              " 'v_GrLivArea_TSQ',\n",
              " 'v_GrLivArea_TLOG',\n",
              " 'v_SimplOverallQual_TL2',\n",
              " 'v_SimplOverallQual_TL3',\n",
              " 'v_SimplOverallQual_TSQ',\n",
              " 'v_SimplOverallQual_TLOG',\n",
              " 'v_ExterQual_TL2',\n",
              " 'v_ExterQual_TL3',\n",
              " 'v_ExterQual_TSQ',\n",
              " 'v_ExterQual_TLOG',\n",
              " 'v_GarageCars_TL2',\n",
              " 'v_GarageCars_TL3',\n",
              " 'v_GarageCars_TSQ',\n",
              " 'v_GarageCars_TLOG',\n",
              " 'v_TotalBath_TL2',\n",
              " 'v_TotalBath_TL3',\n",
              " 'v_TotalBath_TSQ',\n",
              " 'v_TotalBath_TLOG',\n",
              " 'v_KitchenQual_TL2',\n",
              " 'v_KitchenQual_TL3',\n",
              " 'v_KitchenQual_TSQ',\n",
              " 'v_KitchenQual_TLOG',\n",
              " 'v_GarageScore_TL2',\n",
              " 'v_GarageScore_TL3',\n",
              " 'v_GarageScore_TSQ',\n",
              " 'v_GarageScore_TLOG',\n",
              " 'v_SalePrice_TLOG']"
            ]
          },
          "metadata": {
            "tags": []
          },
          "execution_count": 28
        }
      ]
    },
    {
      "metadata": {
        "id": "fW0simoDHsNF",
        "colab_type": "text"
      },
      "cell_type": "markdown",
      "source": [
        "Now I simulate one iteration and then I need to automate the procedure"
      ]
    },
    {
      "metadata": {
        "id": "IfGb9t6rHXKB",
        "colab_type": "code",
        "colab": {}
      },
      "cell_type": "code",
      "source": [
        "X = df_train[all_vars_rn]\n",
        "yL = df_train[['v_SalePrice_TLOG','v_SalePrice']]\n",
        "X_train, X_test, y_train, y_test = train_test_split(df_train[all_vars_rn], yL, test_size=0.2)"
      ],
      "execution_count": 0,
      "outputs": []
    },
    {
      "metadata": {
        "id": "EXnP7aGSHbln",
        "colab_type": "code",
        "outputId": "662a7882-ed24-43f8-a78f-ac28c8217202",
        "colab": {
          "base_uri": "https://localhost:8080/",
          "height": 35
        }
      },
      "cell_type": "code",
      "source": [
        "X.shape, X_train.shape, yL.shape, y_train.shape, X_test.shape"
      ],
      "execution_count": 30,
      "outputs": [
        {
          "output_type": "execute_result",
          "data": {
            "text/plain": [
              "((1460, 153), (1168, 153), (1460, 2), (1168, 2), (292, 153))"
            ]
          },
          "metadata": {
            "tags": []
          },
          "execution_count": 30
        }
      ]
    },
    {
      "metadata": {
        "id": "SH1DHxVZHy1D",
        "colab_type": "code",
        "outputId": "45cec01b-a411-4602-9cdc-23481de7e6db",
        "colab": {
          "base_uri": "https://localhost:8080/",
          "height": 35
        }
      },
      "cell_type": "code",
      "source": [
        "all_vars_rn[0]"
      ],
      "execution_count": 31,
      "outputs": [
        {
          "output_type": "execute_result",
          "data": {
            "text/plain": [
              "'v_MiscVal'"
            ]
          },
          "metadata": {
            "tags": []
          },
          "execution_count": 31
        }
      ]
    },
    {
      "metadata": {
        "id": "MSHzONZXH2oW",
        "colab_type": "code",
        "outputId": "2ae66a88-e5aa-4dcd-8171-6f811385a659",
        "colab": {
          "base_uri": "https://localhost:8080/",
          "height": 471
        }
      },
      "cell_type": "code",
      "source": [
        "import statsmodels.formula.api as smf\n",
        "df_training = pd.DataFrame()\n",
        "df_training = X_train\n",
        "df_training['v_SalePrice_TLOG'] = y_train['v_SalePrice_TLOG']\n",
        "df_testing = pd.DataFrame()\n",
        "df_testing = X_test\n",
        "df_testing['v_SalePrice_TLOG'] = y_test['v_SalePrice_TLOG']\n",
        "model = smf.ols(formula = 'v_SalePrice_TLOG ~ ' + all_vars_rn[0], data = df_training)\n",
        "fitted = model.fit()\n",
        "print (fitted.summary())"
      ],
      "execution_count": 32,
      "outputs": [
        {
          "output_type": "stream",
          "text": [
            "                            OLS Regression Results                            \n",
            "==============================================================================\n",
            "Dep. Variable:       v_SalePrice_TLOG   R-squared:                       0.000\n",
            "Model:                            OLS   Adj. R-squared:                 -0.001\n",
            "Method:                 Least Squares   F-statistic:                    0.2120\n",
            "Date:                Wed, 24 Apr 2019   Prob (F-statistic):              0.645\n",
            "Time:                        16:15:38   Log-Likelihood:                 398.38\n",
            "No. Observations:                1168   AIC:                            -792.8\n",
            "Df Residuals:                    1166   BIC:                            -782.6\n",
            "Df Model:                           1                                         \n",
            "Covariance Type:            nonrobust                                         \n",
            "==============================================================================\n",
            "                 coef    std err          t      P>|t|      [0.025      0.975]\n",
            "------------------------------------------------------------------------------\n",
            "Intercept      5.2203      0.005   1032.969      0.000       5.210       5.230\n",
            "v_MiscVal  -4.835e-06   1.05e-05     -0.460      0.645   -2.54e-05    1.58e-05\n",
            "==============================================================================\n",
            "Omnibus:                       21.938   Durbin-Watson:                   1.945\n",
            "Prob(Omnibus):                  0.000   Jarque-Bera (JB):               39.452\n",
            "Skew:                           0.089   Prob(JB):                     2.71e-09\n",
            "Kurtosis:                       3.883   Cond. No.                         483.\n",
            "==============================================================================\n",
            "\n",
            "Warnings:\n",
            "[1] Standard Errors assume that the covariance matrix of the errors is correctly specified.\n"
          ],
          "name": "stdout"
        }
      ]
    },
    {
      "metadata": {
        "id": "jwy29MDpKBq-",
        "colab_type": "code",
        "outputId": "629f260e-c352-4051-e632-b5c0426fb870",
        "colab": {
          "base_uri": "https://localhost:8080/",
          "height": 35
        }
      },
      "cell_type": "code",
      "source": [
        "# checking the performance of the current variable\n",
        "y_NewLog = fitted.predict(df_testing)\n",
        "y_New = y_NewLog.apply(lambda x: 10 ** x)\n",
        "tpl = (all_vars_rn[0],rmsle(y_New, y_test['v_SalePrice']))\n",
        "tpl"
      ],
      "execution_count": 33,
      "outputs": [
        {
          "output_type": "execute_result",
          "data": {
            "text/plain": [
              "('v_MiscVal', 0.4115243185289645)"
            ]
          },
          "metadata": {
            "tags": []
          },
          "execution_count": 33
        }
      ]
    },
    {
      "metadata": {
        "id": "7-uGc5HGLhCK",
        "colab_type": "code",
        "outputId": "9b5ce0d4-ec70-41a3-efb5-e5692f278e85",
        "colab": {
          "base_uri": "https://localhost:8080/",
          "height": 1834
        }
      },
      "cell_type": "code",
      "source": [
        "# setting for the iteration\n",
        "rs = 1 #random_state\n",
        "perf_iter = []\n",
        "perf_var = []\n",
        "\n",
        "\n",
        "for i in range(100):\n",
        "  form = 'v_SalePrice_TLOG ~ ' + all_vars_rn[i] # formula\n",
        "  perf_iter = []\n",
        "  # in order to make the procedure not dependent from the data we do a sort of\n",
        "  # cross validation changing test and train set each time\n",
        "\n",
        "  for cross in range(10):\n",
        "    # Step 1: change the train and test set\n",
        "    X_train, X_test, y_train, y_test = train_test_split(df_train[all_vars_rn], \n",
        "                                                        yL, \n",
        "                                                        test_size=0.2,\n",
        "                                                        random_state = rs)\n",
        "    # Step 2: fit the model\n",
        "    df_training = pd.DataFrame()\n",
        "    df_training = X_train\n",
        "    df_training['v_SalePrice_TLOG'] = y_train['v_SalePrice_TLOG']\n",
        "    df_testing = pd.DataFrame()\n",
        "    df_testing = X_test\n",
        "    df_testing['v_SalePrice_TLOG'] = y_test['v_SalePrice_TLOG']\n",
        "    model_tmp = smf.ols(formula = form, data = df_training)\n",
        "    fitted_tmp = model_tmp.fit()\n",
        "\n",
        "    # Step 3: calculate the performance\n",
        "    y_NewLog_tmp = fitted_tmp.predict(df_testing)\n",
        "    y_New_tmp = y_NewLog_tmp.apply(lambda x: 10 ** x)\n",
        "    tpl = (all_vars_rn[i], rmsle(y_New_tmp, y_test['v_SalePrice']))\n",
        "    perf_iter.append(tpl)\n",
        "    rs += 1\n",
        "\n",
        "\n",
        "  # at the end we need to take the median of the RMSLE that we obtain sorting the\n",
        "  # list by the second element and we take the average between element 4 and 5\n",
        "  perf_iter = sorted(perf_iter, key=lambda x: x[1])\n",
        "  perf_iter_tpl = (all_vars_rn[i], (perf_iter[4][1] + perf_iter[5][1]) / 2 )\n",
        "  # at the end we have the variable name and the median of the RMSLE \n",
        "  perf_var.append(perf_iter_tpl)\n",
        "\n",
        "perf_var = sorted(perf_var, key=lambda x: x[1])\n",
        "perf_var"
      ],
      "execution_count": 34,
      "outputs": [
        {
          "output_type": "execute_result",
          "data": {
            "text/plain": [
              "[('v_OverallQual', 0.22385332633810967),\n",
              " ('v_AllSF_D', 0.23499823397229425),\n",
              " ('v_Neighborhood_E', 0.269287461390883),\n",
              " ('v_AllFlrsSF_D', 0.27506071885699385),\n",
              " ('v_GrLivArea', 0.27622020769331657),\n",
              " ('v_SimplOverallQual_S', 0.2840971027408259),\n",
              " ('v_ExterQual_E', 0.28860282230945555),\n",
              " ('v_GarageCars', 0.2909933574319621),\n",
              " ('v_ExterGrade_D', 0.2932496038575455),\n",
              " ('v_TotalBath_D', 0.29503141111178294),\n",
              " ('v_KitchenQual_E', 0.2969119752138284),\n",
              " ('v_GarageScore_D', 0.30654724549953477),\n",
              " ('v_GarageArea', 0.3070089974992666),\n",
              " ('v_TotalBsmtSF', 0.30905036522383633),\n",
              " ('v_BsmtQual_E', 0.3090648977558159),\n",
              " ('v_OverallGrade_D', 0.3096999117416579),\n",
              " ('v_SimplGarageScore_D', 0.31063727083810844),\n",
              " ('v_GarageFinish_E', 0.31171304756970786),\n",
              " ('v_1stFlrSF', 0.31334748868706624),\n",
              " ('v_FullBath', 0.31788550608237465),\n",
              " ('v_GarageYrBlt', 0.32181057526198525),\n",
              " ('v_YearBuilt', 0.3268489720024871),\n",
              " ('v_GarageType_E', 0.327916602437043),\n",
              " ('v_YearRemodAdd', 0.3283203412173563),\n",
              " ('v_TotRmsAbvGrd', 0.3343587655755258),\n",
              " ('v_KitchenScore_D', 0.33629883399172994),\n",
              " ('v_FireplaceQu_E', 0.3374492360939122),\n",
              " ('v_Fireplaces', 0.34020230941566143),\n",
              " ('v_Foundation_E', 0.3403347011046246),\n",
              " ('v_SimplOverallGrade_D', 0.341231437343018),\n",
              " ('v_FireplaceScore_D', 0.3510676006392297),\n",
              " ('v_Exterior1st_E', 0.3578493229832121),\n",
              " ('v_HeatingQC_E', 0.35830363798546305),\n",
              " ('v_SimplFireplaceScore_D', 0.35883699858018836),\n",
              " ('v_MasVnrType_E', 0.35912075402674215),\n",
              " ('v_MasVnrArea', 0.3635445621550144),\n",
              " ('v_GarageGrade_D', 0.36504355159622004),\n",
              " ('v_SimplGarageCond_S', 0.36869840393433884),\n",
              " ('v_CentralAir_E', 0.3698107266691522),\n",
              " ('v_Exterior2nd_E', 0.370001092181937),\n",
              " ('v_BsmtFinType1_E', 0.37039539644490305),\n",
              " ('v_SaleType_E', 0.3710335768486279),\n",
              " ('v_BsmtFinSF1', 0.3714907486806081),\n",
              " ('v_OpenPorchSF', 0.3723177835837871),\n",
              " ('v_Electrical_E', 0.3726455945710526),\n",
              " ('v_WoodDeckSF', 0.3742481419595959),\n",
              " ('v_SimplExterGrade_D', 0.37474483491623267),\n",
              " ('v_HouseStyle_E', 0.37488905458150135),\n",
              " ('v_PavedDrive_E', 0.37503140571407667),\n",
              " ('v_BsmtCond_E', 0.3758990731932784),\n",
              " ('v_MSZoning_E', 0.37634049031727246),\n",
              " ('v_GarageCond_E', 0.37852567614776045),\n",
              " ('v_BsmtExposure_E', 0.3801816844828598),\n",
              " ('v_HalfBath', 0.38238758198095746),\n",
              " ('v_Condition2_E', 0.38280576951618633),\n",
              " ('v_2ndFlrSF', 0.3830814766173921),\n",
              " ('v_LotFrontage', 0.38331459078789887),\n",
              " ('v_RoofStyle_E', 0.38457054985424244),\n",
              " ('v_PoolQC_E', 0.3861606595416479),\n",
              " ('v_SimplKitchenScore_D', 0.38624623721827117),\n",
              " ('v_BsmtFinType2_E', 0.38668171189750156),\n",
              " ('v_LotArea', 0.3873000628231671),\n",
              " ('v_BsmtUnfSF', 0.38735018267098076),\n",
              " ('v_LotShape_E', 0.3879061130878134),\n",
              " ('v_AllPorchSF_D', 0.388054951082227),\n",
              " ('v_YrSold', 0.38891582495874544),\n",
              " ('v_BsmtFullBath', 0.3890083759061159),\n",
              " ('v_LotConfig_E', 0.391104450596618),\n",
              " ('v_BsmtHalfBath', 0.3911888410583094),\n",
              " ('v_BldgType_E', 0.39141774165314114),\n",
              " ('v_Condition1_E', 0.3917135438188337),\n",
              " ('v_GarageQual_E', 0.39201028803077975),\n",
              " ('v_Fence_E', 0.392407174062798),\n",
              " ('v_SaleCondition_E', 0.3930394567701411),\n",
              " ('v_MSSubClass', 0.3941713592273425),\n",
              " ('v_BsmtFinSF2', 0.3949437235541957),\n",
              " ('v_SimplPoolScore_D', 0.395840321210665),\n",
              " ('v_BedroomAbvGr', 0.3960728096860064),\n",
              " ('v_LandSlope_E', 0.39622713836141005),\n",
              " ('v_ExterCond_E', 0.3968100972787473),\n",
              " ('v_Heating_E', 0.3968265860797645),\n",
              " ('v_Utilities_E', 0.39683948369492605),\n",
              " ('v_ScreenPorch', 0.39750144693643213),\n",
              " ('v_Functional_E', 0.39838747026342386),\n",
              " ('v_SimplPoolQC_S', 0.40043022182209204),\n",
              " ('v_RoofMatl_E', 0.40078893054476517),\n",
              " ('v_EnclosedPorch', 0.4009693464990216),\n",
              " ('v_LandContour_E', 0.40110169174486915),\n",
              " ('v_PoolScore_D', 0.40123583773500654),\n",
              " ('v_OverallCond', 0.4017087581784461),\n",
              " ('v_MiscFeature_E', 0.4025664412476092),\n",
              " ('v_SimplOverallCond_S', 0.40288542415516393),\n",
              " ('v_PoolArea', 0.40297721309280066),\n",
              " ('v_Alley_E', 0.4059636247779723),\n",
              " ('v_MoSold', 0.40615889585085374),\n",
              " ('v_KitchenAbvGr', 0.40686428184362433),\n",
              " ('v_Street_E', 0.4092450515855029),\n",
              " ('v_MiscVal', 0.4103615522016405),\n",
              " ('v_3SsnPorch', 0.4107813067873549),\n",
              " ('v_LowQualFinSF', 0.4119652774145783)]"
            ]
          },
          "metadata": {
            "tags": []
          },
          "execution_count": 34
        }
      ]
    },
    {
      "metadata": {
        "id": "plNdtbldPEWN",
        "colab_type": "code",
        "outputId": "4b816a5c-9178-4682-c54e-08c18ce1df48",
        "colab": {
          "base_uri": "https://localhost:8080/",
          "height": 35
        }
      },
      "cell_type": "code",
      "source": [
        "perf_iter = (all_vars_rn[0], (perf_iter[4][1] + perf_iter[5][1]) / 2 )\n",
        "perf_iter"
      ],
      "execution_count": 35,
      "outputs": [
        {
          "output_type": "execute_result",
          "data": {
            "text/plain": [
              "('v_MiscVal', 0.36869840393433884)"
            ]
          },
          "metadata": {
            "tags": []
          },
          "execution_count": 35
        }
      ]
    }
  ]
}