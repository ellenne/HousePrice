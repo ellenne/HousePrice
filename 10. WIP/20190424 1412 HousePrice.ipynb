{
  "nbformat": 4,
  "nbformat_minor": 0,
  "metadata": {
    "colab": {
      "name": "HousePrice.ipynb",
      "version": "0.3.2",
      "provenance": [],
      "collapsed_sections": [],
      "include_colab_link": true
    },
    "kernelspec": {
      "name": "python3",
      "display_name": "Python 3"
    }
  },
  "cells": [
    {
      "cell_type": "markdown",
      "metadata": {
        "id": "view-in-github",
        "colab_type": "text"
      },
      "source": [
        "<a href=\"https://colab.research.google.com/github/ellenne/HousePrice/blob/master/HousePrice.ipynb\" target=\"_parent\"><img src=\"https://colab.research.google.com/assets/colab-badge.svg\" alt=\"Open In Colab\"/></a>"
      ]
    },
    {
      "metadata": {
        "id": "F0cL_FHZ9247",
        "colab_type": "code",
        "colab": {}
      },
      "cell_type": "code",
      "source": [
        "import pandas as pd\n",
        "import matplotlib.pyplot as plt\n",
        "from matplotlib.gridspec import GridSpec\n",
        "import seaborn as sns\n",
        "import numpy as np\n",
        "import scipy.stats as stats\n",
        "import statsmodels.formula.api as smf\n",
        "import statsmodels.api as sm\n",
        "from sklearn.utils import check_array\n",
        "from sklearn.impute import SimpleImputer\n",
        "from sklearn.metrics import mean_squared_error, r2_score\n",
        "import warnings\n",
        "warnings.filterwarnings('ignore')\n",
        "# Definitions\n",
        "pd.set_option('display.float_format', lambda x: '%.3f' % x)\n",
        "%matplotlib inline"
      ],
      "execution_count": 0,
      "outputs": []
    },
    {
      "metadata": {
        "id": "U23cxYU498EX",
        "colab_type": "code",
        "colab": {}
      },
      "cell_type": "code",
      "source": [
        "train_url = 'https://raw.githubusercontent.com/ellenne/rawdata/master/train.csv'\n",
        "test_url = 'https://raw.githubusercontent.com/ellenne/rawdata/master/test.csv'\n"
      ],
      "execution_count": 0,
      "outputs": []
    },
    {
      "metadata": {
        "id": "Jg4ktKtTAd3t",
        "colab_type": "code",
        "colab": {}
      },
      "cell_type": "code",
      "source": [
        "df_train = pd.read_csv(train_url)\n",
        "df_test = pd.read_csv(test_url)"
      ],
      "execution_count": 0,
      "outputs": []
    },
    {
      "metadata": {
        "id": "lcH9yRSgCfFo",
        "colab_type": "text"
      },
      "cell_type": "markdown",
      "source": [
        "Here we separate our variables into numeric and categorical. We also take out the `Id` and `SalePrice` will be set as output variable"
      ]
    },
    {
      "metadata": {
        "id": "MHPC2HghCcJ8",
        "colab_type": "code",
        "outputId": "9cbe0f6a-db22-43f8-e461-c992f2c0902f",
        "colab": {
          "base_uri": "https://localhost:8080/",
          "height": 1470
        }
      },
      "cell_type": "code",
      "source": [
        "all_vars = list(df_train)\n",
        "output_var = 'SalePrice'\n",
        "num_vars = list(df_train._get_numeric_data())\n",
        "cat_vars = list(set(all_vars) - set(num_vars))\n",
        "num_vars = list(set(num_vars) - set(['SalePrice', 'Id']))\n",
        "(output_var, num_vars, cat_vars)"
      ],
      "execution_count": 0,
      "outputs": [
        {
          "output_type": "execute_result",
          "data": {
            "text/plain": [
              "('SalePrice',\n",
              " ['LotFrontage',\n",
              "  'GarageCars',\n",
              "  'BsmtUnfSF',\n",
              "  'GarageYrBlt',\n",
              "  'YrSold',\n",
              "  '3SsnPorch',\n",
              "  'EnclosedPorch',\n",
              "  'Fireplaces',\n",
              "  'MiscVal',\n",
              "  'GrLivArea',\n",
              "  'BsmtFullBath',\n",
              "  'BsmtFinSF2',\n",
              "  'MSSubClass',\n",
              "  'KitchenAbvGr',\n",
              "  'YearRemodAdd',\n",
              "  'MasVnrArea',\n",
              "  'OverallQual',\n",
              "  'TotalBsmtSF',\n",
              "  'PoolArea',\n",
              "  'FullBath',\n",
              "  'LowQualFinSF',\n",
              "  'OpenPorchSF',\n",
              "  'YearBuilt',\n",
              "  'BedroomAbvGr',\n",
              "  'LotArea',\n",
              "  'WoodDeckSF',\n",
              "  'TotRmsAbvGrd',\n",
              "  'BsmtHalfBath',\n",
              "  'MoSold',\n",
              "  'OverallCond',\n",
              "  '1stFlrSF',\n",
              "  'ScreenPorch',\n",
              "  'HalfBath',\n",
              "  'GarageArea',\n",
              "  'BsmtFinSF1',\n",
              "  '2ndFlrSF'],\n",
              " ['Condition1',\n",
              "  'MSZoning',\n",
              "  'Neighborhood',\n",
              "  'HeatingQC',\n",
              "  'BsmtQual',\n",
              "  'PavedDrive',\n",
              "  'ExterCond',\n",
              "  'GarageCond',\n",
              "  'BsmtFinType1',\n",
              "  'BldgType',\n",
              "  'GarageQual',\n",
              "  'Electrical',\n",
              "  'Street',\n",
              "  'Exterior2nd',\n",
              "  'SaleType',\n",
              "  'Alley',\n",
              "  'Foundation',\n",
              "  'Exterior1st',\n",
              "  'BsmtExposure',\n",
              "  'MasVnrType',\n",
              "  'BsmtFinType2',\n",
              "  'ExterQual',\n",
              "  'CentralAir',\n",
              "  'LandContour',\n",
              "  'GarageFinish',\n",
              "  'FireplaceQu',\n",
              "  'BsmtCond',\n",
              "  'KitchenQual',\n",
              "  'LandSlope',\n",
              "  'Condition2',\n",
              "  'Utilities',\n",
              "  'LotConfig',\n",
              "  'Fence',\n",
              "  'Heating',\n",
              "  'MiscFeature',\n",
              "  'HouseStyle',\n",
              "  'LotShape',\n",
              "  'GarageType',\n",
              "  'PoolQC',\n",
              "  'Functional',\n",
              "  'RoofMatl',\n",
              "  'RoofStyle',\n",
              "  'SaleCondition'])"
            ]
          },
          "metadata": {
            "tags": []
          },
          "execution_count": 55
        }
      ]
    },
    {
      "metadata": {
        "id": "x5j5pK9dCvV9",
        "colab_type": "code",
        "colab": {}
      },
      "cell_type": "code",
      "source": [
        "## for the categorical variables if there is a missing value the category MISSING is created and filled\n",
        "for c in cat_vars:\n",
        "    df_train[c] = df_train[c].astype('category')\n",
        "    if df_train[c].isnull().any():        \n",
        "        df_train[c] = df_train[c].cat.add_categories(['MISSING'])\n",
        "        df_train[c] = df_train[c].fillna('MISSING')"
      ],
      "execution_count": 0,
      "outputs": []
    },
    {
      "metadata": {
        "id": "YQ5_yuK-CzY8",
        "colab_type": "code",
        "colab": {}
      },
      "cell_type": "code",
      "source": [
        "## same for test set\n",
        "for c in cat_vars:\n",
        "    df_test[c] = df_test[c].astype('category')\n",
        "    if df_test[c].isnull().any():        \n",
        "        df_test[c] = df_test[c].cat.add_categories(['MISSING'])\n",
        "        df_test[c] = df_test[c].fillna('MISSING')"
      ],
      "execution_count": 0,
      "outputs": []
    },
    {
      "metadata": {
        "id": "m1BPrsCcC2WI",
        "colab_type": "code",
        "outputId": "f90ea74d-93e3-4d5b-d9eb-171d62ec6956",
        "colab": {
          "base_uri": "https://localhost:8080/",
          "height": 798
        }
      },
      "cell_type": "code",
      "source": [
        "# function to encode the categorical variables\n",
        "def encode(frame, feature):\n",
        "    list_1 = pd.DataFrame()\n",
        "    # level for each variable\n",
        "    list_1['level'] = frame[feature].unique()\n",
        "    # since we will make use of dictionaries, having the index will make the index the key (!!)\n",
        "    list_1.index = list_1.level\n",
        "    # connected mean of sales price for the current level\n",
        "    list_1['spmean'] = frame[[feature, output_var]].groupby(feature).mean()[output_var]\n",
        "    # then we have to order\n",
        "    list_1 = list_1.sort_values('spmean')\n",
        "    # then we can create the value that we want to assign - from 1 to rows list_1+1 (note we cannot use len because)\n",
        "    # list_1 is a dataframe and not a list\n",
        "    values = []\n",
        "    j = 1\n",
        "    for i in range(0, len(list_1)):\n",
        "        if list_1['level'][i].upper() in ['MISSING', 'NONE', 'NA', 'N']:\n",
        "            values.append(0)\n",
        "        else:\n",
        "            values.append(j)\n",
        "            j += 1\n",
        "            \n",
        "    list_1['value'] = values\n",
        "    # now let's make use of dictionaries that are so wonderful for cases like these\n",
        "    list_1 = list_1['value'].to_dict()    \n",
        "    for cat, o in list_1.items():\n",
        "        frame.loc[frame[feature] == cat, feature+'_E'] = o\n",
        "\n",
        "cat_vars_Enc = []\n",
        "for q in cat_vars:\n",
        "    encode(df_train, q)    \n",
        "    cat_vars_Enc.append(q+\"_E\")\n",
        "\n",
        "cat_vars_Enc"
      ],
      "execution_count": 0,
      "outputs": [
        {
          "output_type": "execute_result",
          "data": {
            "text/plain": [
              "['Condition1_E',\n",
              " 'MSZoning_E',\n",
              " 'Neighborhood_E',\n",
              " 'HeatingQC_E',\n",
              " 'BsmtQual_E',\n",
              " 'PavedDrive_E',\n",
              " 'ExterCond_E',\n",
              " 'GarageCond_E',\n",
              " 'BsmtFinType1_E',\n",
              " 'BldgType_E',\n",
              " 'GarageQual_E',\n",
              " 'Electrical_E',\n",
              " 'Street_E',\n",
              " 'Exterior2nd_E',\n",
              " 'SaleType_E',\n",
              " 'Alley_E',\n",
              " 'Foundation_E',\n",
              " 'Exterior1st_E',\n",
              " 'BsmtExposure_E',\n",
              " 'MasVnrType_E',\n",
              " 'BsmtFinType2_E',\n",
              " 'ExterQual_E',\n",
              " 'CentralAir_E',\n",
              " 'LandContour_E',\n",
              " 'GarageFinish_E',\n",
              " 'FireplaceQu_E',\n",
              " 'BsmtCond_E',\n",
              " 'KitchenQual_E',\n",
              " 'LandSlope_E',\n",
              " 'Condition2_E',\n",
              " 'Utilities_E',\n",
              " 'LotConfig_E',\n",
              " 'Fence_E',\n",
              " 'Heating_E',\n",
              " 'MiscFeature_E',\n",
              " 'HouseStyle_E',\n",
              " 'LotShape_E',\n",
              " 'GarageType_E',\n",
              " 'PoolQC_E',\n",
              " 'Functional_E',\n",
              " 'RoofMatl_E',\n",
              " 'RoofStyle_E',\n",
              " 'SaleCondition_E']"
            ]
          },
          "metadata": {
            "tags": []
          },
          "execution_count": 58
        }
      ]
    },
    {
      "metadata": {
        "id": "s9qiFaH4DBCl",
        "colab_type": "code",
        "outputId": "ef3bef63-fe4a-4752-93bb-56fdeefcb7eb",
        "colab": {
          "base_uri": "https://localhost:8080/",
          "height": 798
        }
      },
      "cell_type": "code",
      "source": [
        "# this method copies the encode of encodedFrame in frame. The underlying hypothesis is that the encoded frame contains\n",
        "# the raw variable and the encoded one that has the same name + '_E', so the method builds the dictionary level, value\n",
        "# and apply it to the frame. It fails if the frame contains values not present in the encodedFrame\n",
        "def copyEncode(encodedFrame, frame, feature):    \n",
        "    list_1 = pd.DataFrame()\n",
        "    # level for each variable\n",
        "    list_1['level'] = encodedFrame[feature].unique()    \n",
        "    levels = encodedFrame[feature].unique()    \n",
        "    # build the values\n",
        "    values = []\n",
        "    for lev in levels:\n",
        "        values.append(min(encodedFrame[feature + '_E'].loc[encodedFrame[feature] == lev]))\n",
        "    list_1['value'] = values\n",
        "    \n",
        "    # now let's make use of dictionaries that are so wonderful for cases like these\n",
        "    list_1d = {}\n",
        "    for val in values:\n",
        "        list_1d[list_1['level'][values.index(val)]] = val\n",
        "    # a missing element can be present in the test set but not in the training set\n",
        "    list_1d['MISSING'] = 0\n",
        "    list_1 = list_1d        \n",
        "    for cat, o in list_1.items():\n",
        "        frame.loc[frame[feature] == cat, feature+'_E'] = o\n",
        "        \n",
        "for q in cat_vars:\n",
        "    copyEncode(df_train, df_test, q)    \n",
        "    print(q+\"_E\")"
      ],
      "execution_count": 0,
      "outputs": [
        {
          "output_type": "stream",
          "text": [
            "Condition1_E\n",
            "MSZoning_E\n",
            "Neighborhood_E\n",
            "HeatingQC_E\n",
            "BsmtQual_E\n",
            "PavedDrive_E\n",
            "ExterCond_E\n",
            "GarageCond_E\n",
            "BsmtFinType1_E\n",
            "BldgType_E\n",
            "GarageQual_E\n",
            "Electrical_E\n",
            "Street_E\n",
            "Exterior2nd_E\n",
            "SaleType_E\n",
            "Alley_E\n",
            "Foundation_E\n",
            "Exterior1st_E\n",
            "BsmtExposure_E\n",
            "MasVnrType_E\n",
            "BsmtFinType2_E\n",
            "ExterQual_E\n",
            "CentralAir_E\n",
            "LandContour_E\n",
            "GarageFinish_E\n",
            "FireplaceQu_E\n",
            "BsmtCond_E\n",
            "KitchenQual_E\n",
            "LandSlope_E\n",
            "Condition2_E\n",
            "Utilities_E\n",
            "LotConfig_E\n",
            "Fence_E\n",
            "Heating_E\n",
            "MiscFeature_E\n",
            "HouseStyle_E\n",
            "LotShape_E\n",
            "GarageType_E\n",
            "PoolQC_E\n",
            "Functional_E\n",
            "RoofMatl_E\n",
            "RoofStyle_E\n",
            "SaleCondition_E\n"
          ],
          "name": "stdout"
        }
      ]
    },
    {
      "metadata": {
        "id": "z3N8g91nDGMz",
        "colab_type": "code",
        "outputId": "981a3e11-dbd7-48d1-ee9d-41a8c62d319c",
        "colab": {
          "base_uri": "https://localhost:8080/",
          "height": 35
        }
      },
      "cell_type": "code",
      "source": [
        "df_train.shape, df_train.shape"
      ],
      "execution_count": 0,
      "outputs": [
        {
          "output_type": "execute_result",
          "data": {
            "text/plain": [
              "((1460, 124), (1460, 124))"
            ]
          },
          "metadata": {
            "tags": []
          },
          "execution_count": 60
        }
      ]
    },
    {
      "metadata": {
        "id": "X4ung6IQDKm6",
        "colab_type": "code",
        "outputId": "41e9358c-ba3c-4c5f-9695-9b8a5e719915",
        "colab": {
          "base_uri": "https://localhost:8080/",
          "height": 35
        }
      },
      "cell_type": "code",
      "source": [
        "len(cat_vars) + len(cat_vars_Enc) + len(num_vars)"
      ],
      "execution_count": 0,
      "outputs": [
        {
          "output_type": "execute_result",
          "data": {
            "text/plain": [
              "122"
            ]
          },
          "metadata": {
            "tags": []
          },
          "execution_count": 61
        }
      ]
    },
    {
      "metadata": {
        "id": "wVtwqlNBDRHX",
        "colab_type": "text"
      },
      "cell_type": "markdown",
      "source": [
        "Let's define our KPI - Root Mean Squared Logaritmic Error. In the rank tihs is used as KPI to evaluate the model.  <br/>\n",
        "\n",
        "\n",
        "This function will be used to evaluate the goodness of the model."
      ]
    },
    {
      "metadata": {
        "id": "-c3hgde6DNpl",
        "colab_type": "code",
        "colab": {}
      },
      "cell_type": "code",
      "source": [
        "## RMSLE - Root Mean Squared Logaritmic Error\n",
        "## https://www.kaggle.com/marknagelberg/rmsle-function\n",
        "## This is the parameter used to rank models\n",
        "def rmsle(y_pred, y_test) : \n",
        "    assert len(y_test) == len(y_pred)\n",
        "    return np.sqrt(np.mean((np.log(1+y_pred) - np.log(1+y_test))**2))"
      ],
      "execution_count": 0,
      "outputs": []
    },
    {
      "metadata": {
        "id": "U9sfoKt2Dvjk",
        "colab_type": "text"
      },
      "cell_type": "markdown",
      "source": [
        "Now we will begin our feature engineering. We will add new features, simplify some and transform others so that we will have a wider range of features between which we can choose those that best fit our model."
      ]
    },
    {
      "metadata": {
        "id": "wOmMhkmaD70k",
        "colab_type": "code",
        "colab": {}
      },
      "cell_type": "code",
      "source": [
        "## variable simplification - I put S after the variable name\n",
        "\n",
        "df_train[\"SimplOverallQual_S\"] = df_train['OverallQual'].replace(\n",
        "    {1 : 1, 2 : 1, 3 : 1,        # bad\n",
        "     4 : 2, 5 : 2, 6 : 2,        # average\n",
        "     7 : 3, 8 : 3, 9 : 3, 10 : 3 # good\n",
        "    })\n",
        "\n",
        "df_train[\"SimplOverallCond_S\"] = df_train['OverallCond'].replace(\n",
        "    {1 : 1, 2 : 1, 3 : 1, # bad\n",
        "     4 : 2, 5 : 2, 6 : 2, # average\n",
        "     7 : 3, 8 : 3, 9 : 3, 10 : 3 # good\n",
        "    })\n",
        "\n",
        "df_train[\"SimplPoolQC_S\"] = df_train['PoolQC_E'].replace(\n",
        "    {1 : 1, 2 : 1, # average\n",
        "     3 : 2, 4 : 2  # good\n",
        "    })\n",
        "\n",
        "df_train[\"SimplGarageCond_S\"] = df_train['GarageCond_E'].replace(\n",
        "    {1 : 1, # bad\n",
        "     2 : 1, 3 : 1, # average\n",
        "     4 : 2, 5 : 2 # good\n",
        "     })\n",
        "\n",
        "df_train[\"SimplGarageQual_S\"] = df_train['GarageQual_E'].replace(\n",
        "    {1 : 1, # bad\n",
        "     2 : 1, 3 : 1, # average\n",
        "     4 : 2, 5 : 2 # good\n",
        "    })\n",
        "\n",
        "df_train[\"SimplFireplaceQu_S\"] = df_train['FireplaceQu_E'].replace(\n",
        "    {1 : 1, # bad\n",
        "     2 : 1, 3 : 1, # average\n",
        "     4 : 2, 5 : 2 # good\n",
        "    })\n",
        "\n",
        "df_train[\"SimplFunctional_S\"] = df_train['Functional_E'].replace(\n",
        "    {1 : 1, 2 : 1, # bad\n",
        "     3 : 2, 4 : 2, # major\n",
        "     5 : 3, 6 : 3, 7 : 3, # minor\n",
        "     8 : 4 # typical\n",
        "    })\n",
        "\n",
        "df_train[\"SimplKitchenQual_S\"] = df_train['KitchenQual_E'].replace(\n",
        "    {1 : 1, # bad\n",
        "     2 : 1, 3 : 1, # average\n",
        "     4 : 2, 5 : 2 # good\n",
        "    })\n",
        "\n",
        "df_train[\"SimplHeatingQC_S\"] = df_train['HeatingQC_E'].replace(\n",
        "    {1 : 1, # bad\n",
        "     2 : 1, 3 : 1, # average\n",
        "     4 : 2, 5 : 2 # good\n",
        "    })\n",
        "\n",
        "df_train[\"SimplBsmtFinType1_S\"] = df_train['BsmtFinType1_E'].replace(\n",
        "    {1 : 1, # unfinished\n",
        "     2 : 1, 3 : 1, # rec room\n",
        "     4 : 2, 5 : 2, 6 : 2 # living quarters\n",
        "    })\n",
        "\n",
        "df_train[\"SimplBsmtFinType2_S\"] = df_train['BsmtFinType2_E'].replace(\n",
        "    {1 : 1, # unfinished\n",
        "     2 : 1, 3 : 1, # rec room\n",
        "     4 : 2, 5 : 2, 6 : 2 # living quarters\n",
        "    })\n",
        "\n",
        "df_train[\"SimplBsmtCond_S\"] = df_train['BsmtCond_E'].replace(\n",
        "    {1 : 1, # bad\n",
        "     2 : 1, 3 : 1, # average\n",
        "     4 : 2, 5 : 2 # good\n",
        "    })\n",
        "\n",
        "df_train[\"SimplBsmtQual_S\"] = df_train['BsmtQual_E'].replace(\n",
        "    {1 : 1, # bad\n",
        "     2 : 1, 3 : 1, # average\n",
        "     4 : 2, 5 : 2 # good\n",
        "    })\n",
        "\n",
        "df_train[\"SimplExterCond_S\"] = df_train['ExterCond_E'].replace(\n",
        "    {1 : 1, # bad\n",
        "     2 : 1, 3 : 1, # average\n",
        "     4 : 2, 5 : 2 # good\n",
        "    })\n",
        "\n",
        "df_train[\"SimplExterQual_S\"] = df_train['ExterQual_E'].replace(\n",
        "    {1 : 1, # bad\n",
        "     2 : 1, 3 : 1, # average\n",
        "     4 : 2, 5 : 2 # good\n",
        "    })\n",
        "\n",
        "# House completed before sale or not\n",
        "df_train[\"BoughtOffPlan_S\"] = df_train['SaleCondition'].replace(\n",
        "    {\"Abnorml\" : 0, \"Alloca\" : 0, \"AdjLand\" : 0,\n",
        "     \"Family\" : 0, \"Normal\" : 0, \"Partial\" : 1})\n",
        "\n",
        "# Has masonry veneer or not\n",
        "df_train[\"HasMasVnr_S\"] = df_train['MasVnrType'].replace(\n",
        "    {\"BrkCmn\" : 1, \"BrkFace\" : 1, \"CBlock\" : 1, \"Stone\" : 1, \"None\" : 0, \"MISSING\": 0})"
      ],
      "execution_count": 0,
      "outputs": []
    },
    {
      "metadata": {
        "id": "yayn8-8cEDn7",
        "colab_type": "code",
        "colab": {}
      },
      "cell_type": "code",
      "source": [
        "## variable simplification in the training\n",
        "\n",
        "df_test[\"SimplOverallQual_S\"] = df_test['OverallQual'].replace(\n",
        "    {1 : 1, 2 : 1, 3 : 1,        # bad\n",
        "     4 : 2, 5 : 2, 6 : 2,        # average\n",
        "     7 : 3, 8 : 3, 9 : 3, 10 : 3 # good\n",
        "    })\n",
        "\n",
        "df_test[\"SimplOverallCond_S\"] = df_test['OverallCond'].replace(\n",
        "    {1 : 1, 2 : 1, 3 : 1, # bad\n",
        "     4 : 2, 5 : 2, 6 : 2, # average\n",
        "     7 : 3, 8 : 3, 9 : 3, 10 : 3 # good\n",
        "    })\n",
        "\n",
        "df_test[\"SimplPoolQC_S\"] = df_test['PoolQC_E'].replace(\n",
        "    {1 : 1, 2 : 1, # average\n",
        "     3 : 2, 4 : 2  # good\n",
        "    })\n",
        "\n",
        "df_test[\"SimplGarageCond_S\"] = df_test['GarageCond_E'].replace(\n",
        "    {1 : 1, # bad\n",
        "     2 : 1, 3 : 1, # average\n",
        "     4 : 2, 5 : 2 # good\n",
        "     })\n",
        "\n",
        "df_test[\"SimplGarageQual_S\"] = df_test['GarageQual_E'].replace(\n",
        "    {1 : 1, # bad\n",
        "     2 : 1, 3 : 1, # average\n",
        "     4 : 2, 5 : 2 # good\n",
        "    })\n",
        "\n",
        "df_test[\"SimplFireplaceQu_S\"] = df_test['FireplaceQu_E'].replace(\n",
        "    {1 : 1, # bad\n",
        "     2 : 1, 3 : 1, # average\n",
        "     4 : 2, 5 : 2 # good\n",
        "    })\n",
        "\n",
        "df_test[\"SimplFunctional_S\"] = df_test['Functional_E'].replace(\n",
        "    {1 : 1, 2 : 1, # bad\n",
        "     3 : 2, 4 : 2, # major\n",
        "     5 : 3, 6 : 3, 7 : 3, # minor\n",
        "     8 : 4 # typical\n",
        "    })\n",
        "\n",
        "df_test[\"SimplKitchenQual_S\"] = df_test['KitchenQual_E'].replace(\n",
        "    {1 : 1, # bad\n",
        "     2 : 1, 3 : 1, # average\n",
        "     4 : 2, 5 : 2 # good\n",
        "    })\n",
        "\n",
        "df_test[\"SimplHeatingQC_S\"] = df_test['HeatingQC_E'].replace(\n",
        "    {1 : 1, # bad\n",
        "     2 : 1, 3 : 1, # average\n",
        "     4 : 2, 5 : 2 # good\n",
        "    })\n",
        "\n",
        "df_test[\"SimplBsmtFinType1_S\"] = df_test['BsmtFinType1_E'].replace(\n",
        "    {1 : 1, # unfinished\n",
        "     2 : 1, 3 : 1, # rec room\n",
        "     4 : 2, 5 : 2, 6 : 2 # living quarters\n",
        "    })\n",
        "\n",
        "df_test[\"SimplBsmtFinType2_S\"] = df_test['BsmtFinType2_E'].replace(\n",
        "    {1 : 1, # unfinished\n",
        "     2 : 1, 3 : 1, # rec room\n",
        "     4 : 2, 5 : 2, 6 : 2 # living quarters\n",
        "    })\n",
        "\n",
        "df_test[\"SimplBsmtCond_S\"] = df_test['BsmtCond_E'].replace(\n",
        "    {1 : 1, # bad\n",
        "     2 : 1, 3 : 1, # average\n",
        "     4 : 2, 5 : 2 # good\n",
        "    })\n",
        "\n",
        "df_test[\"SimplBsmtQual_S\"] = df_test['BsmtQual_E'].replace(\n",
        "    {1 : 1, # bad\n",
        "     2 : 1, 3 : 1, # average\n",
        "     4 : 2, 5 : 2 # good\n",
        "    })\n",
        "\n",
        "df_test[\"SimplExterCond_S\"] = df_test['ExterCond_E'].replace(\n",
        "    {1 : 1, # bad\n",
        "     2 : 1, 3 : 1, # average\n",
        "     4 : 2, 5 : 2 # good\n",
        "    })\n",
        "\n",
        "df_test[\"SimplExterQual_S\"] = df_test['ExterQual_E'].replace(\n",
        "    {1 : 1, # bad\n",
        "     2 : 1, 3 : 1, # average\n",
        "     4 : 2, 5 : 2 # good\n",
        "    })\n",
        "\n",
        "# House completed before sale or not\n",
        "df_test[\"BoughtOffPlan_S\"] = df_test['SaleCondition'].replace(\n",
        "    {\"Abnorml\" : 0, \"Alloca\" : 0, \"AdjLand\" : 0,\n",
        "     \"Family\" : 0, \"Normal\" : 0, \"Partial\" : 1})\n",
        "\n",
        "# Has masonry veneer or not\n",
        "df_test[\"HasMasVnr_S\"] = df_test['MasVnrType'].replace(\n",
        "    {\"BrkCmn\" : 1, \"BrkFace\" : 1, \"CBlock\" : 1, \"Stone\" : 1, \"None\" : 0, \"MISSING\": 0})"
      ],
      "execution_count": 0,
      "outputs": []
    },
    {
      "metadata": {
        "id": "3ewAwcK4EIib",
        "colab_type": "code",
        "colab": {}
      },
      "cell_type": "code",
      "source": [
        "cat_vars_S = ['SimplOverallQual_S', 'SimplOverallCond_S', 'SimplPoolQC_S', \n",
        "              'SimplGarageCond_S', 'SimplGarageQual_S', 'SimplFireplaceQu_S', \n",
        "              'SimplFunctional_S', 'SimplKitchenQual_S', 'SimplHeatingQC_S', \n",
        "              'SimplBsmtFinType1_S', 'SimplBsmtFinType2_S', 'SimplBsmtCond_S', \n",
        "              'SimplBsmtQual_S', 'SimplExterCond_S', 'SimplExterQual_S', \n",
        "              'BoughtOffPlan_S', 'HasMasVnr_S']"
      ],
      "execution_count": 0,
      "outputs": []
    },
    {
      "metadata": {
        "id": "AGUqOqFzEMS3",
        "colab_type": "code",
        "colab": {}
      },
      "cell_type": "code",
      "source": [
        "df_train[\"OverallGrade_D\"] = df_train[\"OverallQual\"].astype(np.float64) * \\\n",
        "                              df_train[\"OverallCond\"].astype(np.float64)\n",
        "\n",
        "# Overall quality of the garage\n",
        "df_train[\"GarageGrade_D\"] = df_train[\"GarageQual_E\"].astype(np.float64) * \\\n",
        "                            df_train[\"GarageCond_E\"].astype(np.float64)\n",
        "\n",
        "# Overall quality of the exterior\n",
        "df_train[\"ExterGrade_D\"] = df_train[\"ExterQual_E\"].astype(np.float64) * \\\n",
        "                          df_train[\"ExterCond_E\"].astype(np.float64)\n",
        "\n",
        "# Overall kitchen score\n",
        "df_train[\"KitchenScore_D\"] = df_train[\"KitchenAbvGr\"].astype(np.float64) * \\\n",
        "                            df_train[\"KitchenQual_E\"].astype(np.float64)\n",
        "\n",
        "# Overall fireplace score\n",
        "df_train[\"FireplaceScore_D\"] = df_train[\"Fireplaces\"].astype(np.float64) * \\\n",
        "                              df_train[\"FireplaceQu_E\"].astype(np.float64)\n",
        "\n",
        "# Overall garage score\n",
        "df_train[\"GarageScore_D\"] = df_train[\"GarageArea\"].astype(np.float64) * \\\n",
        "                            df_train[\"GarageQual_E\"].astype(np.float64)\n",
        "\n",
        "# Overall pool score\n",
        "df_train[\"PoolScore_D\"] = df_train[\"PoolArea\"].astype(np.float64) * \\\n",
        "                          df_train[\"PoolQC_E\"].astype(np.float64)\n",
        "\n",
        "# Simplified overall quality of the house\n",
        "df_train[\"SimplOverallGrade_D\"] = df_train[\"SimplOverallQual_S\"].astype(np.float64) * \\\n",
        "                               df_train[\"SimplOverallCond_S\"].astype(np.float64)\n",
        "\n",
        "# Simplified overall pool score\n",
        "df_train[\"SimplPoolScore_D\"] = df_train[\"PoolArea\"].astype(np.float64) * \\\n",
        "                                df_train[\"SimplPoolQC_S\"].astype(np.float64)\n",
        "\n",
        "# Simplified overall garage score\n",
        "df_train[\"SimplGarageScore_D\"] = df_train[\"GarageArea\"].astype(np.float64) * \\\n",
        "                                df_train[\"SimplGarageQual_S\"].astype(np.float64)\n",
        "\n",
        "# Simplified overall fireplace score\n",
        "df_train[\"SimplFireplaceScore_D\"] = df_train[\"Fireplaces\"].astype(np.float64) *\\\n",
        "                              df_train[\"SimplFireplaceQu_S\"].astype(np.float64)\n",
        "\n",
        "# Simplified overall kitchen score\n",
        "df_train[\"SimplKitchenScore_D\"] = df_train[\"KitchenAbvGr\"].astype(np.float64) * \\\n",
        "                              df_train[\"SimplKitchenQual_S\"].astype(np.float64)\n",
        "\n",
        "# Total number of bathrooms\n",
        "df_train[\"TotalBath_D\"] = df_train[\"BsmtFullBath\"] + \\\n",
        "                        (0.5 * df_train[\"BsmtHalfBath\"]) + df_train[\"FullBath\"] +\\\n",
        "                        (0.5 * df_train[\"HalfBath\"])\n",
        "\n",
        "# Total SF for house (incl. basement)\n",
        "df_train[\"AllSF_D\"] = df_train[\"GrLivArea\"] + df_train[\"TotalBsmtSF\"]\n",
        "\n",
        "# Total SF for 1st + 2nd floors\n",
        "df_train[\"AllFlrsSF_D\"] = df_train[\"1stFlrSF\"] + df_train[\"2ndFlrSF\"]\n",
        "\n",
        "# Total SF for porch\n",
        "df_train[\"AllPorchSF_D\"] = df_train[\"OpenPorchSF\"] + df_train[\"EnclosedPorch\"] + \\\n",
        "                          df_train[\"3SsnPorch\"] + df_train[\"ScreenPorch\"]\n",
        "\n",
        "# Simplified overall quality of the exterior\n",
        "df_train[\"SimplExterGrade_D\"] = df_train[\"SimplExterQual_S\"].astype(np.float64) * \\\n",
        "                            df_train[\"SimplExterCond_S\"].astype(np.float64)"
      ],
      "execution_count": 0,
      "outputs": []
    },
    {
      "metadata": {
        "id": "AE7Kodt9E4ZA",
        "colab_type": "code",
        "colab": {}
      },
      "cell_type": "code",
      "source": [
        "# variable transformation in test set\n",
        "\n",
        "# Overall quality of the house\n",
        "df_test[\"OverallGrade_D\"] = df_test[\"OverallQual\"].astype(np.float64) * \\\n",
        "                            df_test[\"OverallCond\"].astype(np.float64)\n",
        "\n",
        "# Overall quality of the garage\n",
        "df_test[\"GarageGrade_D\"] = df_test[\"GarageQual_E\"].astype(np.float64) * \\\n",
        "                            df_test[\"GarageCond_E\"].astype(np.float64)\n",
        "\n",
        "# Overall quality of the exterior\n",
        "df_test[\"ExterGrade_D\"] = df_test[\"ExterQual_E\"].astype(np.float64) * \\\n",
        "                          df_test[\"ExterCond_E\"].astype(np.float64)\n",
        "\n",
        "# Overall kitchen score\n",
        "df_test[\"KitchenScore_D\"] = df_test[\"KitchenAbvGr\"].astype(np.float64) * \\\n",
        "                            df_test[\"KitchenQual_E\"].astype(np.float64)\n",
        "\n",
        "# Overall fireplace score\n",
        "df_test[\"FireplaceScore_D\"] = df_test[\"Fireplaces\"].astype(np.float64) * \\\n",
        "                              df_test[\"FireplaceQu_E\"].astype(np.float64)\n",
        "\n",
        "# Overall garage score\n",
        "df_test[\"GarageScore_D\"] = df_test[\"GarageArea\"].astype(np.float64) * \\\n",
        "                            df_test[\"GarageQual_E\"].astype(np.float64)\n",
        "\n",
        "# Overall pool score\n",
        "df_test[\"PoolScore_D\"] = df_test[\"PoolArea\"].astype(np.float64) * \\\n",
        "                          df_test[\"PoolQC_E\"].astype(np.float64)\n",
        "\n",
        "# Simplified overall quality of the house\n",
        "df_test[\"SimplOverallGrade_D\"] = df_test[\"SimplOverallQual_S\"].astype(np.float64) * \\\n",
        "                              df_test[\"SimplOverallCond_S\"].astype(np.float64)\n",
        "\n",
        "# Simplified overall pool score\n",
        "df_test[\"SimplPoolScore_D\"] = df_test[\"PoolArea\"].astype(np.float64) * \\\n",
        "                              df_test[\"SimplPoolQC_S\"].astype(np.float64)\n",
        "\n",
        "# Simplified overall garage score\n",
        "df_test[\"SimplGarageScore_D\"] = df_test[\"GarageArea\"].astype(np.float64) * \\\n",
        "                                df_test[\"SimplGarageQual_S\"].astype(np.float64)\n",
        "\n",
        "# Simplified overall fireplace score\n",
        "df_test[\"SimplFireplaceScore_D\"] = df_test[\"Fireplaces\"].astype(np.float64) * \\\n",
        "                                df_test[\"SimplFireplaceQu_S\"].astype(np.float64)\n",
        "\n",
        "# Simplified overall kitchen score\n",
        "df_test[\"SimplKitchenScore_D\"] = df_test[\"KitchenAbvGr\"].astype(np.float64) * \\\n",
        "                                df_test[\"SimplKitchenQual_S\"].astype(np.float64)\n",
        "\n",
        "# Total number of bathrooms\n",
        "df_test[\"TotalBath_D\"] = df_test[\"BsmtFullBath\"] + \\\n",
        "                        (0.5 * df_test[\"BsmtHalfBath\"]) + \\\n",
        "                          df_test[\"FullBath\"] + \\\n",
        "                        (0.5 * df_test[\"HalfBath\"])\n",
        "\n",
        "# Total SF for house (incl. basement)\n",
        "df_test[\"AllSF_D\"] = df_test[\"GrLivArea\"] + df_test[\"TotalBsmtSF\"]\n",
        "\n",
        "# Total SF for 1st + 2nd floors\n",
        "df_test[\"AllFlrsSF_D\"] = df_test[\"1stFlrSF\"] + df_test[\"2ndFlrSF\"]\n",
        "\n",
        "# Total SF for porch\n",
        "df_test[\"AllPorchSF_D\"] = df_test[\"OpenPorchSF\"] + df_test[\"EnclosedPorch\"] + \\\n",
        "                          df_test[\"3SsnPorch\"] + df_test[\"ScreenPorch\"]\n",
        "\n",
        "# Simplified overall quality of the exterior\n",
        "df_test[\"SimplExterGrade_D\"] = df_test[\"SimplExterQual_S\"].astype(np.float64) * \\\n",
        "                                df_test[\"SimplExterCond_S\"].astype(np.float64)"
      ],
      "execution_count": 0,
      "outputs": []
    },
    {
      "metadata": {
        "id": "ujvWj-WoFYO6",
        "colab_type": "code",
        "colab": {}
      },
      "cell_type": "code",
      "source": [
        "cat_vars_D = ['OverallGrade_D', 'GarageGrade_D', 'ExterGrade_D', 'KitchenScore_D', \n",
        "              'FireplaceScore_D', 'GarageScore_D', 'PoolScore_D', 'SimplOverallGrade_D', \n",
        "              'SimplPoolScore_D', 'SimplGarageScore_D', 'SimplFireplaceScore_D', \n",
        "              'SimplKitchenScore_D', 'TotalBath_D', 'AllSF_D', 'AllFlrsSF_D', \n",
        "              'AllPorchSF_D', 'SimplExterGrade_D']"
      ],
      "execution_count": 0,
      "outputs": []
    },
    {
      "metadata": {
        "id": "vNDc2sc8FbVR",
        "colab_type": "code",
        "colab": {}
      },
      "cell_type": "code",
      "source": [
        "# Create new features\n",
        "# 3* Polynomials on the top 10 existing features\n",
        "df_train[\"OverallQual_TL2\"] = np.log10(df_train[\"OverallQual\"] ** 2 + 1)\n",
        "df_train[\"OverallQual_TL3\"] = np.log10(df_train[\"OverallQual\"] ** 3 + 1)\n",
        "df_train[\"OverallQual_TSQ\"] = np.sqrt(df_train[\"OverallQual\"])\n",
        "df_train[\"OverallQual_TLOG\"] = np.log10(df_train[\"OverallQual\"] + 1)\n",
        "\n",
        "df_train[\"AllSF_TL2\"] = np.log10(df_train[\"AllSF_D\"] ** 2 + 1)\n",
        "df_train[\"AllSF_TL3\"] = np.log10(df_train[\"AllSF_D\"] ** 3 + 1)\n",
        "df_train[\"AllSF_TSQ\"] = np.sqrt(df_train[\"AllSF_D\"])\n",
        "df_train[\"AllSF_TLOG\"] = np.log10(df_train[\"AllSF_D\"] + 1)\n",
        "\n",
        "df_train[\"AllFlrsSF_TL2\"] = np.log10(df_train[\"AllFlrsSF_D\"] ** 2 + 1)\n",
        "df_train[\"AllFlrsSF_TL3\"] = np.log10(df_train[\"AllFlrsSF_D\"] ** 3 + 1)\n",
        "df_train[\"AllFlrsSF_TSQ\"] = np.sqrt(df_train[\"AllFlrsSF_D\"])\n",
        "df_train[\"AllFlrsSF_TLOG\"] = np.log10(df_train[\"AllFlrsSF_D\"] + 1)\n",
        "\n",
        "df_train[\"GrLivArea_TL2\"] = np.log10(df_train[\"GrLivArea\"] ** 2 + 1)\n",
        "df_train[\"GrLivArea_TL3\"] = np.log10(df_train[\"GrLivArea\"] ** 3 + 1)\n",
        "df_train[\"GrLivArea_TSQ\"] = np.sqrt(df_train[\"GrLivArea\"])\n",
        "df_train[\"GrLivArea_TLOG\"] = np.log10(df_train[\"GrLivArea\"] + 1)\n",
        "\n",
        "df_train[\"SimplOverallQual_TL2\"] = np.log10(df_train[\"SimplOverallQual_S\"] ** 2 + 1)\n",
        "df_train[\"SimplOverallQual_TL3\"] = np.log10(df_train[\"SimplOverallQual_S\"] ** 3 + 1)\n",
        "df_train[\"SimplOverallQual_TSQ\"] = np.sqrt(df_train[\"SimplOverallQual_S\"])\n",
        "df_train[\"SimplOverallQual_TLOG\"] = np.log10(df_train[\"SimplOverallQual_S\"] + 1)\n",
        "\n",
        "df_train[\"ExterQual_TL2\"] = np.log10(df_train[\"ExterQual_E\"] ** 2 + 1)\n",
        "df_train[\"ExterQual_TL3\"] = np.log10(df_train[\"ExterQual_E\"] ** 3 + 1)\n",
        "df_train[\"ExterQual_TSQ\"] = np.sqrt(df_train[\"ExterQual_E\"])\n",
        "df_train[\"ExterQual_TLOG\"] = np.log10(df_train[\"ExterQual_E\"] + 1) \n",
        "\n",
        "df_train[\"GarageCars_TL2\"] = np.log10(df_train[\"GarageCars\"] ** 2 + 1)\n",
        "df_train[\"GarageCars_TL3\"] = np.log10(df_train[\"GarageCars\"] ** 3 + 1)\n",
        "df_train[\"GarageCars_TSQ\"] = np.sqrt(df_train[\"GarageCars\"])\n",
        "df_train[\"GarageCars_TLOG\"] = np.log10(df_train[\"GarageCars\"] + 1)\n",
        "\n",
        "df_train[\"TotalBath_TL2\"] = np.log10(df_train[\"TotalBath_D\"] ** 2 + 1)\n",
        "df_train[\"TotalBath_TL3\"] = np.log10(df_train[\"TotalBath_D\"] ** 3 + 1)\n",
        "df_train[\"TotalBath_TSQ\"] = np.sqrt(df_train[\"TotalBath_D\"])\n",
        "df_train[\"TotalBath_TLOG\"] = np.log10(df_train[\"TotalBath_D\"] + 1)\n",
        "\n",
        "df_train[\"KitchenQual_TL2\"] = np.log10(df_train[\"KitchenQual_E\"] ** 2 + 1)\n",
        "df_train[\"KitchenQual_TL3\"] = np.log10(df_train[\"KitchenQual_E\"] ** 3 + 1)\n",
        "df_train[\"KitchenQual_TSQ\"] = np.sqrt(df_train[\"KitchenQual_E\"])\n",
        "df_train[\"KitchenQual_TLOG\"] = np.log10(df_train[\"KitchenQual_E\"] + 1)\n",
        "\n",
        "df_train[\"GarageScore_TL2\"] = np.log10(df_train[\"GarageScore_D\"] ** 2 + 1)\n",
        "df_train[\"GarageScore_TL3\"] = np.log10(df_train[\"GarageScore_D\"] ** 3 + 1)\n",
        "df_train[\"GarageScore_TSQ\"] = np.sqrt(df_train[\"GarageScore_D\"])\n",
        "df_train[\"GarageScore_TLOG\"] = np.log10(df_train[\"GarageScore_D\"] + 1)"
      ],
      "execution_count": 0,
      "outputs": []
    },
    {
      "metadata": {
        "id": "TVgzLYFjFf1q",
        "colab_type": "code",
        "colab": {}
      },
      "cell_type": "code",
      "source": [
        "# transformation for test set\n",
        "df_test[\"OverallQual_TL2\"] = np.log10(df_test[\"OverallQual\"] ** 2 + 1)\n",
        "df_test[\"OverallQual_TL3\"] = np.log10(df_test[\"OverallQual\"] ** 3 + 1)\n",
        "df_test[\"OverallQual_TSQ\"] = np.sqrt(df_test[\"OverallQual\"])\n",
        "df_test[\"OverallQual_TLOG\"] = np.log10(df_test[\"OverallQual\"] + 1)\n",
        "\n",
        "df_test[\"AllSF_TL2\"] = np.log10(df_test[\"AllSF_D\"] ** 2 + 1)\n",
        "df_test[\"AllSF_TL3\"] = np.log10(df_test[\"AllSF_D\"] ** 3 + 1)\n",
        "df_test[\"AllSF_TSQ\"] = np.sqrt(df_test[\"AllSF_D\"])\n",
        "df_test[\"AllSF_TLOG\"] = np.log10(df_test[\"AllSF_D\"] + 1)\n",
        "\n",
        "df_test[\"AllFlrsSF_TL2\"] = np.log10(df_test[\"AllFlrsSF_D\"] ** 2 + 1)\n",
        "df_test[\"AllFlrsSF_TL3\"] = np.log10(df_test[\"AllFlrsSF_D\"] ** 3 + 1)\n",
        "df_test[\"AllFlrsSF_TSQ\"] = np.sqrt(df_test[\"AllFlrsSF_D\"])\n",
        "df_test[\"AllFlrsSF_TLOG\"] = np.log10(df_test[\"AllFlrsSF_D\"] + 1)\n",
        "\n",
        "df_test[\"GrLivArea_TL2\"] = np.log10(df_test[\"GrLivArea\"] ** 2 + 1)\n",
        "df_test[\"GrLivArea_TL3\"] = np.log10(df_test[\"GrLivArea\"] ** 3 + 1)\n",
        "df_test[\"GrLivArea_TSQ\"] = np.sqrt(df_test[\"GrLivArea\"])\n",
        "df_test[\"GrLivArea_TLOG\"] = np.log10(df_test[\"GrLivArea\"] + 1)\n",
        "\n",
        "df_test[\"SimplOverallQual_TL2\"] = np.log10(df_test[\"SimplOverallQual_S\"] ** 2 + 1)\n",
        "df_test[\"SimplOverallQual_TL3\"] = np.log10(df_test[\"SimplOverallQual_S\"] ** 3 + 1)\n",
        "df_test[\"SimplOverallQual_TSQ\"] = np.sqrt(df_test[\"SimplOverallQual_S\"])\n",
        "df_test[\"SimplOverallQual_TLOG\"] = np.log10(df_test[\"SimplOverallQual_S\"] + 1)\n",
        "\n",
        "df_test[\"ExterQual_TL2\"] = np.log10(df_test[\"ExterQual_E\"] ** 2 + 1)\n",
        "df_test[\"ExterQual_TL3\"] = np.log10(df_test[\"ExterQual_E\"] ** 3 + 1)\n",
        "df_test[\"ExterQual_TSQ\"] = np.sqrt(df_test[\"ExterQual_E\"])\n",
        "df_test[\"ExterQual_TLOG\"] = np.log10(df_test[\"ExterQual_E\"] + 1) \n",
        "\n",
        "df_test[\"GarageCars_TL2\"] = np.log10(df_test[\"GarageCars\"] ** 2 + 1)\n",
        "df_test[\"GarageCars_TL3\"] = np.log10(df_test[\"GarageCars\"] ** 3 + 1)\n",
        "df_test[\"GarageCars_TSQ\"] = np.sqrt(df_test[\"GarageCars\"])\n",
        "df_test[\"GarageCars_TLOG\"] = np.log10(df_test[\"GarageCars\"] + 1)\n",
        "\n",
        "df_test[\"TotalBath_TL2\"] = np.log10(df_test[\"TotalBath_D\"] ** 2 + 1)\n",
        "df_test[\"TotalBath_TL3\"] = np.log10(df_test[\"TotalBath_D\"] ** 3 + 1)\n",
        "df_test[\"TotalBath_TSQ\"] = np.sqrt(df_test[\"TotalBath_D\"])\n",
        "df_test[\"TotalBath_TLOG\"] = np.log10(df_test[\"TotalBath_D\"] + 1)\n",
        "\n",
        "df_test[\"KitchenQual_TL2\"] = np.log10(df_test[\"KitchenQual_E\"] ** 2 + 1)\n",
        "df_test[\"KitchenQual_TL3\"] = np.log10(df_test[\"KitchenQual_E\"] ** 3 + 1)\n",
        "df_test[\"KitchenQual_TSQ\"] = np.sqrt(df_test[\"KitchenQual_E\"])\n",
        "df_test[\"KitchenQual_TLOG\"] = np.log10(df_test[\"KitchenQual_E\"] + 1)\n",
        "\n",
        "df_test[\"GarageScore_TL2\"] = np.log10(df_test[\"GarageScore_D\"] ** 2 + 1)\n",
        "df_test[\"GarageScore_TL3\"] = np.log10(df_test[\"GarageScore_D\"] ** 3 + 1)\n",
        "df_test[\"GarageScore_TSQ\"] = np.sqrt(df_test[\"GarageScore_D\"])\n",
        "df_test[\"GarageScore_TLOG\"] = np.log10(df_test[\"GarageScore_D\"] + 1)"
      ],
      "execution_count": 0,
      "outputs": []
    },
    {
      "metadata": {
        "id": "uMRqfDi7FjbQ",
        "colab_type": "code",
        "colab": {}
      },
      "cell_type": "code",
      "source": [
        "cat_vars_T = ['OverallQual_TL2', 'OverallQual_TL3', 'OverallQual_TSQ', 'OverallQual_TLOG',\n",
        "              'AllSF_TL2', 'AllSF_TL3', 'AllSF_TSQ', 'AllSF_TLOG', 'AllFlrsSF_TL2', \n",
        "              'AllFlrsSF_TL3', 'AllFlrsSF_TSQ', 'AllFlrsSF_TLOG', 'GrLivArea_TL2', \n",
        "              'GrLivArea_TL3', 'GrLivArea_TSQ', 'GrLivArea_TLOG', 'SimplOverallQual_TL2',\n",
        "              'SimplOverallQual_TL3', 'SimplOverallQual_TSQ', 'SimplOverallQual_TLOG', \n",
        "              'ExterQual_TL2', 'ExterQual_TL3', 'ExterQual_TSQ', 'ExterQual_TLOG', \n",
        "              'GarageCars_TL2', 'GarageCars_TL3', 'GarageCars_TSQ', 'GarageCars_TLOG', \n",
        "              'TotalBath_TL2', 'TotalBath_TL3', 'TotalBath_TSQ', 'TotalBath_TLOG', \n",
        "              'KitchenQual_TL2', 'KitchenQual_TL3', 'KitchenQual_TSQ', 'KitchenQual_TLOG',\n",
        "              'GarageScore_TL2', 'GarageScore_TL3', 'GarageScore_TSQ', 'GarageScore_TLOG']"
      ],
      "execution_count": 0,
      "outputs": []
    },
    {
      "metadata": {
        "id": "C3sBLogdFm75",
        "colab_type": "code",
        "outputId": "cd1df561-52ae-413d-fde2-f0984e50b722",
        "colab": {
          "base_uri": "https://localhost:8080/",
          "height": 35
        }
      },
      "cell_type": "code",
      "source": [
        "len(num_vars) + len(cat_vars_Enc) + len(cat_vars_D) + len(cat_vars_S) + len(cat_vars_T)"
      ],
      "execution_count": 0,
      "outputs": [
        {
          "output_type": "execute_result",
          "data": {
            "text/plain": [
              "153"
            ]
          },
          "metadata": {
            "tags": []
          },
          "execution_count": 72
        }
      ]
    },
    {
      "metadata": {
        "id": "4wDL8dEwFrTX",
        "colab_type": "code",
        "outputId": "78053c78-a105-42b7-dd6d-223cbfdb6038",
        "colab": {
          "base_uri": "https://localhost:8080/",
          "height": 35
        }
      },
      "cell_type": "code",
      "source": [
        "all_vars = num_vars + cat_vars_Enc + cat_vars_D + cat_vars_S + cat_vars_T\n",
        "len(all_vars)"
      ],
      "execution_count": 0,
      "outputs": [
        {
          "output_type": "execute_result",
          "data": {
            "text/plain": [
              "153"
            ]
          },
          "metadata": {
            "tags": []
          },
          "execution_count": 73
        }
      ]
    },
    {
      "metadata": {
        "id": "GJ5TA9YDFzmR",
        "colab_type": "code",
        "outputId": "4cd44b3d-df9e-44a2-9c42-94d91cceaeea",
        "colab": {
          "base_uri": "https://localhost:8080/",
          "height": 35
        }
      },
      "cell_type": "code",
      "source": [
        "output_var"
      ],
      "execution_count": 0,
      "outputs": [
        {
          "output_type": "execute_result",
          "data": {
            "text/plain": [
              "'SalePrice'"
            ]
          },
          "metadata": {
            "tags": []
          },
          "execution_count": 74
        }
      ]
    },
    {
      "metadata": {
        "id": "gfiIxacDF2z0",
        "colab_type": "code",
        "outputId": "1afc67eb-de00-49ec-8364-a60b89f24e1c",
        "colab": {
          "base_uri": "https://localhost:8080/",
          "height": 35
        }
      },
      "cell_type": "code",
      "source": [
        "# clearly in df_test the sales price is missing and this is the variable that the submission wants to forecast\n",
        "df_train.shape, df_test.shape"
      ],
      "execution_count": 0,
      "outputs": [
        {
          "output_type": "execute_result",
          "data": {
            "text/plain": [
              "((1460, 198), (1459, 197))"
            ]
          },
          "metadata": {
            "tags": []
          },
          "execution_count": 75
        }
      ]
    },
    {
      "metadata": {
        "id": "gElWM-vFF5mE",
        "colab_type": "code",
        "colab": {}
      },
      "cell_type": "code",
      "source": [
        "df_train['SalePrice_TLOG'] = np.log10(df_train[[output_var]] + 1)"
      ],
      "execution_count": 0,
      "outputs": []
    },
    {
      "metadata": {
        "id": "oyzCtqFuGBji",
        "colab_type": "text"
      },
      "cell_type": "markdown",
      "source": [
        "<ol>\n",
        "   <li> Split in Training and Test set (p=0.2)\n",
        "   <li>Initialise the RMSLE to +inf\n",
        "   <li> Iterate again to add more variables 3.1. Iterate over the 154 variables in the following way: \n",
        "     <ol>\n",
        "       <li> For i = 1 To 10:\n",
        "         <ol>\n",
        "           <li> Determine Training and Test set\n",
        "           <li> Build the model with the i-th variable on the Training set\n",
        "           <li> Forecast on the Test set and calculate predicted\n",
        "           <li> Calculate the RMSLE comparing predicted Y on Test and real Y on Test           \n",
        "         </ol>\n",
        "         <li>Calculate KPI i-th as the MEDIAN of RMSLE over the 10 validations \n",
        "         <li> If Current KPI > KPI i-th then update Current KPI and include the variable\n",
        "     </ol>\n",
        "     <li> Stop after N iterations if you fail to add a variable\n",
        "</ol>   "
      ]
    },
    {
      "metadata": {
        "id": "tMOlIWtkHCZj",
        "colab_type": "code",
        "colab": {}
      },
      "cell_type": "code",
      "source": [
        "from sklearn.model_selection import train_test_split"
      ],
      "execution_count": 0,
      "outputs": []
    },
    {
      "metadata": {
        "id": "vP4wJqQJHfQs",
        "colab_type": "text"
      },
      "cell_type": "markdown",
      "source": [
        "Since I want to use the formula, I define the variable basket where I put a `v_` to all variables."
      ]
    },
    {
      "metadata": {
        "id": "AisJ5SHwI8ns",
        "colab_type": "code",
        "colab": {}
      },
      "cell_type": "code",
      "source": [
        "new_vars=[]\n",
        "all_vars_rn = []"
      ],
      "execution_count": 0,
      "outputs": []
    },
    {
      "metadata": {
        "id": "gzYCXr6aHN6C",
        "colab_type": "code",
        "outputId": "257a5f13-1401-419d-da52-72bf8aa19a69",
        "colab": {
          "base_uri": "https://localhost:8080/",
          "height": 3632
        }
      },
      "cell_type": "code",
      "source": [
        "vars = df_train.columns\n",
        "new_vars = []\n",
        "for a in vars:\n",
        "    new_vars.append('v_' + a)\n",
        "df_train.columns = new_vars\n",
        "all_vars_rn = []\n",
        "for a in all_vars:\n",
        "    all_vars_rn.append('v_' + a)\n",
        "new_vars"
      ],
      "execution_count": 0,
      "outputs": [
        {
          "output_type": "execute_result",
          "data": {
            "text/plain": [
              "['v_Id',\n",
              " 'v_MSSubClass',\n",
              " 'v_MSZoning',\n",
              " 'v_LotFrontage',\n",
              " 'v_LotArea',\n",
              " 'v_Street',\n",
              " 'v_Alley',\n",
              " 'v_LotShape',\n",
              " 'v_LandContour',\n",
              " 'v_Utilities',\n",
              " 'v_LotConfig',\n",
              " 'v_LandSlope',\n",
              " 'v_Neighborhood',\n",
              " 'v_Condition1',\n",
              " 'v_Condition2',\n",
              " 'v_BldgType',\n",
              " 'v_HouseStyle',\n",
              " 'v_OverallQual',\n",
              " 'v_OverallCond',\n",
              " 'v_YearBuilt',\n",
              " 'v_YearRemodAdd',\n",
              " 'v_RoofStyle',\n",
              " 'v_RoofMatl',\n",
              " 'v_Exterior1st',\n",
              " 'v_Exterior2nd',\n",
              " 'v_MasVnrType',\n",
              " 'v_MasVnrArea',\n",
              " 'v_ExterQual',\n",
              " 'v_ExterCond',\n",
              " 'v_Foundation',\n",
              " 'v_BsmtQual',\n",
              " 'v_BsmtCond',\n",
              " 'v_BsmtExposure',\n",
              " 'v_BsmtFinType1',\n",
              " 'v_BsmtFinSF1',\n",
              " 'v_BsmtFinType2',\n",
              " 'v_BsmtFinSF2',\n",
              " 'v_BsmtUnfSF',\n",
              " 'v_TotalBsmtSF',\n",
              " 'v_Heating',\n",
              " 'v_HeatingQC',\n",
              " 'v_CentralAir',\n",
              " 'v_Electrical',\n",
              " 'v_1stFlrSF',\n",
              " 'v_2ndFlrSF',\n",
              " 'v_LowQualFinSF',\n",
              " 'v_GrLivArea',\n",
              " 'v_BsmtFullBath',\n",
              " 'v_BsmtHalfBath',\n",
              " 'v_FullBath',\n",
              " 'v_HalfBath',\n",
              " 'v_BedroomAbvGr',\n",
              " 'v_KitchenAbvGr',\n",
              " 'v_KitchenQual',\n",
              " 'v_TotRmsAbvGrd',\n",
              " 'v_Functional',\n",
              " 'v_Fireplaces',\n",
              " 'v_FireplaceQu',\n",
              " 'v_GarageType',\n",
              " 'v_GarageYrBlt',\n",
              " 'v_GarageFinish',\n",
              " 'v_GarageCars',\n",
              " 'v_GarageArea',\n",
              " 'v_GarageQual',\n",
              " 'v_GarageCond',\n",
              " 'v_PavedDrive',\n",
              " 'v_WoodDeckSF',\n",
              " 'v_OpenPorchSF',\n",
              " 'v_EnclosedPorch',\n",
              " 'v_3SsnPorch',\n",
              " 'v_ScreenPorch',\n",
              " 'v_PoolArea',\n",
              " 'v_PoolQC',\n",
              " 'v_Fence',\n",
              " 'v_MiscFeature',\n",
              " 'v_MiscVal',\n",
              " 'v_MoSold',\n",
              " 'v_YrSold',\n",
              " 'v_SaleType',\n",
              " 'v_SaleCondition',\n",
              " 'v_SalePrice',\n",
              " 'v_Condition1_E',\n",
              " 'v_MSZoning_E',\n",
              " 'v_Neighborhood_E',\n",
              " 'v_HeatingQC_E',\n",
              " 'v_BsmtQual_E',\n",
              " 'v_PavedDrive_E',\n",
              " 'v_ExterCond_E',\n",
              " 'v_GarageCond_E',\n",
              " 'v_BsmtFinType1_E',\n",
              " 'v_BldgType_E',\n",
              " 'v_GarageQual_E',\n",
              " 'v_Electrical_E',\n",
              " 'v_Street_E',\n",
              " 'v_Exterior2nd_E',\n",
              " 'v_SaleType_E',\n",
              " 'v_Alley_E',\n",
              " 'v_Foundation_E',\n",
              " 'v_Exterior1st_E',\n",
              " 'v_BsmtExposure_E',\n",
              " 'v_MasVnrType_E',\n",
              " 'v_BsmtFinType2_E',\n",
              " 'v_ExterQual_E',\n",
              " 'v_CentralAir_E',\n",
              " 'v_LandContour_E',\n",
              " 'v_GarageFinish_E',\n",
              " 'v_FireplaceQu_E',\n",
              " 'v_BsmtCond_E',\n",
              " 'v_KitchenQual_E',\n",
              " 'v_LandSlope_E',\n",
              " 'v_Condition2_E',\n",
              " 'v_Utilities_E',\n",
              " 'v_LotConfig_E',\n",
              " 'v_Fence_E',\n",
              " 'v_Heating_E',\n",
              " 'v_MiscFeature_E',\n",
              " 'v_HouseStyle_E',\n",
              " 'v_LotShape_E',\n",
              " 'v_GarageType_E',\n",
              " 'v_PoolQC_E',\n",
              " 'v_Functional_E',\n",
              " 'v_RoofMatl_E',\n",
              " 'v_RoofStyle_E',\n",
              " 'v_SaleCondition_E',\n",
              " 'v_SimplOverallQual_S',\n",
              " 'v_SimplOverallCond_S',\n",
              " 'v_SimplPoolQC_S',\n",
              " 'v_SimplGarageCond_S',\n",
              " 'v_SimplGarageQual_S',\n",
              " 'v_SimplFireplaceQu_S',\n",
              " 'v_SimplFunctional_S',\n",
              " 'v_SimplKitchenQual_S',\n",
              " 'v_SimplHeatingQC_S',\n",
              " 'v_SimplBsmtFinType1_S',\n",
              " 'v_SimplBsmtFinType2_S',\n",
              " 'v_SimplBsmtCond_S',\n",
              " 'v_SimplBsmtQual_S',\n",
              " 'v_SimplExterCond_S',\n",
              " 'v_SimplExterQual_S',\n",
              " 'v_BoughtOffPlan_S',\n",
              " 'v_HasMasVnr_S',\n",
              " 'v_OverallGrade_D',\n",
              " 'v_GarageGrade_D',\n",
              " 'v_ExterGrade_D',\n",
              " 'v_KitchenScore_D',\n",
              " 'v_FireplaceScore_D',\n",
              " 'v_GarageScore_D',\n",
              " 'v_PoolScore_D',\n",
              " 'v_SimplOverallGrade_D',\n",
              " 'v_SimplPoolScore_D',\n",
              " 'v_SimplGarageScore_D',\n",
              " 'v_SimplFireplaceScore_D',\n",
              " 'v_SimplKitchenScore_D',\n",
              " 'v_TotalBath_D',\n",
              " 'v_AllSF_D',\n",
              " 'v_AllFlrsSF_D',\n",
              " 'v_AllPorchSF_D',\n",
              " 'v_SimplExterGrade_D',\n",
              " 'v_OverallQual_TL2',\n",
              " 'v_OverallQual_TL3',\n",
              " 'v_OverallQual_TSQ',\n",
              " 'v_OverallQual_TLOG',\n",
              " 'v_AllSF_TL2',\n",
              " 'v_AllSF_TL3',\n",
              " 'v_AllSF_TSQ',\n",
              " 'v_AllSF_TLOG',\n",
              " 'v_AllFlrsSF_TL2',\n",
              " 'v_AllFlrsSF_TL3',\n",
              " 'v_AllFlrsSF_TSQ',\n",
              " 'v_AllFlrsSF_TLOG',\n",
              " 'v_GrLivArea_TL2',\n",
              " 'v_GrLivArea_TL3',\n",
              " 'v_GrLivArea_TSQ',\n",
              " 'v_GrLivArea_TLOG',\n",
              " 'v_SimplOverallQual_TL2',\n",
              " 'v_SimplOverallQual_TL3',\n",
              " 'v_SimplOverallQual_TSQ',\n",
              " 'v_SimplOverallQual_TLOG',\n",
              " 'v_ExterQual_TL2',\n",
              " 'v_ExterQual_TL3',\n",
              " 'v_ExterQual_TSQ',\n",
              " 'v_ExterQual_TLOG',\n",
              " 'v_GarageCars_TL2',\n",
              " 'v_GarageCars_TL3',\n",
              " 'v_GarageCars_TSQ',\n",
              " 'v_GarageCars_TLOG',\n",
              " 'v_TotalBath_TL2',\n",
              " 'v_TotalBath_TL3',\n",
              " 'v_TotalBath_TSQ',\n",
              " 'v_TotalBath_TLOG',\n",
              " 'v_KitchenQual_TL2',\n",
              " 'v_KitchenQual_TL3',\n",
              " 'v_KitchenQual_TSQ',\n",
              " 'v_KitchenQual_TLOG',\n",
              " 'v_GarageScore_TL2',\n",
              " 'v_GarageScore_TL3',\n",
              " 'v_GarageScore_TSQ',\n",
              " 'v_GarageScore_TLOG',\n",
              " 'v_SalePrice_TLOG']"
            ]
          },
          "metadata": {
            "tags": []
          },
          "execution_count": 79
        }
      ]
    },
    {
      "metadata": {
        "id": "fW0simoDHsNF",
        "colab_type": "text"
      },
      "cell_type": "markdown",
      "source": [
        "Now I simulate one iteration and then I need to automate the procedure"
      ]
    },
    {
      "metadata": {
        "id": "IfGb9t6rHXKB",
        "colab_type": "code",
        "colab": {}
      },
      "cell_type": "code",
      "source": [
        "X = df_train[all_vars_rn]\n",
        "yL = df_train[['v_SalePrice_TLOG','v_SalePrice']]\n",
        "X_train, X_test, y_train, y_test = train_test_split(df_train[all_vars_rn], yL, test_size=0.2)"
      ],
      "execution_count": 0,
      "outputs": []
    },
    {
      "metadata": {
        "id": "EXnP7aGSHbln",
        "colab_type": "code",
        "outputId": "100c875e-d2ce-4362-8570-67b742973346",
        "colab": {
          "base_uri": "https://localhost:8080/",
          "height": 35
        }
      },
      "cell_type": "code",
      "source": [
        "X.shape, X_train.shape, yL.shape, y_train.shape, X_test.shape"
      ],
      "execution_count": 0,
      "outputs": [
        {
          "output_type": "execute_result",
          "data": {
            "text/plain": [
              "((1460, 153), (1168, 153), (1460, 2), (1168, 2), (292, 153))"
            ]
          },
          "metadata": {
            "tags": []
          },
          "execution_count": 81
        }
      ]
    },
    {
      "metadata": {
        "id": "SH1DHxVZHy1D",
        "colab_type": "code",
        "outputId": "a25b759a-ecb8-4697-d35c-8bf4024e7e1f",
        "colab": {
          "base_uri": "https://localhost:8080/",
          "height": 35
        }
      },
      "cell_type": "code",
      "source": [
        "all_vars_rn[0]"
      ],
      "execution_count": 0,
      "outputs": [
        {
          "output_type": "execute_result",
          "data": {
            "text/plain": [
              "'v_LotFrontage'"
            ]
          },
          "metadata": {
            "tags": []
          },
          "execution_count": 87
        }
      ]
    },
    {
      "metadata": {
        "id": "MSHzONZXH2oW",
        "colab_type": "code",
        "outputId": "8fb8d53b-956f-4b45-da83-a331348f4460",
        "colab": {
          "base_uri": "https://localhost:8080/",
          "height": 471
        }
      },
      "cell_type": "code",
      "source": [
        "import statsmodels.formula.api as smf\n",
        "df_training = pd.DataFrame()\n",
        "df_training = X_train\n",
        "df_training['v_SalePrice_TLOG'] = y_train['v_SalePrice_TLOG']\n",
        "df_testing = pd.DataFrame()\n",
        "df_testing = X_test\n",
        "df_testing['v_SalePrice_TLOG'] = y_test['v_SalePrice_TLOG']\n",
        "model = smf.ols(formula = 'v_SalePrice_TLOG ~ ' + all_vars_rn[0], data = df_training)\n",
        "fitted = model.fit()\n",
        "print (fitted.summary())"
      ],
      "execution_count": 0,
      "outputs": [
        {
          "output_type": "stream",
          "text": [
            "                            OLS Regression Results                            \n",
            "==============================================================================\n",
            "Dep. Variable:       v_SalePrice_TLOG   R-squared:                       0.127\n",
            "Model:                            OLS   Adj. R-squared:                  0.126\n",
            "Method:                 Least Squares   F-statistic:                     138.8\n",
            "Date:                Wed, 24 Apr 2019   Prob (F-statistic):           5.27e-30\n",
            "Time:                        11:41:23   Log-Likelihood:                 345.25\n",
            "No. Observations:                 956   AIC:                            -686.5\n",
            "Df Residuals:                     954   BIC:                            -676.8\n",
            "Df Model:                           1                                         \n",
            "Covariance Type:            nonrobust                                         \n",
            "=================================================================================\n",
            "                    coef    std err          t      P>|t|      [0.025      0.975]\n",
            "---------------------------------------------------------------------------------\n",
            "Intercept         5.0346      0.017    303.669      0.000       5.002       5.067\n",
            "v_LotFrontage     0.0026      0.000     11.780      0.000       0.002       0.003\n",
            "==============================================================================\n",
            "Omnibus:                        7.213   Durbin-Watson:                   1.992\n",
            "Prob(Omnibus):                  0.027   Jarque-Bera (JB):                9.833\n",
            "Skew:                           0.008   Prob(JB):                      0.00732\n",
            "Kurtosis:                       3.497   Cond. No.                         227.\n",
            "==============================================================================\n",
            "\n",
            "Warnings:\n",
            "[1] Standard Errors assume that the covariance matrix of the errors is correctly specified.\n"
          ],
          "name": "stdout"
        }
      ]
    },
    {
      "metadata": {
        "id": "jwy29MDpKBq-",
        "colab_type": "code",
        "outputId": "7eed152a-8a40-4916-9931-ac532e0b7e94",
        "colab": {
          "base_uri": "https://localhost:8080/",
          "height": 35
        }
      },
      "cell_type": "code",
      "source": [
        "# checking the performance of the current variable\n",
        "y_NewLog = fitted.predict(df_testing)\n",
        "y_New = y_NewLog.apply(lambda x: 10 ** x)\n",
        "tpl = (all_vars_rn[0],rmsle(y_New, y_test['v_SalePrice']))\n",
        "tpl"
      ],
      "execution_count": 0,
      "outputs": [
        {
          "output_type": "execute_result",
          "data": {
            "text/plain": [
              "('v_LotFrontage', 0.39011909884981033)"
            ]
          },
          "metadata": {
            "tags": []
          },
          "execution_count": 94
        }
      ]
    },
    {
      "metadata": {
        "id": "7-uGc5HGLhCK",
        "colab_type": "code",
        "outputId": "f0c10680-4e13-4a47-e10c-8429a9f12cb3",
        "colab": {
          "base_uri": "https://localhost:8080/",
          "height": 431
        }
      },
      "cell_type": "code",
      "source": [
        "# setting for the iteration\n",
        "rs = 1 #random_state\n",
        "perf_iter = []\n",
        "perf_var = []\n",
        "\n",
        "\n",
        "for i in range(100):\n",
        "  form = 'v_SalePrice_TLOG ~ ' + all_vars_rn[i] # formula\n",
        "  perf_iter = []\n",
        "  # in order to make the procedure not dependent from the data we do a sort of\n",
        "  # cross validation changing test and train set each time\n",
        "\n",
        "  for cross in range(10):\n",
        "    # Step 1: change the train and test set\n",
        "    X_train, X_test, y_train, y_test = train_test_split(df_train[all_vars_rn], \n",
        "                                                        yL, \n",
        "                                                        test_size=0.2,\n",
        "                                                        random_state = rs)\n",
        "    # Step 2: fit the model\n",
        "    df_training = pd.DataFrame()\n",
        "    df_training = X_train\n",
        "    df_training['v_SalePrice_TLOG'] = y_train['v_SalePrice_TLOG']\n",
        "    df_testing = pd.DataFrame()\n",
        "    df_testing = X_test\n",
        "    df_testing['v_SalePrice_TLOG'] = y_test['v_SalePrice_TLOG']\n",
        "    model_tmp = smf.ols(formula = form, data = df_training)\n",
        "    fitted_tmp = model_tmp.fit()\n",
        "\n",
        "    # Step 3: calculate the performance\n",
        "    y_NewLog_tmp = fitted_tmp.predict(df_testing)\n",
        "    y_New_tmp = y_NewLog_tmp.apply(lambda x: 10 ** x)\n",
        "    tpl = (all_vars_rn[i], rmsle(y_New_tmp, y_test['v_SalePrice']))\n",
        "    perf_iter.append(tpl)\n",
        "    rs += 1\n",
        "\n",
        "\n",
        "  # at the end we need to take the median of the RMSLE that we obtain sorting the\n",
        "  # list by the second element and we take the average between element 4 and 5\n",
        "  perf_iter = sorted(perf_iter, key=lambda x: x[1])\n",
        "  perf_iter_tpl = (all_vars_rn[i], (perf_iter[4][1] + perf_iter[5][1]) / 2 )\n",
        "  # at the end we have the variable name and the median of the RMSLE \n",
        "  perf_var.append(perf_iter_tpl)\n",
        "\n",
        "perf_var = sorted(perf_var, key=lambda x: x[1])\n",
        "perf_var"
      ],
      "execution_count": 0,
      "outputs": [
        {
          "output_type": "error",
          "ename": "OverflowError",
          "evalue": "ignored",
          "traceback": [
            "\u001b[0;31m---------------------------------------------------------------------------\u001b[0m",
            "\u001b[0;31mOverflowError\u001b[0m                             Traceback (most recent call last)",
            "\u001b[0;32m<ipython-input-120-a1aefdf3749d>\u001b[0m in \u001b[0;36m<module>\u001b[0;34m()\u001b[0m\n\u001b[1;32m     28\u001b[0m     \u001b[0;31m# Step 3: calculate the performance\u001b[0m\u001b[0;34m\u001b[0m\u001b[0;34m\u001b[0m\u001b[0;34m\u001b[0m\u001b[0m\n\u001b[1;32m     29\u001b[0m     \u001b[0my_NewLog_tmp\u001b[0m \u001b[0;34m=\u001b[0m \u001b[0mfitted_tmp\u001b[0m\u001b[0;34m.\u001b[0m\u001b[0mpredict\u001b[0m\u001b[0;34m(\u001b[0m\u001b[0mdf_testing\u001b[0m\u001b[0;34m)\u001b[0m\u001b[0;34m\u001b[0m\u001b[0;34m\u001b[0m\u001b[0m\n\u001b[0;32m---> 30\u001b[0;31m     \u001b[0my_New_tmp\u001b[0m \u001b[0;34m=\u001b[0m \u001b[0my_NewLog_tmp\u001b[0m\u001b[0;34m.\u001b[0m\u001b[0mapply\u001b[0m\u001b[0;34m(\u001b[0m\u001b[0;32mlambda\u001b[0m \u001b[0mx\u001b[0m\u001b[0;34m:\u001b[0m \u001b[0;36m10\u001b[0m \u001b[0;34m**\u001b[0m \u001b[0mx\u001b[0m\u001b[0;34m)\u001b[0m\u001b[0;34m\u001b[0m\u001b[0;34m\u001b[0m\u001b[0m\n\u001b[0m\u001b[1;32m     31\u001b[0m     \u001b[0mtpl\u001b[0m \u001b[0;34m=\u001b[0m \u001b[0;34m(\u001b[0m\u001b[0mall_vars_rn\u001b[0m\u001b[0;34m[\u001b[0m\u001b[0mi\u001b[0m\u001b[0;34m]\u001b[0m\u001b[0;34m,\u001b[0m \u001b[0mrmsle\u001b[0m\u001b[0;34m(\u001b[0m\u001b[0my_New_tmp\u001b[0m\u001b[0;34m,\u001b[0m \u001b[0my_test\u001b[0m\u001b[0;34m[\u001b[0m\u001b[0;34m'v_SalePrice'\u001b[0m\u001b[0;34m]\u001b[0m\u001b[0;34m)\u001b[0m\u001b[0;34m)\u001b[0m\u001b[0;34m\u001b[0m\u001b[0;34m\u001b[0m\u001b[0m\n\u001b[1;32m     32\u001b[0m     \u001b[0mperf_iter\u001b[0m\u001b[0;34m.\u001b[0m\u001b[0mappend\u001b[0m\u001b[0;34m(\u001b[0m\u001b[0mtpl\u001b[0m\u001b[0;34m)\u001b[0m\u001b[0;34m\u001b[0m\u001b[0;34m\u001b[0m\u001b[0m\n",
            "\u001b[0;32m/usr/local/lib/python3.6/dist-packages/pandas/core/series.py\u001b[0m in \u001b[0;36mapply\u001b[0;34m(self, func, convert_dtype, args, **kwds)\u001b[0m\n\u001b[1;32m   3589\u001b[0m             \u001b[0;32melse\u001b[0m\u001b[0;34m:\u001b[0m\u001b[0;34m\u001b[0m\u001b[0;34m\u001b[0m\u001b[0m\n\u001b[1;32m   3590\u001b[0m                 \u001b[0mvalues\u001b[0m \u001b[0;34m=\u001b[0m \u001b[0mself\u001b[0m\u001b[0;34m.\u001b[0m\u001b[0mastype\u001b[0m\u001b[0;34m(\u001b[0m\u001b[0mobject\u001b[0m\u001b[0;34m)\u001b[0m\u001b[0;34m.\u001b[0m\u001b[0mvalues\u001b[0m\u001b[0;34m\u001b[0m\u001b[0;34m\u001b[0m\u001b[0m\n\u001b[0;32m-> 3591\u001b[0;31m                 \u001b[0mmapped\u001b[0m \u001b[0;34m=\u001b[0m \u001b[0mlib\u001b[0m\u001b[0;34m.\u001b[0m\u001b[0mmap_infer\u001b[0m\u001b[0;34m(\u001b[0m\u001b[0mvalues\u001b[0m\u001b[0;34m,\u001b[0m \u001b[0mf\u001b[0m\u001b[0;34m,\u001b[0m \u001b[0mconvert\u001b[0m\u001b[0;34m=\u001b[0m\u001b[0mconvert_dtype\u001b[0m\u001b[0;34m)\u001b[0m\u001b[0;34m\u001b[0m\u001b[0;34m\u001b[0m\u001b[0m\n\u001b[0m\u001b[1;32m   3592\u001b[0m \u001b[0;34m\u001b[0m\u001b[0m\n\u001b[1;32m   3593\u001b[0m         \u001b[0;32mif\u001b[0m \u001b[0mlen\u001b[0m\u001b[0;34m(\u001b[0m\u001b[0mmapped\u001b[0m\u001b[0;34m)\u001b[0m \u001b[0;32mand\u001b[0m \u001b[0misinstance\u001b[0m\u001b[0;34m(\u001b[0m\u001b[0mmapped\u001b[0m\u001b[0;34m[\u001b[0m\u001b[0;36m0\u001b[0m\u001b[0;34m]\u001b[0m\u001b[0;34m,\u001b[0m \u001b[0mSeries\u001b[0m\u001b[0;34m)\u001b[0m\u001b[0;34m:\u001b[0m\u001b[0;34m\u001b[0m\u001b[0;34m\u001b[0m\u001b[0m\n",
            "\u001b[0;32mpandas/_libs/lib.pyx\u001b[0m in \u001b[0;36mpandas._libs.lib.map_infer\u001b[0;34m()\u001b[0m\n",
            "\u001b[0;32m<ipython-input-120-a1aefdf3749d>\u001b[0m in \u001b[0;36m<lambda>\u001b[0;34m(x)\u001b[0m\n\u001b[1;32m     28\u001b[0m     \u001b[0;31m# Step 3: calculate the performance\u001b[0m\u001b[0;34m\u001b[0m\u001b[0;34m\u001b[0m\u001b[0;34m\u001b[0m\u001b[0m\n\u001b[1;32m     29\u001b[0m     \u001b[0my_NewLog_tmp\u001b[0m \u001b[0;34m=\u001b[0m \u001b[0mfitted_tmp\u001b[0m\u001b[0;34m.\u001b[0m\u001b[0mpredict\u001b[0m\u001b[0;34m(\u001b[0m\u001b[0mdf_testing\u001b[0m\u001b[0;34m)\u001b[0m\u001b[0;34m\u001b[0m\u001b[0;34m\u001b[0m\u001b[0m\n\u001b[0;32m---> 30\u001b[0;31m     \u001b[0my_New_tmp\u001b[0m \u001b[0;34m=\u001b[0m \u001b[0my_NewLog_tmp\u001b[0m\u001b[0;34m.\u001b[0m\u001b[0mapply\u001b[0m\u001b[0;34m(\u001b[0m\u001b[0;32mlambda\u001b[0m \u001b[0mx\u001b[0m\u001b[0;34m:\u001b[0m \u001b[0;36m10\u001b[0m \u001b[0;34m**\u001b[0m \u001b[0mx\u001b[0m\u001b[0;34m)\u001b[0m\u001b[0;34m\u001b[0m\u001b[0;34m\u001b[0m\u001b[0m\n\u001b[0m\u001b[1;32m     31\u001b[0m     \u001b[0mtpl\u001b[0m \u001b[0;34m=\u001b[0m \u001b[0;34m(\u001b[0m\u001b[0mall_vars_rn\u001b[0m\u001b[0;34m[\u001b[0m\u001b[0mi\u001b[0m\u001b[0;34m]\u001b[0m\u001b[0;34m,\u001b[0m \u001b[0mrmsle\u001b[0m\u001b[0;34m(\u001b[0m\u001b[0my_New_tmp\u001b[0m\u001b[0;34m,\u001b[0m \u001b[0my_test\u001b[0m\u001b[0;34m[\u001b[0m\u001b[0;34m'v_SalePrice'\u001b[0m\u001b[0;34m]\u001b[0m\u001b[0;34m)\u001b[0m\u001b[0;34m)\u001b[0m\u001b[0;34m\u001b[0m\u001b[0;34m\u001b[0m\u001b[0m\n\u001b[1;32m     32\u001b[0m     \u001b[0mperf_iter\u001b[0m\u001b[0;34m.\u001b[0m\u001b[0mappend\u001b[0m\u001b[0;34m(\u001b[0m\u001b[0mtpl\u001b[0m\u001b[0;34m)\u001b[0m\u001b[0;34m\u001b[0m\u001b[0;34m\u001b[0m\u001b[0m\n",
            "\u001b[0;31mOverflowError\u001b[0m: (34, 'Numerical result out of range')"
          ]
        }
      ]
    },
    {
      "metadata": {
        "id": "plNdtbldPEWN",
        "colab_type": "code",
        "outputId": "46302f73-7b10-40d4-928d-4a19385ae2bc",
        "colab": {
          "base_uri": "https://localhost:8080/",
          "height": 35
        }
      },
      "cell_type": "code",
      "source": [
        "perf_iter = (all_vars_rn[0], (perf_iter[4][1] + perf_iter[5][1]) / 2 )\n",
        "perf_iter"
      ],
      "execution_count": 0,
      "outputs": [
        {
          "output_type": "execute_result",
          "data": {
            "text/plain": [
              "('v_LotFrontage', 0.392020512194172)"
            ]
          },
          "metadata": {
            "tags": []
          },
          "execution_count": 108
        }
      ]
    }
  ]
}
